{
 "cells": [
  {
   "cell_type": "markdown",
   "metadata": {},
   "source": [
    "<img src=\"../data/logo.png\" width=\"420px\">\n",
    "\n",
    "# <span style=\"font-family:Cascadia mono; color:#db5a5a\">TODOIST AUTOMATION - RETU\n",
    "</span>"
   ]
  },
  {
   "cell_type": "markdown",
   "metadata": {},
   "source": [
    "## <span style=\"font-family:Cascadia mono; color:#db6a6a\">Settings</span>"
   ]
  },
  {
   "cell_type": "code",
   "execution_count": 3,
   "metadata": {},
   "outputs": [
    {
     "name": "stdout",
     "output_type": "stream",
     "text": [
      "Requirement already satisfied: azure-functions in c:\\users\\diego\\onedrive\\belgeler\\github\\todoist\\.venv\\lib\\site-packages (from -r requirements.txt (line 1)) (1.19.0)\n",
      "Collecting azure-storage-blob==12.20.0 (from -r requirements.txt (line 2))\n",
      "  Downloading azure_storage_blob-12.20.0-py3-none-any.whl.metadata (26 kB)\n",
      "Requirement already satisfied: python-dotenv==1.0.1 in c:\\users\\diego\\onedrive\\belgeler\\github\\todoist\\.venv\\lib\\site-packages (from -r requirements.txt (line 3)) (1.0.1)\n",
      "Requirement already satisfied: todoist_api_python==2.1.3 in c:\\users\\diego\\onedrive\\belgeler\\github\\todoist\\.venv\\lib\\site-packages (from -r requirements.txt (line 4)) (2.1.3)\n",
      "Collecting pandas==2.2.2 (from -r requirements.txt (line 5))\n",
      "  Using cached pandas-2.2.2-cp311-cp311-win_amd64.whl.metadata (19 kB)\n",
      "Collecting spacy==3.7.4 (from -r requirements.txt (line 6))\n",
      "  Downloading spacy-3.7.4-cp311-cp311-win_amd64.whl.metadata (27 kB)\n",
      "Collecting azure-core>=1.28.0 (from azure-storage-blob==12.20.0->-r requirements.txt (line 2))\n",
      "  Downloading azure_core-1.30.2-py3-none-any.whl.metadata (37 kB)\n",
      "Collecting cryptography>=2.1.4 (from azure-storage-blob==12.20.0->-r requirements.txt (line 2))\n",
      "  Downloading cryptography-42.0.8-cp39-abi3-win_amd64.whl.metadata (5.4 kB)\n",
      "Requirement already satisfied: typing-extensions>=4.6.0 in c:\\users\\diego\\onedrive\\belgeler\\github\\todoist\\.venv\\lib\\site-packages (from azure-storage-blob==12.20.0->-r requirements.txt (line 2)) (4.10.0)\n",
      "Collecting isodate>=0.6.1 (from azure-storage-blob==12.20.0->-r requirements.txt (line 2))\n",
      "  Downloading isodate-0.6.1-py2.py3-none-any.whl.metadata (9.6 kB)\n",
      "Requirement already satisfied: requests<3.0.0,>=2.26.0 in c:\\users\\diego\\onedrive\\belgeler\\github\\todoist\\.venv\\lib\\site-packages (from todoist_api_python==2.1.3->-r requirements.txt (line 4)) (2.31.0)\n",
      "Collecting numpy>=1.23.2 (from pandas==2.2.2->-r requirements.txt (line 5))\n",
      "  Using cached numpy-1.26.4-cp311-cp311-win_amd64.whl.metadata (61 kB)\n",
      "Requirement already satisfied: python-dateutil>=2.8.2 in c:\\users\\diego\\onedrive\\belgeler\\github\\todoist\\.venv\\lib\\site-packages (from pandas==2.2.2->-r requirements.txt (line 5)) (2.9.0.post0)\n",
      "Collecting pytz>=2020.1 (from pandas==2.2.2->-r requirements.txt (line 5))\n",
      "  Using cached pytz-2024.1-py2.py3-none-any.whl.metadata (22 kB)\n",
      "Collecting tzdata>=2022.7 (from pandas==2.2.2->-r requirements.txt (line 5))\n",
      "  Using cached tzdata-2024.1-py2.py3-none-any.whl.metadata (1.4 kB)\n",
      "Collecting spacy-legacy<3.1.0,>=3.0.11 (from spacy==3.7.4->-r requirements.txt (line 6))\n",
      "  Downloading spacy_legacy-3.0.12-py2.py3-none-any.whl.metadata (2.8 kB)\n",
      "Collecting spacy-loggers<2.0.0,>=1.0.0 (from spacy==3.7.4->-r requirements.txt (line 6))\n",
      "  Downloading spacy_loggers-1.0.5-py3-none-any.whl.metadata (23 kB)\n",
      "Collecting murmurhash<1.1.0,>=0.28.0 (from spacy==3.7.4->-r requirements.txt (line 6))\n",
      "  Downloading murmurhash-1.0.10-cp311-cp311-win_amd64.whl.metadata (2.0 kB)\n",
      "Collecting cymem<2.1.0,>=2.0.2 (from spacy==3.7.4->-r requirements.txt (line 6))\n",
      "  Downloading cymem-2.0.8-cp311-cp311-win_amd64.whl.metadata (8.6 kB)\n",
      "Collecting preshed<3.1.0,>=3.0.2 (from spacy==3.7.4->-r requirements.txt (line 6))\n",
      "  Downloading preshed-3.0.9-cp311-cp311-win_amd64.whl.metadata (2.2 kB)\n",
      "Collecting thinc<8.3.0,>=8.2.2 (from spacy==3.7.4->-r requirements.txt (line 6))\n",
      "  Downloading thinc-8.2.4-cp311-cp311-win_amd64.whl.metadata (15 kB)\n",
      "Collecting wasabi<1.2.0,>=0.9.1 (from spacy==3.7.4->-r requirements.txt (line 6))\n",
      "  Downloading wasabi-1.1.3-py3-none-any.whl.metadata (28 kB)\n",
      "Collecting srsly<3.0.0,>=2.4.3 (from spacy==3.7.4->-r requirements.txt (line 6))\n",
      "  Downloading srsly-2.4.8-cp311-cp311-win_amd64.whl.metadata (20 kB)\n",
      "Collecting catalogue<2.1.0,>=2.0.6 (from spacy==3.7.4->-r requirements.txt (line 6))\n",
      "  Downloading catalogue-2.0.10-py3-none-any.whl.metadata (14 kB)\n",
      "Collecting weasel<0.4.0,>=0.1.0 (from spacy==3.7.4->-r requirements.txt (line 6))\n",
      "  Downloading weasel-0.3.4-py3-none-any.whl.metadata (4.7 kB)\n",
      "Collecting typer<0.10.0,>=0.3.0 (from spacy==3.7.4->-r requirements.txt (line 6))\n",
      "  Downloading typer-0.9.4-py3-none-any.whl.metadata (14 kB)\n",
      "Collecting smart-open<7.0.0,>=5.2.1 (from spacy==3.7.4->-r requirements.txt (line 6))\n",
      "  Downloading smart_open-6.4.0-py3-none-any.whl.metadata (21 kB)\n",
      "Collecting tqdm<5.0.0,>=4.38.0 (from spacy==3.7.4->-r requirements.txt (line 6))\n",
      "  Downloading tqdm-4.66.4-py3-none-any.whl.metadata (57 kB)\n",
      "     ---------------------------------------- 0.0/57.6 kB ? eta -:--:--\n",
      "     ---------------------------------------- 57.6/57.6 kB ? eta 0:00:00\n",
      "Requirement already satisfied: pydantic!=1.8,!=1.8.1,<3.0.0,>=1.7.4 in c:\\users\\diego\\onedrive\\belgeler\\github\\todoist\\.venv\\lib\\site-packages (from spacy==3.7.4->-r requirements.txt (line 6)) (1.9.2)\n",
      "Collecting jinja2 (from spacy==3.7.4->-r requirements.txt (line 6))\n",
      "  Downloading jinja2-3.1.4-py3-none-any.whl.metadata (2.6 kB)\n",
      "Requirement already satisfied: setuptools in c:\\users\\diego\\onedrive\\belgeler\\github\\todoist\\.venv\\lib\\site-packages (from spacy==3.7.4->-r requirements.txt (line 6)) (65.5.0)\n",
      "Requirement already satisfied: packaging>=20.0 in c:\\users\\diego\\onedrive\\belgeler\\github\\todoist\\.venv\\lib\\site-packages (from spacy==3.7.4->-r requirements.txt (line 6)) (24.0)\n",
      "Collecting langcodes<4.0.0,>=3.2.0 (from spacy==3.7.4->-r requirements.txt (line 6))\n",
      "  Downloading langcodes-3.4.0-py3-none-any.whl.metadata (29 kB)\n",
      "Requirement already satisfied: six>=1.11.0 in c:\\users\\diego\\onedrive\\belgeler\\github\\todoist\\.venv\\lib\\site-packages (from azure-core>=1.28.0->azure-storage-blob==12.20.0->-r requirements.txt (line 2)) (1.16.0)\n",
      "Collecting cffi>=1.12 (from cryptography>=2.1.4->azure-storage-blob==12.20.0->-r requirements.txt (line 2))\n",
      "  Downloading cffi-1.16.0-cp311-cp311-win_amd64.whl.metadata (1.5 kB)\n",
      "Collecting language-data>=1.2 (from langcodes<4.0.0,>=3.2.0->spacy==3.7.4->-r requirements.txt (line 6))\n",
      "  Downloading language_data-1.2.0-py3-none-any.whl.metadata (4.3 kB)\n",
      "Requirement already satisfied: charset-normalizer<4,>=2 in c:\\users\\diego\\onedrive\\belgeler\\github\\todoist\\.venv\\lib\\site-packages (from requests<3.0.0,>=2.26.0->todoist_api_python==2.1.3->-r requirements.txt (line 4)) (3.3.2)\n",
      "Requirement already satisfied: idna<4,>=2.5 in c:\\users\\diego\\onedrive\\belgeler\\github\\todoist\\.venv\\lib\\site-packages (from requests<3.0.0,>=2.26.0->todoist_api_python==2.1.3->-r requirements.txt (line 4)) (2.10)\n",
      "Requirement already satisfied: urllib3<3,>=1.21.1 in c:\\users\\diego\\onedrive\\belgeler\\github\\todoist\\.venv\\lib\\site-packages (from requests<3.0.0,>=2.26.0->todoist_api_python==2.1.3->-r requirements.txt (line 4)) (1.26.18)\n",
      "Requirement already satisfied: certifi>=2017.4.17 in c:\\users\\diego\\onedrive\\belgeler\\github\\todoist\\.venv\\lib\\site-packages (from requests<3.0.0,>=2.26.0->todoist_api_python==2.1.3->-r requirements.txt (line 4)) (2024.2.2)\n",
      "Collecting blis<0.8.0,>=0.7.8 (from thinc<8.3.0,>=8.2.2->spacy==3.7.4->-r requirements.txt (line 6))\n",
      "  Downloading blis-0.7.11-cp311-cp311-win_amd64.whl.metadata (7.6 kB)\n",
      "Collecting confection<1.0.0,>=0.0.1 (from thinc<8.3.0,>=8.2.2->spacy==3.7.4->-r requirements.txt (line 6))\n",
      "  Downloading confection-0.1.5-py3-none-any.whl.metadata (19 kB)\n",
      "Requirement already satisfied: colorama in c:\\users\\diego\\onedrive\\belgeler\\github\\todoist\\.venv\\lib\\site-packages (from tqdm<5.0.0,>=4.38.0->spacy==3.7.4->-r requirements.txt (line 6)) (0.4.6)\n",
      "Collecting click<9.0.0,>=7.1.1 (from typer<0.10.0,>=0.3.0->spacy==3.7.4->-r requirements.txt (line 6))\n",
      "  Downloading click-8.1.7-py3-none-any.whl.metadata (3.0 kB)\n",
      "Collecting cloudpathlib<0.17.0,>=0.7.0 (from weasel<0.4.0,>=0.1.0->spacy==3.7.4->-r requirements.txt (line 6))\n",
      "  Downloading cloudpathlib-0.16.0-py3-none-any.whl.metadata (14 kB)\n",
      "Collecting MarkupSafe>=2.0 (from jinja2->spacy==3.7.4->-r requirements.txt (line 6))\n",
      "  Downloading MarkupSafe-2.1.5-cp311-cp311-win_amd64.whl.metadata (3.1 kB)\n",
      "Collecting pycparser (from cffi>=1.12->cryptography>=2.1.4->azure-storage-blob==12.20.0->-r requirements.txt (line 2))\n",
      "  Downloading pycparser-2.22-py3-none-any.whl.metadata (943 bytes)\n",
      "Collecting marisa-trie>=0.7.7 (from language-data>=1.2->langcodes<4.0.0,>=3.2.0->spacy==3.7.4->-r requirements.txt (line 6))\n",
      "  Downloading marisa_trie-1.2.0-cp311-cp311-win_amd64.whl.metadata (9.0 kB)\n",
      "Downloading azure_storage_blob-12.20.0-py3-none-any.whl (392 kB)\n",
      "   ---------------------------------------- 0.0/392.2 kB ? eta -:--:--\n",
      "   ---------------------------------------- 392.2/392.2 kB 8.1 MB/s eta 0:00:00\n",
      "Using cached pandas-2.2.2-cp311-cp311-win_amd64.whl (11.6 MB)\n",
      "Downloading spacy-3.7.4-cp311-cp311-win_amd64.whl (12.1 MB)\n",
      "   ---------------------------------------- 0.0/12.1 MB ? eta -:--:--\n",
      "   - -------------------------------------- 0.6/12.1 MB 18.2 MB/s eta 0:00:01\n",
      "   ----- ---------------------------------- 1.8/12.1 MB 22.7 MB/s eta 0:00:01\n",
      "   ------------ --------------------------- 3.8/12.1 MB 30.3 MB/s eta 0:00:01\n",
      "   ----------------- ---------------------- 5.2/12.1 MB 33.3 MB/s eta 0:00:01\n",
      "   ----------------- ---------------------- 5.2/12.1 MB 33.3 MB/s eta 0:00:01\n",
      "   ----------------- ---------------------- 5.2/12.1 MB 33.3 MB/s eta 0:00:01\n",
      "   ----------------- ---------------------- 5.2/12.1 MB 33.3 MB/s eta 0:00:01\n",
      "   ----------------------- ---------------- 7.1/12.1 MB 19.6 MB/s eta 0:00:01\n",
      "   ---------------------------------------  12.1/12.1 MB 32.7 MB/s eta 0:00:01\n",
      "   ---------------------------------------- 12.1/12.1 MB 31.2 MB/s eta 0:00:00\n",
      "Downloading azure_core-1.30.2-py3-none-any.whl (194 kB)\n",
      "   ---------------------------------------- 0.0/194.3 kB ? eta -:--:--\n",
      "   ---------------------------------------- 194.3/194.3 kB ? eta 0:00:00\n",
      "Downloading catalogue-2.0.10-py3-none-any.whl (17 kB)\n",
      "Downloading cryptography-42.0.8-cp39-abi3-win_amd64.whl (2.9 MB)\n",
      "   ---------------------------------------- 0.0/2.9 MB ? eta -:--:--\n",
      "   ---------------------------------------- 2.9/2.9 MB 92.8 MB/s eta 0:00:00\n",
      "Downloading cymem-2.0.8-cp311-cp311-win_amd64.whl (39 kB)\n",
      "Downloading isodate-0.6.1-py2.py3-none-any.whl (41 kB)\n",
      "   ---------------------------------------- 0.0/41.7 kB ? eta -:--:--\n",
      "   ---------------------------------------- 41.7/41.7 kB ? eta 0:00:00\n",
      "Downloading langcodes-3.4.0-py3-none-any.whl (182 kB)\n",
      "   ---------------------------------------- 0.0/182.0 kB ? eta -:--:--\n",
      "   ---------------------------------------- 182.0/182.0 kB ? eta 0:00:00\n",
      "Downloading murmurhash-1.0.10-cp311-cp311-win_amd64.whl (25 kB)\n",
      "Using cached numpy-1.26.4-cp311-cp311-win_amd64.whl (15.8 MB)\n",
      "Downloading preshed-3.0.9-cp311-cp311-win_amd64.whl (122 kB)\n",
      "   ---------------------------------------- 0.0/122.3 kB ? eta -:--:--\n",
      "   ---------------------------------------- 122.3/122.3 kB ? eta 0:00:00\n",
      "Using cached pytz-2024.1-py2.py3-none-any.whl (505 kB)\n",
      "Downloading smart_open-6.4.0-py3-none-any.whl (57 kB)\n",
      "   ---------------------------------------- 0.0/57.0 kB ? eta -:--:--\n",
      "   ---------------------------------------- 57.0/57.0 kB ? eta 0:00:00\n",
      "Downloading spacy_legacy-3.0.12-py2.py3-none-any.whl (29 kB)\n",
      "Downloading spacy_loggers-1.0.5-py3-none-any.whl (22 kB)\n",
      "Downloading srsly-2.4.8-cp311-cp311-win_amd64.whl (479 kB)\n",
      "   ---------------------------------------- 0.0/479.7 kB ? eta -:--:--\n",
      "   --------------------------------------- 479.7/479.7 kB 31.3 MB/s eta 0:00:00\n",
      "Downloading thinc-8.2.4-cp311-cp311-win_amd64.whl (1.5 MB)\n",
      "   ---------------------------------------- 0.0/1.5 MB ? eta -:--:--\n",
      "   ---------------------------------------- 1.5/1.5 MB 91.9 MB/s eta 0:00:00\n",
      "Downloading tqdm-4.66.4-py3-none-any.whl (78 kB)\n",
      "   ---------------------------------------- 0.0/78.3 kB ? eta -:--:--\n",
      "   ---------------------------------------- 78.3/78.3 kB ? eta 0:00:00\n",
      "Downloading typer-0.9.4-py3-none-any.whl (45 kB)\n",
      "   ---------------------------------------- 0.0/46.0 kB ? eta -:--:--\n",
      "   ---------------------------------------- 46.0/46.0 kB ? eta 0:00:00\n",
      "Using cached tzdata-2024.1-py2.py3-none-any.whl (345 kB)\n",
      "Downloading wasabi-1.1.3-py3-none-any.whl (27 kB)\n",
      "Downloading weasel-0.3.4-py3-none-any.whl (50 kB)\n",
      "   ---------------------------------------- 0.0/50.1 kB ? eta -:--:--\n",
      "   ---------------------------------------- 50.1/50.1 kB ? eta 0:00:00\n",
      "Downloading jinja2-3.1.4-py3-none-any.whl (133 kB)\n",
      "   ---------------------------------------- 0.0/133.3 kB ? eta -:--:--\n",
      "   ---------------------------------------- 133.3/133.3 kB ? eta 0:00:00\n",
      "Downloading blis-0.7.11-cp311-cp311-win_amd64.whl (6.6 MB)\n",
      "   ---------------------------------------- 0.0/6.6 MB ? eta -:--:--\n",
      "   ------- -------------------------------- 1.2/6.6 MB 80.6 MB/s eta 0:00:01\n",
      "   ---------------------------- ----------- 4.8/6.6 MB 60.9 MB/s eta 0:00:01\n",
      "   ---------------------------------------- 6.6/6.6 MB 60.5 MB/s eta 0:00:00\n",
      "Downloading cffi-1.16.0-cp311-cp311-win_amd64.whl (181 kB)\n",
      "   ---------------------------------------- 0.0/181.5 kB ? eta -:--:--\n",
      "   ---------------------------------------- 181.5/181.5 kB ? eta 0:00:00\n",
      "Downloading click-8.1.7-py3-none-any.whl (97 kB)\n",
      "   ---------------------------------------- 0.0/97.9 kB ? eta -:--:--\n",
      "   ---------------------------------------- 97.9/97.9 kB ? eta 0:00:00\n",
      "Downloading cloudpathlib-0.16.0-py3-none-any.whl (45 kB)\n",
      "   ---------------------------------------- 0.0/45.0 kB ? eta -:--:--\n",
      "   ---------------------------------------- 45.0/45.0 kB ? eta 0:00:00\n",
      "Downloading confection-0.1.5-py3-none-any.whl (35 kB)\n",
      "Downloading language_data-1.2.0-py3-none-any.whl (5.4 MB)\n",
      "   ---------------------------------------- 0.0/5.4 MB ? eta -:--:--\n",
      "   ---------------------------------------  5.4/5.4 MB 114.2 MB/s eta 0:00:01\n",
      "   ---------------------------------------- 5.4/5.4 MB 85.3 MB/s eta 0:00:00\n",
      "Downloading MarkupSafe-2.1.5-cp311-cp311-win_amd64.whl (17 kB)\n",
      "Downloading marisa_trie-1.2.0-cp311-cp311-win_amd64.whl (152 kB)\n",
      "   ---------------------------------------- 0.0/152.6 kB ? eta -:--:--\n",
      "   ---------------------------------------- 152.6/152.6 kB ? eta 0:00:00\n",
      "Downloading pycparser-2.22-py3-none-any.whl (117 kB)\n",
      "   ---------------------------------------- 0.0/117.6 kB ? eta -:--:--\n",
      "   ---------------------------------------- 117.6/117.6 kB ? eta 0:00:00\n",
      "Installing collected packages: pytz, cymem, wasabi, tzdata, tqdm, spacy-loggers, spacy-legacy, smart-open, pycparser, numpy, murmurhash, MarkupSafe, marisa-trie, isodate, cloudpathlib, click, catalogue, typer, srsly, preshed, pandas, language-data, jinja2, cffi, blis, azure-core, langcodes, cryptography, confection, weasel, thinc, azure-storage-blob, spacy\n",
      "Successfully installed MarkupSafe-2.1.5 azure-core-1.30.2 azure-storage-blob-12.20.0 blis-0.7.11 catalogue-2.0.10 cffi-1.16.0 click-8.1.7 cloudpathlib-0.16.0 confection-0.1.5 cryptography-42.0.8 cymem-2.0.8 isodate-0.6.1 jinja2-3.1.4 langcodes-3.4.0 language-data-1.2.0 marisa-trie-1.2.0 murmurhash-1.0.10 numpy-1.26.4 pandas-2.2.2 preshed-3.0.9 pycparser-2.22 pytz-2024.1 smart-open-6.4.0 spacy-3.7.4 spacy-legacy-3.0.12 spacy-loggers-1.0.5 srsly-2.4.8 thinc-8.2.4 tqdm-4.66.4 typer-0.9.4 tzdata-2024.1 wasabi-1.1.3 weasel-0.3.4\n",
      "Note: you may need to restart the kernel to use updated packages.\n"
     ]
    }
   ],
   "source": [
    "pip install -r requirements.txt"
   ]
  },
  {
   "cell_type": "markdown",
   "metadata": {},
   "source": [
    "### Libraries"
   ]
  },
  {
   "cell_type": "code",
   "execution_count": 4,
   "metadata": {},
   "outputs": [
    {
     "ename": "SyntaxError",
     "evalue": "Lambda expression parameters cannot be parenthesized (functions.py, line 68)",
     "output_type": "error",
     "traceback": [
      "Traceback \u001b[1;36m(most recent call last)\u001b[0m:\n",
      "\u001b[0m  File \u001b[0;32mc:\\Users\\diego\\OneDrive\\Belgeler\\GitHub\\Todoist\\.venv\\Lib\\site-packages\\IPython\\core\\interactiveshell.py:3577\u001b[0m in \u001b[0;35mrun_code\u001b[0m\n    exec(code_obj, self.user_global_ns, self.user_ns)\u001b[0m\n",
      "\u001b[1;36m  Cell \u001b[1;32mIn[4], line 9\u001b[1;36m\n\u001b[1;33m    import functions as fun\u001b[1;36m\n",
      "\u001b[1;36m  File \u001b[1;32mc:\\Users\\diego\\OneDrive\\Belgeler\\GitHub\\Todoist\\.venv\\Lib\\site-packages\\functions.py:68\u001b[1;36m\u001b[0m\n\u001b[1;33m    nodes = tuple(map(lambda (k, v): process_node(inner, k, v),\u001b[0m\n\u001b[1;37m                             ^\u001b[0m\n\u001b[1;31mSyntaxError\u001b[0m\u001b[1;31m:\u001b[0m Lambda expression parameters cannot be parenthesized\n"
     ]
    }
   ],
   "source": [
    "from todoist_api_python.api import TodoistAPI\n",
    "from datetime import datetime, timedelta, timezone\n",
    "import random\n",
    "import json\n",
    "import time\n",
    "import os\n",
    "import sys\n",
    "sys.path.append('..')\n",
    "import functions as fun\n",
    "from dotenv import load_dotenv\n",
    "\n",
    "load_dotenv()"
   ]
  },
  {
   "cell_type": "markdown",
   "metadata": {},
   "source": [
    "### Message"
   ]
  },
  {
   "cell_type": "code",
   "execution_count": null,
   "metadata": {},
   "outputs": [],
   "source": [
    "today = datetime.today()"
   ]
  },
  {
   "cell_type": "code",
   "execution_count": null,
   "metadata": {},
   "outputs": [],
   "source": [
    "messages = [f'Todoist Automation for {today.strftime(\"%Y-%m-%d\")}']"
   ]
  },
  {
   "cell_type": "markdown",
   "metadata": {},
   "source": [
    "### Runtime"
   ]
  },
  {
   "cell_type": "code",
   "execution_count": null,
   "metadata": {},
   "outputs": [],
   "source": [
    "start_time = time.time()"
   ]
  },
  {
   "cell_type": "markdown",
   "metadata": {},
   "source": [
    "### API"
   ]
  },
  {
   "cell_type": "code",
   "execution_count": null,
   "metadata": {},
   "outputs": [],
   "source": [
    "api_token = os.getenv(\"TODOIST_API_TOKEN\")\n",
    "api = TodoistAPI(api_token)"
   ]
  },
  {
   "cell_type": "markdown",
   "metadata": {},
   "source": [
    "## <span style=\"font-family:Cascadia mono; color:#db6a6a\">Data</span>"
   ]
  },
  {
   "cell_type": "markdown",
   "metadata": {},
   "source": [
    "#### Projects"
   ]
  },
  {
   "cell_type": "code",
   "execution_count": null,
   "metadata": {},
   "outputs": [],
   "source": [
    "all_projects = fun.getProjects()\n",
    "projects_dict_id, projects_dict_name = fun.getProjectsDicts(all_projects)"
   ]
  },
  {
   "cell_type": "markdown",
   "metadata": {},
   "source": [
    "#### Tasks"
   ]
  },
  {
   "cell_type": "code",
   "execution_count": null,
   "metadata": {},
   "outputs": [],
   "source": [
    "def refreshTasks():\n",
    "    all_tasks = fun.getTasks()\n",
    "    task_dict_id, task_dict_name = fun.getTasksDicts(all_tasks, projects_dict_id, projects_dict_name)\n",
    "    return all_tasks, task_dict_id, task_dict_name"
   ]
  },
  {
   "cell_type": "code",
   "execution_count": null,
   "metadata": {},
   "outputs": [],
   "source": [
    "all_tasks, task_dict_id, task_dict_name = refreshTasks()"
   ]
  },
  {
   "cell_type": "markdown",
   "metadata": {},
   "source": [
    "#### Sections"
   ]
  },
  {
   "cell_type": "code",
   "execution_count": null,
   "metadata": {},
   "outputs": [],
   "source": [
    "all_sections = fun.getSections()\n",
    "sections_dict_id, sections_dict_name = fun.getSectionsDicts(all_sections)"
   ]
  },
  {
   "cell_type": "markdown",
   "metadata": {},
   "source": [
    "#### Test"
   ]
  },
  {
   "cell_type": "code",
   "execution_count": null,
   "metadata": {},
   "outputs": [],
   "source": [
    "index = random.randint(0,len(all_tasks))\n",
    "print(index)\n",
    "try:\n",
    "    print(all_tasks[index]['content'], \"-\", all_tasks[index]['due']['date'], \"-\", projects_dict_id[all_tasks[index]['project_id']])\n",
    "except TypeError:\n",
    "    print(all_tasks[index]['content'], \"-\", \"No date\" , \"-\",projects_dict_id[all_tasks[index]['project_id']],)"
   ]
  },
  {
   "cell_type": "markdown",
   "metadata": {},
   "source": [
    "#### Labels"
   ]
  },
  {
   "cell_type": "code",
   "execution_count": null,
   "metadata": {},
   "outputs": [],
   "source": [
    "label_names=[]\n",
    "for task in all_tasks:\n",
    "    gross_labels=task['labels']\n",
    "    for label in gross_labels:\n",
    "        if label not in label_names:\n",
    "            label_names.append(label)\n",
    "label_names"
   ]
  },
  {
   "cell_type": "markdown",
   "metadata": {},
   "source": [
    "\n",
    "## <span style=\"font-family:Cascadia mono; color:#db6a6a\">Orders</span>"
   ]
  },
  {
   "cell_type": "markdown",
   "metadata": {},
   "source": [
    "#### <span style=\"font-family:Cascadia mono; color:silver\">Create and edit tasks</span>"
   ]
  },
  {
   "cell_type": "code",
   "execution_count": null,
   "metadata": {},
   "outputs": [],
   "source": [
    "def createTask(\n",
    "    content = \"Tarea creada automáticamente\",\n",
    "    description = None,\n",
    "    project_id = projects_dict_name['Inbox'],\n",
    "    section_id = None,\n",
    "    parent_id = None,\n",
    "    order = 1,\n",
    "    labels = [],\n",
    "    priority = 1,\n",
    "    comment_count = 0,\n",
    "    due_string = None,\n",
    "    due_date = None,\n",
    "    due_datetime = None,\n",
    "    due_lang = None,\n",
    "    assignee_id = None,\n",
    "    duration = None,\n",
    "    duration_unit = None\n",
    "):\n",
    "    for label in labels:\n",
    "        if label not in label_names:\n",
    "            return f'La etiqueta {label} no existe'\n",
    "    try:\n",
    "        task = api.add_task(\n",
    "            assignee_id = assignee_id,\n",
    "            comment_count = comment_count,\n",
    "            content = content,\n",
    "            description = description,\n",
    "            due_string = due_string,\n",
    "            due_date = due_date,\n",
    "            due_datetime = due_datetime,\n",
    "            due_lang = due_lang,\n",
    "            duration = duration,\n",
    "            labels = labels,\n",
    "            order = order,\n",
    "            priority = fun.priorityInversal(priority),\n",
    "            project_id = project_id,\n",
    "            section_id = section_id,\n",
    "            parent_id = parent_id,\n",
    "            duration_unit = duration_unit\n",
    "        )\n",
    "        message = f'Task \"{task.content}\" ({task.id}) was created correctly'\n",
    "        print(message)\n",
    "        return message\n",
    "    except Exception as error:\n",
    "        print (error)\n",
    "        return error\n",
    "        \n",
    "def editTask(\n",
    "    task_id,\n",
    "    content = None,\n",
    "    assignee_id = None,\n",
    "    description = None,\n",
    "    due_date = None,\n",
    "    due_string = None,\n",
    "    due_datetime = None,\n",
    "    labels = None,\n",
    "    priority = None,\n",
    "):\n",
    "    task = api.get_task(task_id)\n",
    "    labels = task.labels if labels == None else labels\n",
    "    content = task.content if content == None else content\n",
    "    for label in labels:\n",
    "        if label not in label_names:\n",
    "            return f'La etiqueta {label} no existe'\n",
    "    try:\n",
    "        api.update_task(\n",
    "            task_id = task_id,\n",
    "            assignee_id = assignee_id,\n",
    "            content = content,\n",
    "            description = description,\n",
    "            labels = labels,\n",
    "            priority = priority,\n",
    "            due_date = due_date,\n",
    "            due_string = due_string,\n",
    "            due_datetime = due_datetime,\n",
    "        )\n",
    "        message = f'Task {task.content} updated correctly to {content}'\n",
    "        print(message)\n",
    "        return message\n",
    "    except Exception as error:\n",
    "        print(error)\n",
    "        return error"
   ]
  },
  {
   "cell_type": "markdown",
   "metadata": {},
   "source": [
    "#### <span style=\"font-family:Cascadia mono; color:silver\">Create section</span>"
   ]
  },
  {
   "cell_type": "code",
   "execution_count": null,
   "metadata": {},
   "outputs": [],
   "source": [
    "def createSection(name, project_id):\n",
    "    try:\n",
    "        section = api.add_section(name=name, project_id=project_id)\n",
    "        return section\n",
    "    except Exception as error:\n",
    "        return error"
   ]
  },
  {
   "cell_type": "markdown",
   "metadata": {},
   "source": [
    "#### <span style=\"font-family:Cascadia mono; color:silver\">Add duration labels</span>"
   ]
  },
  {
   "cell_type": "code",
   "execution_count": null,
   "metadata": {},
   "outputs": [],
   "source": [
    "def updateTaskDurationLabel(task_id, task_duration):\n",
    "    duration_label = fun.getDurationLabel(task_duration)\n",
    "    task_id = task_id[0]\n",
    "    task_labels_without_duration = fun.getLabelsWithoutDuration(task_id)\n",
    "    task_labels_without_duration.append(duration_label)\n",
    "    return editTask(task_id=task_id,\n",
    "             labels=task_labels_without_duration)"
   ]
  },
  {
   "cell_type": "code",
   "execution_count": null,
   "metadata": {},
   "outputs": [],
   "source": [
    "to_update = False\n",
    "messages.append('Tasks to add duration label...')\n",
    "for task in all_tasks:\n",
    "    if task['duration'] != None and task['due'] != None:\n",
    "        if fun.getDurationLabel(task['duration']['amount']) not in task['labels']:\n",
    "            to_update = True\n",
    "            message = updateTaskDurationLabel([task['id']], task['duration']['amount'])\n",
    "            messages.append(\"- \" + message)\n",
    "\n",
    "if not to_update:\n",
    "    messages = messages[:-1]\n",
    "    message = 'No tasks to add duration label'\n",
    "    print(message)\n",
    "    messages.append(message)\n",
    "else:\n",
    "    all_tasks, task_dict_id, task_dict_name = refreshTasks()"
   ]
  },
  {
   "cell_type": "markdown",
   "metadata": {},
   "source": [
    "#### <span style=\"font-family:Cascadia mono; color:silver\">Capitalize titles</span>"
   ]
  },
  {
   "cell_type": "code",
   "execution_count": null,
   "metadata": {},
   "outputs": [],
   "source": [
    "to_update = False\n",
    "messages.append(\"Tasks to capitalize it's title...\")    \n",
    "for task in all_tasks:\n",
    "    if task[\"content\"][0].upper() != task[\"content\"][0]:\n",
    "        to_update = True\n",
    "        task_id = task[\"id\"]\n",
    "        message = editTask(task_id = task_id,\n",
    "                           content = task[\"content\"][0].upper() + task[\"content\"][1:])\n",
    "        messages.append(\"- \" + message)\n",
    "\n",
    "if not to_update:\n",
    "    messages = messages[:-1]\n",
    "    message = \"No tasks to capitalize it's title\"\n",
    "    print(message)\n",
    "    messages.append(message)\n",
    "else:\n",
    "    all_tasks, task_dict_id, task_dict_name = refreshTasks()"
   ]
  },
  {
   "cell_type": "markdown",
   "metadata": {},
   "source": [
    "#### <span style=\"font-family:Cascadia mono; color:silver\">Uncomplete recurring tasks</span>"
   ]
  },
  {
   "cell_type": "code",
   "execution_count": null,
   "metadata": {},
   "outputs": [],
   "source": [
    "with open('../data/recurringtasksdiego', 'r') as archivo_json:\n",
    "    recurringtasks = json.load(archivo_json)"
   ]
  },
  {
   "cell_type": "code",
   "execution_count": null,
   "metadata": {},
   "outputs": [],
   "source": [
    "to_update = False\n",
    "cont = True\n",
    "messages.append('Recurring tasks to uncomplete...')\n",
    "for task_id in recurringtasks.keys():\n",
    "    project_id = recurringtasks[task_id]\n",
    "    try:\n",
    "        project_name = projects_dict_id[project_id]\n",
    "    except KeyError:\n",
    "        message = f'La tarea {task_id} está un proyecto que no existe: {project_id}'\n",
    "        print(message)\n",
    "        cont = False\n",
    "    if cont:\n",
    "        if projects_dict_id[project_id] != \"Archivados\" and projects_dict_id[project_id] != \"Tickler\" :\n",
    "            task = fun.getTask(task_id)\n",
    "            if task.is_completed:\n",
    "                to_update = True\n",
    "                print(task.id)\n",
    "                fun.uncompleteTask(task_id)\n",
    "                message = editTask(task_id=task_id,\n",
    "                                due_string=\"No date\")\n",
    "                print(task.project_id)\n",
    "                if task.project_id == projects_dict_name[\"Calendario\"]:\n",
    "                    fun.moveTask(task_id=task_id,\n",
    "                                project_id='2263729931')\n",
    "                messages.append(\"- \" + message)\n",
    "        \n",
    "if not to_update:\n",
    "    messages = messages[:-1]\n",
    "    message = \"No recurring tasks to uncomplete\"\n",
    "    print(message)\n",
    "    messages.append(message)\n",
    "else:\n",
    "    all_tasks, task_dict_id, task_dict_name = refreshTasks()"
   ]
  },
  {
   "cell_type": "markdown",
   "metadata": {},
   "source": [
    "#### <span style=\"font-family:Cascadia mono; color:silver\">Add labels to birthday tasks</span>"
   ]
  },
  {
   "cell_type": "code",
   "execution_count": null,
   "metadata": {},
   "outputs": [],
   "source": [
    "to_update = False\n",
    "messages.append('Birthday tasks to add labels...')\n",
    "for task in all_tasks:\n",
    "    if task['project_id'] == projects_dict_name['Cumpleaños'] and task['labels'] != ['Phone','Short']:\n",
    "        to_update = True\n",
    "        message = editTask(task_id=task['id'],\n",
    "                 labels=['Phone','Short'])\n",
    "        messages.append(\"- \" + message)\n",
    "        \n",
    "if not to_update:\n",
    "    messages = messages[:-1]\n",
    "    message = \"No birthday tasks to add labels\"\n",
    "    print(message)\n",
    "    messages.append(message)\n",
    "else:\n",
    "    all_tasks, task_dict_id, task_dict_name = refreshTasks()"
   ]
  },
  {
   "cell_type": "markdown",
   "metadata": {},
   "source": [
    "#### <span style=\"font-family:Cascadia mono; color:silver\">Fantasy task due</span>"
   ]
  },
  {
   "cell_type": "code",
   "execution_count": null,
   "metadata": {},
   "outputs": [],
   "source": [
    "evaluate = True\n",
    "if fun.getTask('4632052423').is_completed == True:\n",
    "    fun.uncompleteTask('4632052423')\n",
    "    editTask('4632052423', due_string='every friday 20:00')\n",
    "    message = 'Fantasy task moved back to fridays'\n",
    "    print (message)\n",
    "    messages.append(message)\n",
    "    evaluate = False"
   ]
  },
  {
   "cell_type": "code",
   "execution_count": null,
   "metadata": {},
   "outputs": [],
   "source": [
    "to_update = False\n",
    "if evaluate:\n",
    "    if today.weekday() in [0,5,6] and fun.getTask('4632052423').due.date != today.strftime('%Y-%m-%d'):\n",
    "        for task in all_tasks:\n",
    "            if task['section_id'] == '51988025' and task['parent_id'] == '8023322112':\n",
    "                try:\n",
    "                    fantasydate = datetime.strptime(fun.getTask('4632052423').due.date, '%Y-%m-%d')\n",
    "                    matchday = datetime.strptime(task['due']['date'][:10], '%Y-%m-%d')\n",
    "                    if fantasydate > matchday > fun.getNextMonday():\n",
    "                        message = 'Fantasy task moved to Tuesday'\n",
    "                        messages.append(message)\n",
    "                        editTask('4632052423', due_string=\"Tuesday\")\n",
    "                        to_update = True\n",
    "                        all_tasks, task_dict_id, task_dict_name = refreshTasks()\n",
    "                        break\n",
    "                except TypeError:\n",
    "                    pass\n",
    "    if not to_update:\n",
    "        message = 'Fantasy not moved'\n",
    "        print(message)\n",
    "        messages.append(message)"
   ]
  },
  {
   "cell_type": "markdown",
   "metadata": {},
   "source": [
    "#### <span style=\"font-family:Cascadia mono; color:silver\">Tasks with similar names</span>"
   ]
  },
  {
   "cell_type": "code",
   "execution_count": null,
   "metadata": {},
   "outputs": [],
   "source": [
    "def similarTasks(project_ids, umbral=0.5):\n",
    "    project_tasks = []\n",
    "    similars = []\n",
    "    for task in all_tasks:\n",
    "        if task['project_id'] in project_ids:\n",
    "            project_tasks.append(task['id'])\n",
    "    for i in range(len(project_tasks)-1):\n",
    "        for j in range(i+1,len(project_tasks)):\n",
    "            message = fun.areSimilar(task_dict_id[project_tasks[i]][0],\n",
    "                                        task_dict_id[project_tasks[j]][0],\n",
    "                                        umbral=umbral) \n",
    "            if message != None and message != 'Agua & Agua' and message != 'Tweet & Tweet' and message != 'README & README':\n",
    "                similars.append(message)\n",
    "    return similars\n",
    "            "
   ]
  },
  {
   "cell_type": "code",
   "execution_count": null,
   "metadata": {},
   "outputs": [],
   "source": [
    "similars = similarTasks(project_ids=[projects_dict_name['Archivados'],\n",
    "                                    projects_dict_name['Recordatorios'],\n",
    "                                    projects_dict_name['Tareas'],\n",
    "                                    projects_dict_name['Calendario'],\n",
    "                                    projects_dict_name['Cursos'],\n",
    "                                    projects_dict_name['GitHub'],\n",
    "                                    projects_dict_name['Diarias'],\n",
    "                                    projects_dict_name['Semanales'],\n",
    "                                    projects_dict_name['Mensuales']],\n",
    "                       umbral=0.7)\n",
    "if similars != []:\n",
    "    messages.append('Next tasks are similar:')\n",
    "    for similar in similars:\n",
    "        print(similar)\n",
    "        messages.append(f'- {similar}')\n",
    "else:\n",
    "    messages.append('No similar tasks')\n",
    "    "
   ]
  },
  {
   "cell_type": "markdown",
   "metadata": {},
   "source": [
    "#### <span style=\"font-family:Cascadia mono; color:silver\">Reminder to prepare your suitcase</span>"
   ]
  },
  {
   "cell_type": "code",
   "execution_count": null,
   "metadata": {},
   "outputs": [],
   "source": [
    "to_update = False\n",
    "for task in all_tasks:\n",
    "    if 'Vacations' in task['labels'] and task['project_id']==projects_dict_name['Calendario']:\n",
    "        title = task[\"content\"]\n",
    "        try:\n",
    "            task_dict_name[f'Preparar maleta {title}']\n",
    "        except:\n",
    "            to_update = True\n",
    "            message = createTask(content=f'Preparar maleta {title}',\n",
    "                                 due_string=f\"3 dias antes de {task['due']['date']}\",\n",
    "                                 priority=2,\n",
    "                                 project_id=projects_dict_name['Recordatorios'])\n",
    "            messages.append(message)\n",
    "if to_update:\n",
    "    all_tasks, task_dict_id, task_dict_name = refreshTasks()"
   ]
  },
  {
   "cell_type": "markdown",
   "metadata": {},
   "source": [
    "cada dia hasta 25 ago\n"
   ]
  },
  {
   "cell_type": "code",
   "execution_count": null,
   "metadata": {},
   "outputs": [],
   "source": [
    "for task in all_tasks:\n",
    "    if 'Vacations' in task['labels'] and task['project_id'] == projects_dict_name['Calendario']:\n",
    "        title = task[\"content\"]\n",
    "        try:\n",
    "            task_dict_name[f'Apuntar gastos de {title}']\n",
    "        except:\n",
    "            if task['due']['string'][-14:-8] == \"fin 20\":        \n",
    "                message = createTask(content=f'Apuntar gastos de {title}',\n",
    "                                        due_string=f\"1 dia despues de {task['due']['string'][-10:]}\",\n",
    "                                        priority=3,\n",
    "                                        project_id=projects_dict_name['Recordatorios'])\n"
   ]
  },
  {
   "cell_type": "markdown",
   "metadata": {},
   "source": [
    "#### <span style=\"font-family:Cascadia mono; color:green\">Adding F1 calendar for next season</span>"
   ]
  },
  {
   "cell_type": "code",
   "execution_count": null,
   "metadata": {},
   "outputs": [],
   "source": [
    "# def newF1Season(year, grand_prix_dict):\n",
    "#     f1_project_id = projects_dict_name['Fórmula 1']\n",
    "#     section_id = createSection(year, f1_project_id).id\n",
    "#     for gp in grand_prix_dict.keys():\n",
    "#         task_id = createTask(content=f'* {gp.upper()}', project_id=f1_project_id, section_id=section_id)[-33:-23]\n",
    "#         day = grand_prix_dict[gp]\n",
    "#         createTask(content=f\"Apuntar hora {gp.capitalize()}\", priority = 3, due_string=f'4 weeks before {day}', project_id=projects_dict_name['Recordatorios'], labels=['PC','Short'])\n",
    "#         createTask(content='Practice 1', priority=3, due_string=f'2 days before {day}', parent_id=task_id)\n",
    "#         createTask(content='Practice 2', priority=3, due_string=f'2 days before {day}', parent_id=task_id)\n",
    "#         createTask(content='Practice 3', priority=3, due_string=f'1 day before {day}', parent_id=task_id)\n",
    "#         createTask(content='Qualifying', priority=1, due_string=f'1 day before {day}', parent_id=task_id)\n",
    "#         createTask(content='Race', priority=1, due_string=day, parent_id=task_id)"
   ]
  },
  {
   "cell_type": "code",
   "execution_count": null,
   "metadata": {},
   "outputs": [],
   "source": [
    "# grand_prix_dict = {'AUSTRALIAN GRAND PRIX':'16-03-2025',\n",
    "#                    'CHINESE GRAND PRIX':'23-03-2025',\n",
    "#                    'JAPANESE GRAND PRIX':'06-04-2025',\n",
    "#                    'BAHRAIN GRAND PRIX':'13-04-2025',\n",
    "#                    'SAUDI ARABIA GRAND PRIX':'20-04-2025',\n",
    "#                    'MIAMI GRAND PRIX':'04-05-2025',\n",
    "#                    \"GRAN PREMIO DEL MADE IN ITALY DELL'EMILIA-ROMAGNA\":'18-05-2025',\n",
    "#                    'GRAND PRIX DE MONACO':'25-05-2025',\n",
    "#                    'GRAN PREMIO DE ESPAÑA':'01-06-2025',\n",
    "#                    'GRAND PRIX DU CANADA':'15-06-2025',\n",
    "#                    'GROSSER PREIS VON ÖSTERREICH':'29-06-2025',\n",
    "#                    'BRITISH GRAND PRIX':'06-07-2025',\n",
    "#                    'BELGIAN GRAND PRIX':'27-07-2025',\n",
    "#                    'HUNGARIAN GRAND PRIX':'03-08-2025',\n",
    "#                    'DUTCH GRAND PRIX':'31-08-2025',f\n",
    "#                    \"GRAN PREMIO D'ITALIA\":'07-09-2025',\n",
    "#                    'AZERBAIJAN GRAND PRIX':'21-09-2025',\n",
    "#                    'SINGAPORE GRAND PRIX':'05-10-2025',\n",
    "#                    'UNITED STATES GRAND PRIX':'19-10-2025',\n",
    "#                    'GRAN PREMIO DE LA CIUDAD DE MEXICO':'26-10-2025',\n",
    "#                    'GRANDE PRÊMIO DE SÃO PAULO':'09-11-2025',\n",
    "#                    'LAS VEGAS GRAND PRIX':'22-11-2025',\n",
    "#                    'QATAR GRAND PRIX':'30-11-2025',\n",
    "#                    'ABU DHABI GRAND PRIX':'7-12-2025'\n",
    "#                    }"
   ]
  },
  {
   "cell_type": "code",
   "execution_count": null,
   "metadata": {},
   "outputs": [],
   "source": [
    "# newF1Season('2025',grand_prix_dict=grand_prix_dict)"
   ]
  },
  {
   "cell_type": "markdown",
   "metadata": {},
   "source": [
    "#### <span style=\"font-family:Cascadia mono; color:green\">Adding Manchester United Premier League Calendar</span>"
   ]
  },
  {
   "cell_type": "code",
   "execution_count": null,
   "metadata": {},
   "outputs": [],
   "source": [
    "# football_id = '2259150181'\n",
    "# united_id = '51988025'\n",
    "# season = '2024/2025'\n",
    "\n",
    "# createTask(content=f'* Premier League {season}',\n",
    "#            section_id=united_id)    "
   ]
  },
  {
   "cell_type": "code",
   "execution_count": null,
   "metadata": {},
   "outputs": [],
   "source": [
    "# pl_id = '8023322112'\n",
    "# for gw in range(1,39):\n",
    "#     createTask(content=f'GW{gw}',\n",
    "#                priority=1,\n",
    "#                project_id=football_id,\n",
    "#                section_id=united_id,\n",
    "#                parent_id=pl_id)"
   ]
  },
  {
   "cell_type": "markdown",
   "metadata": {},
   "source": [
    "## <span style=\"font-family:Cascadia mono; color:#db6a6a\">Results</span>"
   ]
  },
  {
   "cell_type": "markdown",
   "metadata": {},
   "source": [
    "### Export all tasks and it's status"
   ]
  },
  {
   "cell_type": "code",
   "execution_count": null,
   "metadata": {},
   "outputs": [],
   "source": [
    "tasks = api.get_tasks()\n",
    "recurringtasks={}\n",
    "for task in tasks:\n",
    "    if 'Recurring' in task.labels:\n",
    "        recurringtasks[task.id]=task.project_id\n",
    "with open('../data/recurringtasksdiego', 'w') as file:\n",
    "    json.dump(recurringtasks, file)"
   ]
  },
  {
   "cell_type": "markdown",
   "metadata": {},
   "source": [
    "### Runtime"
   ]
  },
  {
   "cell_type": "code",
   "execution_count": null,
   "metadata": {},
   "outputs": [],
   "source": [
    "end_time = time.time()"
   ]
  },
  {
   "cell_type": "code",
   "execution_count": null,
   "metadata": {},
   "outputs": [],
   "source": [
    "runtime = f'Runtime: {round(end_time-start_time,3)} seconds'\n",
    "messages.append(runtime)\n",
    "print(runtime)"
   ]
  },
  {
   "cell_type": "markdown",
   "metadata": {},
   "source": [
    "### <span style=\"font-family:Cascadia code; color:#7a3aca\">Message</span>"
   ]
  },
  {
   "cell_type": "code",
   "execution_count": null,
   "metadata": {},
   "outputs": [],
   "source": [
    "body = messages[0] + \"\\n\"\n",
    "count = 0\n",
    "for i in range(1, len(messages)):\n",
    "    if messages[i][0] != \"-\":\n",
    "        body = body + \"\\n\" + f\"{i - count}. \" + messages[i] +\"\\n\"\n",
    "    else:\n",
    "        body = body + \"  \" + messages[i] +\"\\n\"\n",
    "        count += 1\n",
    "    print(messages[i],\"\\n\")"
   ]
  },
  {
   "cell_type": "markdown",
   "metadata": {},
   "source": [
    "### <span style=\"font-family:Cascadia code; color:#caba3a\">Email</span>"
   ]
  },
  {
   "cell_type": "code",
   "execution_count": null,
   "metadata": {},
   "outputs": [],
   "source": [
    "fun.sendEmail(\"Daily Todoist\", body, \"diegorodgar17@gmail.com\")"
   ]
  }
 ],
 "metadata": {
  "kernelspec": {
   "display_name": "base",
   "language": "python",
   "name": "python3"
  },
  "language_info": {
   "codemirror_mode": {
    "name": "ipython",
    "version": 3
   },
   "file_extension": ".py",
   "mimetype": "text/x-python",
   "name": "python",
   "nbconvert_exporter": "python",
   "pygments_lexer": "ipython3",
   "version": "3.11.9"
  }
 },
 "nbformat": 4,
 "nbformat_minor": 2
}
