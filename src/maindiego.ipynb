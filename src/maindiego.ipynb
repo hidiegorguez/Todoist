{
 "cells": [
  {
   "cell_type": "markdown",
   "metadata": {},
   "source": [
    "<img src=\"../data/logo.png\" width=\"420px\">\n",
    "\n",
    "# <span style=\"font-family:Cascadia mono; color:#db5a5a\">TODOIST AUTOMATION - DIEGO</span>"
   ]
  },
  {
   "cell_type": "markdown",
   "metadata": {},
   "source": [
    "## <span style=\"font-family:Cascadia mono; color:#db6a6a\">Settings</span>"
   ]
  },
  {
   "cell_type": "markdown",
   "metadata": {},
   "source": [
    "### Libraries"
   ]
  },
  {
   "cell_type": "code",
   "execution_count": 1,
   "metadata": {},
   "outputs": [
    {
     "data": {
      "text/plain": [
       "True"
      ]
     },
     "execution_count": 1,
     "metadata": {},
     "output_type": "execute_result"
    }
   ],
   "source": [
    "from todoist_api_python.api import TodoistAPI\n",
    "from datetime import datetime, timedelta, timezone\n",
    "import random\n",
    "import json\n",
    "import time\n",
    "import os\n",
    "import sys\n",
    "sys.path.append('..')\n",
    "import functions as fun\n",
    "from dotenv import load_dotenv\n",
    "\n",
    "load_dotenv()"
   ]
  },
  {
   "cell_type": "markdown",
   "metadata": {},
   "source": [
    "### Message"
   ]
  },
  {
   "cell_type": "code",
   "execution_count": 2,
   "metadata": {},
   "outputs": [],
   "source": [
    "today = datetime.today()"
   ]
  },
  {
   "cell_type": "code",
   "execution_count": 3,
   "metadata": {},
   "outputs": [],
   "source": [
    "messages = [f'Todoist Automation for {today.strftime(\"%Y-%m-%d\")}']"
   ]
  },
  {
   "cell_type": "markdown",
   "metadata": {},
   "source": [
    "### Runtime"
   ]
  },
  {
   "cell_type": "code",
   "execution_count": 4,
   "metadata": {},
   "outputs": [],
   "source": [
    "start_time = time.time()"
   ]
  },
  {
   "cell_type": "markdown",
   "metadata": {},
   "source": [
    "### APIs"
   ]
  },
  {
   "cell_type": "code",
   "execution_count": 5,
   "metadata": {},
   "outputs": [],
   "source": [
    "api_token = os.getenv(\"TODOIST_API_TOKEN\")\n",
    "tf = fun.TodoistFunctions(api_token)\n",
    "api = TodoistAPI(api_token)"
   ]
  },
  {
   "cell_type": "code",
   "execution_count": 6,
   "metadata": {},
   "outputs": [],
   "source": [
    "azure_connection_string = os.getenv('AZURE_STORAGE_CONNECTION_STRING')\n",
    "azure_connection_string\n",
    "az = fun.AzureBlobFunctions(azure_connection_string)"
   ]
  },
  {
   "cell_type": "markdown",
   "metadata": {},
   "source": [
    "## <span style=\"font-family:Cascadia mono; color:#db6a6a\">Data</span>"
   ]
  },
  {
   "cell_type": "markdown",
   "metadata": {},
   "source": [
    "#### Projects"
   ]
  },
  {
   "cell_type": "code",
   "execution_count": 7,
   "metadata": {},
   "outputs": [],
   "source": [
    "all_projects = tf.getProjects()\n",
    "projects_dict_id, projects_dict_name = tf.getProjectsDicts(all_projects)"
   ]
  },
  {
   "cell_type": "markdown",
   "metadata": {},
   "source": [
    "#### Tasks"
   ]
  },
  {
   "cell_type": "code",
   "execution_count": 8,
   "metadata": {},
   "outputs": [],
   "source": [
    "def refreshTasks():\n",
    "    all_tasks = tf.getTasks()\n",
    "    task_dict_id, task_dict_name = tf.getTasksDicts(all_tasks, projects_dict_id, projects_dict_name)\n",
    "    return all_tasks, task_dict_id, task_dict_name"
   ]
  },
  {
   "cell_type": "code",
   "execution_count": 9,
   "metadata": {},
   "outputs": [
    {
     "ename": "KeyError",
     "evalue": "'items'",
     "output_type": "error",
     "traceback": [
      "\u001b[1;31m---------------------------------------------------------------------------\u001b[0m",
      "\u001b[1;31mKeyError\u001b[0m                                  Traceback (most recent call last)",
      "\u001b[1;32mc:\\Users\\DIERODRI8\\Documents\\GitHub\\Todoist\\src\\maindiego.ipynb Cell 18\u001b[0m line \u001b[0;36m1\n\u001b[1;32m----> <a href='vscode-notebook-cell:/c%3A/Users/DIERODRI8/Documents/GitHub/Todoist/src/maindiego.ipynb#X22sZmlsZQ%3D%3D?line=0'>1</a>\u001b[0m all_tasks, task_dict_id, task_dict_name \u001b[39m=\u001b[39m refreshTasks()\n",
      "\u001b[1;32mc:\\Users\\DIERODRI8\\Documents\\GitHub\\Todoist\\src\\maindiego.ipynb Cell 18\u001b[0m line \u001b[0;36m2\n\u001b[0;32m      <a href='vscode-notebook-cell:/c%3A/Users/DIERODRI8/Documents/GitHub/Todoist/src/maindiego.ipynb#X22sZmlsZQ%3D%3D?line=0'>1</a>\u001b[0m \u001b[39mdef\u001b[39;00m \u001b[39mrefreshTasks\u001b[39m():\n\u001b[1;32m----> <a href='vscode-notebook-cell:/c%3A/Users/DIERODRI8/Documents/GitHub/Todoist/src/maindiego.ipynb#X22sZmlsZQ%3D%3D?line=1'>2</a>\u001b[0m     all_tasks \u001b[39m=\u001b[39m tf\u001b[39m.\u001b[39;49mgetTasks()\n\u001b[0;32m      <a href='vscode-notebook-cell:/c%3A/Users/DIERODRI8/Documents/GitHub/Todoist/src/maindiego.ipynb#X22sZmlsZQ%3D%3D?line=2'>3</a>\u001b[0m     task_dict_id, task_dict_name \u001b[39m=\u001b[39m tf\u001b[39m.\u001b[39mgetTasksDicts(all_tasks, projects_dict_id, projects_dict_name)\n\u001b[0;32m      <a href='vscode-notebook-cell:/c%3A/Users/DIERODRI8/Documents/GitHub/Todoist/src/maindiego.ipynb#X22sZmlsZQ%3D%3D?line=3'>4</a>\u001b[0m     \u001b[39mreturn\u001b[39;00m all_tasks, task_dict_id, task_dict_name\n",
      "File \u001b[1;32mc:\\Users\\DIERODRI8\\Documents\\GitHub\\Todoist\\src\\..\\functions.py:53\u001b[0m, in \u001b[0;36mTodoistFunctions.getTasks\u001b[1;34m(self)\u001b[0m\n\u001b[0;32m     48\u001b[0m data \u001b[39m=\u001b[39m {\n\u001b[0;32m     49\u001b[0m     \u001b[39m\"\u001b[39m\u001b[39msync_token\u001b[39m\u001b[39m\"\u001b[39m: \u001b[39m\"\u001b[39m\u001b[39m*\u001b[39m\u001b[39m\"\u001b[39m,\n\u001b[0;32m     50\u001b[0m     \u001b[39m\"\u001b[39m\u001b[39mresource_types\u001b[39m\u001b[39m\"\u001b[39m: json\u001b[39m.\u001b[39mdumps([\u001b[39m'\u001b[39m\u001b[39mitems\u001b[39m\u001b[39m'\u001b[39m])\n\u001b[0;32m     51\u001b[0m }\n\u001b[0;32m     52\u001b[0m response \u001b[39m=\u001b[39m requests\u001b[39m.\u001b[39mpost(\u001b[39mself\u001b[39m\u001b[39m.\u001b[39msync_url, headers\u001b[39m=\u001b[39m\u001b[39mself\u001b[39m\u001b[39m.\u001b[39mheaders, data\u001b[39m=\u001b[39mjson\u001b[39m.\u001b[39mdumps(data))\n\u001b[1;32m---> 53\u001b[0m all_tasks \u001b[39m=\u001b[39m response\u001b[39m.\u001b[39;49mjson()[\u001b[39m\"\u001b[39;49m\u001b[39mitems\u001b[39;49m\u001b[39m\"\u001b[39;49m]\n\u001b[0;32m     54\u001b[0m active_tasks \u001b[39m=\u001b[39m [task \u001b[39mfor\u001b[39;00m task \u001b[39min\u001b[39;00m all_tasks \u001b[39mif\u001b[39;00m task[\u001b[39m'\u001b[39m\u001b[39mproject_id\u001b[39m\u001b[39m'\u001b[39m] \u001b[39min\u001b[39;00m active_projects_ids]\n\u001b[0;32m     55\u001b[0m \u001b[39mreturn\u001b[39;00m active_tasks\n",
      "\u001b[1;31mKeyError\u001b[0m: 'items'"
     ]
    }
   ],
   "source": [
    "all_tasks, task_dict_id, task_dict_name = refreshTasks()"
   ]
  },
  {
   "cell_type": "markdown",
   "metadata": {},
   "source": [
    "#### Completed Tasks"
   ]
  },
  {
   "cell_type": "code",
   "execution_count": null,
   "metadata": {},
   "outputs": [],
   "source": [
    "completed_tasks = tf.getCompletedTasks(3)"
   ]
  },
  {
   "cell_type": "code",
   "execution_count": null,
   "metadata": {},
   "outputs": [
    {
     "data": {
      "text/plain": [
       "{'completed_at': '2024-10-11T14:56:36.000000Z',\n",
       " 'content': 'Afeitarme @Home @Med',\n",
       " 'id': '7717029694',\n",
       " 'item_object': None,\n",
       " 'meta_data': None,\n",
       " 'note_count': 0,\n",
       " 'notes': [],\n",
       " 'project_id': '2259719779',\n",
       " 'section_id': None,\n",
       " 'task_id': '4628622647',\n",
       " 'user_id': '32572547',\n",
       " 'v2_project_id': '6Crcvw8HR7HpM3QQ',\n",
       " 'v2_section_id': None,\n",
       " 'v2_task_id': '662MqJgCF248x2xQ'}"
      ]
     },
     "execution_count": 14,
     "metadata": {},
     "output_type": "execute_result"
    }
   ],
   "source": [
    "completed_tasks[4]"
   ]
  },
  {
   "cell_type": "code",
   "execution_count": null,
   "metadata": {},
   "outputs": [
    {
     "name": "stdout",
     "output_type": "stream",
     "text": [
      "Pesarme @Home @Med\n",
      "Felicitar Sandruqui @Phone @Short\n",
      "Afeitarme @Home @Med\n",
      "Felicitar Sandruqui @Phone @Short\n",
      "Cambiar botella agua @Med @Outside @Permanent\n",
      "Reunión Recursos @Med @Permanent\n",
      "Out of Touch Thursday @Long\n",
      "Revisar APEX @Med @PC\n",
      "Trabajo @Long @PC\n",
      "Limpiar cepillo @Home @Short\n",
      "Limpiar pendiente @Home @Short\n",
      "Limpieza boca @Home @Med\n",
      "Afeitarme @Home @Med\n"
     ]
    }
   ],
   "source": [
    "for task in completed_tasks:\n",
    "    if str(task['task_id']) in task_dict_id.keys():\n",
    "        print(task['content'])"
   ]
  },
  {
   "cell_type": "markdown",
   "metadata": {},
   "source": [
    "#### Sections"
   ]
  },
  {
   "cell_type": "code",
   "execution_count": null,
   "metadata": {},
   "outputs": [],
   "source": [
    "all_sections = tf.getSections()\n",
    "sections_dict_id, sections_dict_name = tf.getSectionsDicts(all_sections)"
   ]
  },
  {
   "cell_type": "markdown",
   "metadata": {},
   "source": [
    "#### Test"
   ]
  },
  {
   "cell_type": "code",
   "execution_count": null,
   "metadata": {},
   "outputs": [
    {
     "name": "stdout",
     "output_type": "stream",
     "text": [
      "929\n",
      "Barcelona vs Atalanta - 2025-01-29T21:00:00 - Fútbol\n"
     ]
    }
   ],
   "source": [
    "index = random.randint(0,len(all_tasks))\n",
    "print(index)\n",
    "try:\n",
    "    print(all_tasks[index]['content'], \"-\", all_tasks[index]['due']['date'], \"-\", projects_dict_id[all_tasks[index]['project_id']])\n",
    "except TypeError:\n",
    "    print(all_tasks[index]['content'], \"-\", \"No date\" , \"-\",projects_dict_id[all_tasks[index]['project_id']],)"
   ]
  },
  {
   "cell_type": "markdown",
   "metadata": {},
   "source": [
    "#### Labels"
   ]
  },
  {
   "cell_type": "code",
   "execution_count": null,
   "metadata": {},
   "outputs": [
    {
     "data": {
      "text/plain": [
       "['Med',\n",
       " 'PC',\n",
       " 'Permanent',\n",
       " 'Phone',\n",
       " 'Short',\n",
       " 'Home',\n",
       " 'Long',\n",
       " 'Outside',\n",
       " '❌_streak',\n",
       " '✅_streak',\n",
       " 'Vacations',\n",
       " 'Móvil',\n",
       " 'Casa Rural',\n",
       " 'Quedadas',\n",
       " 'Viajes',\n",
       " 'Tiktoks',\n",
       " 'Juegos Beber',\n",
       " 'Comida',\n",
       " 'Fútbol',\n",
       " 'Juegos',\n",
       " 'Comidas',\n",
       " 'Work']"
      ]
     },
     "execution_count": 21,
     "metadata": {},
     "output_type": "execute_result"
    }
   ],
   "source": [
    "label_names=[]\n",
    "for task in all_tasks:\n",
    "    gross_labels=task['labels']\n",
    "    for label in gross_labels:\n",
    "        if label not in label_names:\n",
    "            label_names.append(label)\n",
    "label_names"
   ]
  },
  {
   "cell_type": "markdown",
   "metadata": {},
   "source": [
    "## <span style=\"font-family:Cascadia mono; color:#dbda6a\">Testing</span>"
   ]
  },
  {
   "cell_type": "markdown",
   "metadata": {},
   "source": [
    "## <span style=\"font-family:Cascadia mono; color:#db6a6a\">Orders</span>"
   ]
  },
  {
   "cell_type": "markdown",
   "metadata": {},
   "source": [
    "#### <span style=\"font-family:Cascadia mono; color:silver\">Create and edit tasks</span>"
   ]
  },
  {
   "cell_type": "code",
   "execution_count": null,
   "metadata": {},
   "outputs": [],
   "source": [
    "def createTask(\n",
    "    content = \"Tarea creada automáticamente\",\n",
    "    description = None,\n",
    "    project_id = projects_dict_name['Inbox'],\n",
    "    section_id = None,\n",
    "    parent_id = None,\n",
    "    order = 1,\n",
    "    labels = [],\n",
    "    priority = 1,\n",
    "    comment_count = 0,\n",
    "    due_string = None,\n",
    "    due_date = None,\n",
    "    due_datetime = None,\n",
    "    due_lang = None,\n",
    "    assignee_id = None,\n",
    "    duration = None,\n",
    "    duration_unit = None\n",
    "):\n",
    "    for label in labels:\n",
    "        if label not in label_names:\n",
    "            return f'La etiqueta {label} no existe'\n",
    "    try:\n",
    "        task = api.add_task(\n",
    "            assignee_id = assignee_id,\n",
    "            comment_count = comment_count,\n",
    "            content = content,\n",
    "            description = description,\n",
    "            due_string = due_string,\n",
    "            due_date = due_date,\n",
    "            due_datetime = due_datetime,\n",
    "            due_lang = due_lang,\n",
    "            duration = duration,\n",
    "            labels = labels,\n",
    "            order = order,\n",
    "            priority = fun.priorityInversal(priority),\n",
    "            project_id = project_id,\n",
    "            section_id = section_id,\n",
    "            parent_id = parent_id,\n",
    "            duration_unit = duration_unit\n",
    "        )\n",
    "        message = f'Task \"{task.content}\" ({task.id}) was created correctly'\n",
    "        print(message)\n",
    "        return message\n",
    "    except Exception as error:\n",
    "        print (error)\n",
    "        return error\n",
    "        \n",
    "def editTask(\n",
    "    task_id,\n",
    "    content = None,\n",
    "    assignee_id = None,\n",
    "    description = None,\n",
    "    due_date = None,\n",
    "    due_string = None,\n",
    "    due_datetime = None,\n",
    "    labels = None,\n",
    "    priority = None,\n",
    "):\n",
    "    task = api.get_task(task_id)\n",
    "    labels = task.labels if labels == None else labels\n",
    "    content = task.content if content == None else content\n",
    "    for label in labels:\n",
    "        if label not in label_names:\n",
    "            return f'La etiqueta {label} no existe'\n",
    "    try:\n",
    "        api.update_task(\n",
    "            task_id = task_id,\n",
    "            assignee_id = assignee_id,\n",
    "            content = content,\n",
    "            description = description,\n",
    "            labels = labels,\n",
    "            priority = priority,\n",
    "            due_date = due_date,\n",
    "            due_string = due_string,\n",
    "            due_datetime = due_datetime,\n",
    "        )\n",
    "        message = f'Task {task.content} updated correctly to {content}'\n",
    "        print(message)\n",
    "        return message\n",
    "    except Exception as error:\n",
    "        print(error)\n",
    "        return error"
   ]
  },
  {
   "cell_type": "markdown",
   "metadata": {},
   "source": [
    "#### <span style=\"font-family:Cascadia mono; color:silver\">Create section</span>"
   ]
  },
  {
   "cell_type": "code",
   "execution_count": null,
   "metadata": {},
   "outputs": [],
   "source": [
    "def createSection(name, project_id):\n",
    "    try:\n",
    "        section = api.add_section(name=name, project_id=project_id)\n",
    "        return section\n",
    "    except Exception as error:\n",
    "        return error"
   ]
  },
  {
   "cell_type": "markdown",
   "metadata": {},
   "source": [
    "#### <span style=\"font-family:Cascadia mono; color:silver\">Add duration labels</span>"
   ]
  },
  {
   "cell_type": "code",
   "execution_count": null,
   "metadata": {},
   "outputs": [],
   "source": [
    "def updateTaskDurationLabel(task_id, task_duration):\n",
    "    duration_label = tf.getDurationLabel(task_duration)\n",
    "    task_id = task_id[0]\n",
    "    task_labels_without_duration = tf.getLabelsWithoutDuration(task_id)\n",
    "    task_labels_without_duration.append(duration_label)\n",
    "    return editTask(task_id=task_id,\n",
    "             labels=task_labels_without_duration)"
   ]
  },
  {
   "cell_type": "code",
   "execution_count": null,
   "metadata": {},
   "outputs": [
    {
     "name": "stdout",
     "output_type": "stream",
     "text": [
      "No tasks to add duration label\n"
     ]
    }
   ],
   "source": [
    "to_update = False\n",
    "messages.append('Tasks to add duration label...')\n",
    "for task in all_tasks:\n",
    "    if task['duration'] != None and task['due'] != None:\n",
    "        if tf.getDurationLabel(task['duration']['amount']) not in task['labels']:\n",
    "            to_update = True\n",
    "            message = updateTaskDurationLabel([task['id']], task['duration']['amount'])\n",
    "            messages.append(\"- \" + message)\n",
    "\n",
    "if not to_update:\n",
    "    messages = messages[:-1]\n",
    "    message = 'No tasks to add duration label'\n",
    "    print(message)\n",
    "    messages.append(message)\n",
    "else:\n",
    "    all_tasks, task_dict_id, task_dict_name = refreshTasks()"
   ]
  },
  {
   "cell_type": "markdown",
   "metadata": {},
   "source": [
    "#### <span style=\"font-family:Cascadia mono; color:silver\">Capitalize titles</span>"
   ]
  },
  {
   "cell_type": "code",
   "execution_count": null,
   "metadata": {},
   "outputs": [
    {
     "name": "stdout",
     "output_type": "stream",
     "text": [
      "No tasks to capitalize it's title\n"
     ]
    }
   ],
   "source": [
    "to_update = False\n",
    "messages.append(\"Tasks to capitalize it's title...\")    \n",
    "for task in all_tasks:\n",
    "    if task[\"content\"][0].upper() != task[\"content\"][0]:\n",
    "        to_update = True\n",
    "        task_id = task[\"id\"]\n",
    "        message = editTask(task_id = task_id,\n",
    "                           content = task[\"content\"][0].upper() + task[\"content\"][1:])\n",
    "        messages.append(\"- \" + message)\n",
    "\n",
    "if not to_update:\n",
    "    messages = messages[:-1]\n",
    "    message = \"No tasks to capitalize it's title\"\n",
    "    print(message)\n",
    "    messages.append(message)\n",
    "else:\n",
    "    all_tasks, task_dict_id, task_dict_name = refreshTasks()"
   ]
  },
  {
   "cell_type": "markdown",
   "metadata": {},
   "source": [
    "#### <span style=\"font-family:Cascadia mono; color:silver\">Uncomplete recurring tasks</span>"
   ]
  },
  {
   "cell_type": "code",
   "execution_count": null,
   "metadata": {},
   "outputs": [],
   "source": [
    "with open('../data/recurringtasksdiego', 'r') as archivo_json:\n",
    "    recurringtasks = json.load(archivo_json)"
   ]
  },
  {
   "cell_type": "code",
   "execution_count": null,
   "metadata": {},
   "outputs": [
    {
     "name": "stdout",
     "output_type": "stream",
     "text": [
      "No recurring tasks to uncomplete\n"
     ]
    }
   ],
   "source": [
    "to_update = False\n",
    "cont = True\n",
    "messages.append('Recurring tasks to uncomplete...')\n",
    "for task_id in recurringtasks.keys():\n",
    "    project_id = recurringtasks[task_id]\n",
    "    try:\n",
    "        project_name = projects_dict_id[project_id]\n",
    "    except KeyError:\n",
    "        message = f'La tarea {task_id} está un proyecto que no existe: {project_id}'\n",
    "        print(message)\n",
    "        cont = False\n",
    "    if cont:\n",
    "        if projects_dict_id[project_id] != \"Archivados\" and projects_dict_id[project_id] != \"Tickler\" :\n",
    "            task = tf.getTask(task_id)\n",
    "            if task.is_completed:\n",
    "                to_update = True\n",
    "                print(task.id)\n",
    "                tf.uncompleteTask(task_id)\n",
    "                message = editTask(task_id=task_id,\n",
    "                                due_string=\"No date\")\n",
    "                print(task.project_id)\n",
    "                if task.project_id == projects_dict_name[\"Calendario\"]:\n",
    "                    tf.moveTask(task_id=task_id,\n",
    "                                project_id='2263729931')\n",
    "                messages.append(\"- \" + message)\n",
    "        \n",
    "if not to_update:\n",
    "    messages = messages[:-1]\n",
    "    message = \"No recurring tasks to uncomplete\"\n",
    "    print(message)\n",
    "    messages.append(message)\n",
    "else:\n",
    "    all_tasks, task_dict_id, task_dict_name = refreshTasks()"
   ]
  },
  {
   "cell_type": "markdown",
   "metadata": {},
   "source": [
    "#### <span style=\"font-family:Cascadia mono; color:green\">Add labels and reminders to birthday tasks</span>"
   ]
  },
  {
   "cell_type": "code",
   "execution_count": null,
   "metadata": {},
   "outputs": [
    {
     "name": "stdout",
     "output_type": "stream",
     "text": [
      "Task Felicitar Jesús Tío updated correctly to Felicitar Jesús Tío\n",
      "{'full_sync': True, 'sync_status': {'db1371a2-f677-432e-a51a-7bd7ff3ba10e': 'ok'}, 'sync_token': 'S1GNxt6Y3P42X0zUlHZi8P1oZmmc-OJY2-3QG4TNa8MQH5sCq5ttcRe8xuQgVbIz4r8leU16D75w2DTUDJGdY87hW2pfoCJiSrSQyCWj5TLCtG8-', 'temp_id_mapping': {'ff760006-f09a-4988-9ac9-1981efbea82d': '2580645971'}}\n",
      "Task Felicitar Karla updated correctly to Felicitar Karla\n",
      "{'full_sync': True, 'sync_status': {'26434c7a-8a66-4a78-b93b-304a1771868b': 'ok'}, 'sync_token': 'fpiAxonaU19laYD6kOfJGJmkGp43oPJ3kSpcSS72DEHFHrj0ehz6KaQOsON0500m9eR63YjjAg8GbT9SxF12_if7buf2zz_aMS4haPQQWvHjxVBm', 'temp_id_mapping': {'a0463924-99ab-43a6-801c-1d5f376b35be': '2580645972'}}\n",
      "Task Felicitar Aure updated correctly to Felicitar Aure\n",
      "{'full_sync': True, 'sync_status': {'2308bb69-8db7-4c19-a3ae-b45be160a040': 'ok'}, 'sync_token': '3-OAUyhy_MBGBKwrNP_T_m8nwQVvXg7PhGQagxhmZoMgrsyuyWo9K9qQ19vEJqvmXdI8cr9IPRo3I3MYSHveYqLRpFgLr-0IXsSpARajMIQ97wLM', 'temp_id_mapping': {'07e497e6-9e62-4811-ae02-09d186853d0e': '2580645975'}}\n",
      "Task Felicitar Esther Marina updated correctly to Felicitar Esther Marina\n",
      "{'full_sync': True, 'sync_status': {'a6b1509b-5304-409d-a34a-6d6f561a16a9': 'ok'}, 'sync_token': 'JLyepOCbtQjGIwz7BUeO-1jv9YwGHMf9-Kc4bl4c71Vgq9V-7Qlh97s8aFsjr-pQAAp1ogykgOWPyJb1fXM_EIKN_O_f4kKV3sKgfpl2ZVh8D6jh', 'temp_id_mapping': {'ed35c421-b1e6-46c3-a3d9-67e935b7af91': '2580645978'}}\n",
      "Task Felicitar Sara Pasc updated correctly to Felicitar Sara Pasc\n",
      "{'full_sync': True, 'sync_status': {'2a08c455-a94f-4172-af77-0ae1263bca11': 'ok'}, 'sync_token': '7jf-uVj2wWRGWQRZuk5U7MSQdwXew5SF2MKFHyNB2OS7j8LXmxPz8K-CyFSdVETCCoF6jadoj-Te1QO9F2KkqEtNFksh4ky77dustmgMXeH1JghP', 'temp_id_mapping': {'9fa0f480-1423-4504-9b7e-45a53021cd77': '2580645979'}}\n",
      "Task Felicitar Darío Melli updated correctly to Felicitar Darío Melli\n",
      "{'full_sync': True, 'sync_status': {'b6eee9cf-e098-4e29-8552-609d04d2c226': 'ok'}, 'sync_token': 'S_VRCy7oJ5OIQC0mABxEASG3qz1-Z8opz3g9DqyB_-AkWHsStnoelq_EHKb9WcTX6WZrqjdMaAXC9K1dPl_OZPv0M2soNx-Jgfa_QDyzndPiT5L6', 'temp_id_mapping': {'5cb4baf7-b313-457d-a44d-1dac5d187f24': '2580645980'}}\n",
      "Task Felicitar Marcos Melli updated correctly to Felicitar Marcos Melli\n",
      "{'full_sync': True, 'sync_status': {'ba240564-82b0-4f96-be08-95fa29771e71': 'ok'}, 'sync_token': 'zGdCLlF5xCm4gGnLX0HJld3cQzF7YBb4O37_rf5wx0dLaTGHiv3tugokPV-uw8Rx1X7BBoBeH_m-K9_oXxXPG193iGugqmmjuhXTjv6TlMpQ9yhg', 'temp_id_mapping': {'2c2cc057-1297-4d9f-abf8-54974f8e00be': '2580645983'}}\n",
      "Task Felicitar Salva updated correctly to Felicitar Salva\n",
      "{'full_sync': True, 'sync_status': {'99ce50c1-c5b5-48d0-9023-ddd14107e49a': 'ok'}, 'sync_token': 's4EXHStlfKpQ08-865cm3o6JhwPBTSNxnp91vTsFo0G4w5nucT8eQ0qsDh0UwAcdcqzGFuZ7KfKFBCzzBl8Z2A4H6NTqZwWj13aEL-bGbdwM-E4m', 'temp_id_mapping': {'749764bc-dd0e-4248-80ff-e9e31bf37afa': '2580645988'}}\n",
      "Task Felicitar Tia Sole updated correctly to Felicitar Tia Sole\n",
      "{'full_sync': True, 'sync_status': {'7d942d6b-289f-46a8-a2bd-d720f0ed72f7': 'ok'}, 'sync_token': '9hZs7Tkf4caCxuPYkvEGgmdPP78xDsT5995A14BtfkNKbJQtX6jHw2af0t7foNAdMZiNXrxJrcjYw1IMd0uHI-sHb0nILHDX4-I2l3XsKqHV4DEa', 'temp_id_mapping': {'d6d50e82-2284-4335-bf4a-89d179c83c6f': '2580645992'}}\n",
      "Task Felicitar Glori updated correctly to Felicitar Glori\n",
      "{'full_sync': True, 'sync_status': {'effb0e16-29c8-49bd-95f9-31c0b208429e': 'ok'}, 'sync_token': 'WqEfW1kEXag8fweW1Rc7SVMSHyavMJBc1WOUl-rGbqhGY-YIl-8nQ49w0Zv-i9W1pocKKqmRUCQ9yLyQ6lTW-I2wosMxq7JBGTOBNGkYFY1dONI-', 'temp_id_mapping': {'a4d58df6-fea0-434f-ba99-fbde9c40cf78': '2580645993'}}\n",
      "Task Felicitar Ángela updated correctly to Felicitar Ángela\n",
      "{'full_sync': True, 'sync_status': {'a64ea42f-d3f2-46e4-a609-e8208cbea5f5': 'ok'}, 'sync_token': 'f4WfcSKdyYAno3G4aHQZMZWjGzw2tEYDzdNykbgXDWdLynUaU1d9qgtnWKp8eEURzOnCMwjug7zeBWZkCyfDWRXx-V_Q0ANdLpb4_8XAMY-uhLqX', 'temp_id_mapping': {'33e5d2ef-021f-4d92-a762-e24ec9b28a78': '2580645997'}}\n",
      "Task Felicitar Chenko updated correctly to Felicitar Chenko\n",
      "{'full_sync': True, 'sync_status': {'e7a7fba8-b5a1-49b1-b81a-636563d2d9fe': 'ok'}, 'sync_token': '13LpxB7djOsGoc6MqCo9dZOnzR9mdrAhW5eywKPgdPwU6ZyCrGi16_dJx_4aTpZeLuFyQvpWhMpNIFKWmEqwZGHM4ismrsJxzjBKFP_bhoSlGUCN', 'temp_id_mapping': {'83e0aa61-6e86-42c1-863e-f40efbf98dc5': '2580645998'}}\n",
      "Task Felicitar Sandruqui updated correctly to Felicitar Sandruqui\n",
      "{'full_sync': True, 'sync_status': {'075cc964-7ca8-4111-ba43-f7abce8f93dd': 'ok'}, 'sync_token': 'cEpbyFubUNeZ3WR9kWmriTntCxfqToxCfWB5QxG2s3Tzh4OsJLUtnptW997DOZb0-MPp2xAxjfLThHYkO73HmtH1fDpXLgtaIXZUioL3QFTdaSrG', 'temp_id_mapping': {'86870816-9f74-4238-9b89-4210d557b3a9': '2580646002'}}\n",
      "Task Felicitar Tere Agudo updated correctly to Felicitar Tere Agudo\n",
      "{'full_sync': True, 'sync_status': {'25c6f000-7cf8-49d1-b405-6c635ae83cfd': 'ok'}, 'sync_token': '4yVIknjHv03iov2qahYpCD8wAcc78mgT28E1ZJnNF8tnCBhymOE_wgJ-awKi58WUk5uKMv61sxkRfY1xVa_8Lq25eCtb6Tp3PDy-Dnuue8daebdP', 'temp_id_mapping': {'a1795176-01f2-4e39-8d49-ee275a9c3933': '2580646004'}}\n",
      "Task Felicitar None updated correctly to Felicitar None\n",
      "{'full_sync': True, 'sync_status': {'5a04a9ce-ad88-4631-8f1c-e38a628e18f1': 'ok'}, 'sync_token': 'Kw6zME8sFMxytkrx5unsYHsSHrPK6quMOiG8UKLvy3Kuk-Y2gWe2BjhwfVFnGDbPyieLcvEqD4Am9kMb2DH660DAtSJkJPQBH5sn4M10co7-FVWj', 'temp_id_mapping': {'3aba6177-4bed-4b2e-980a-d75b70df51ae': '2580646008'}}\n",
      "Task Felicitar Andrés updated correctly to Felicitar Andrés\n",
      "{'full_sync': True, 'sync_status': {'d98e6b05-18c1-44fc-892f-916baff4c8aa': 'ok'}, 'sync_token': 'JNrYgvB6PDINFMUcN4it0o0oo5BWwx4WjWeK0mncdZDxtQhcP8K00uFr8FnZyTvH8CY-Kh5QQocfEs03b0MS9kDpwgK-azDEtwipmrdDThehJfzQ', 'temp_id_mapping': {'752596e5-e382-4c7e-86fc-5a55d848febd': '2580646011'}}\n",
      "Task Felicitar Pelarda updated correctly to Felicitar Pelarda\n",
      "{'full_sync': True, 'sync_status': {'d89d4ac8-7f05-4648-8e1a-41f1a9fc8ad1': 'ok'}, 'sync_token': 'mm8MqkVVEC-KkxUpdCd4SVp46FPF66GYL75BS5I3XG2ihCbS8nHmhhT2RSqTUFITCB1O9deyolJtFyt8Id3w9q04bf3daiEVDq5Viqy_O_M5B66f', 'temp_id_mapping': {'593ef577-8c37-4694-b934-ef8abf07cd7c': '2580646014'}}\n",
      "Task Felicitar Papá y Mamá updated correctly to Felicitar Papá y Mamá\n",
      "{'full_sync': True, 'sync_status': {'07154fbd-ed1b-4967-9afb-128384e77a55': 'ok'}, 'sync_token': 'mWhBB4zgqtNw4aiUX7YQeykRfvoxl12SdKAfKrXlaPQqUOZ9pJBaZJE8N-OM27NQ3fo07NBAGF17gNSG7gmUnAi4BlSflZd0rmSD375pJtudOjc0', 'temp_id_mapping': {'cb64fa67-979e-451f-98bc-8e9812611bdd': '2580646018'}}\n",
      "Task Felicitar Pablo Sánchez updated correctly to Felicitar Pablo Sánchez\n",
      "{'full_sync': True, 'sync_status': {'918cb7ec-45b1-44e2-95c2-1846e9944dfc': 'ok'}, 'sync_token': 'nuLPAJtMmoAqJ8sxTAE9eqC1UOSRxRZhY7wipJ0F-_ObSjOUI87gsJxaUMVgIAejsnLGBHkQaeJPqXogM2zFNHj7S3gWFBQZOBoy47F4-zJbUz-J', 'temp_id_mapping': {'b4834ff1-5cb6-4645-948c-c1648242c517': '2580646019'}}\n",
      "Task Felicitar Tia Bea updated correctly to Felicitar Tia Bea\n",
      "{'full_sync': True, 'sync_status': {'02a395a7-79f5-4526-a6cc-f0984e03a342': 'ok'}, 'sync_token': 'GMsxL8EBetscQJGcCvAeAngpHSJU1fGsrLiz_v7asSFnZ6GVCyoNN9TPn9YxfXulcvdOEN6dBGzZU6LNzGIOU8eTEHGUJkq4oMHYGw19vW8n1SGM', 'temp_id_mapping': {'9d687396-ecf4-4282-8dfc-6f6adf3b326f': '2580646023'}}\n",
      "Task Felicitar Diego Primo updated correctly to Felicitar Diego Primo\n",
      "{'full_sync': True, 'sync_status': {'87a62718-0975-40da-8de3-a38e04b37f97': 'ok'}, 'sync_token': 'XP0JERSRtIZc0R1zl4IiUs_t3hCbuIm9fEcK0QzcQBBoPAfj5WWKQSoucqzUYlOLKE8e9FJyapnwFVyGHTLjDjT9M6512ZZ5WJ1stJiZfVAmDiMG', 'temp_id_mapping': {'f1832ce2-2ddb-4d66-8ff6-1ac3d74341bc': '2580646030'}}\n",
      "Task Felicitar Jay Samuel updated correctly to Felicitar Jay Samuel\n",
      "{'full_sync': True, 'sync_status': {'c05a98af-9f7c-4189-9df0-5e632eb5afdf': 'ok'}, 'sync_token': 'UEDA-vf6gaTWqzcxF5muGjoXIQSrOmwifpfYItAV6-1a8AbevfTyrJgGLv8HoXcA0X-LVsAo6TkZ_aQXo0Ya2y6BAIKelLb7AD_HeTKzHpShBuyj', 'temp_id_mapping': {'c95e7a29-7a78-464c-bb3a-6c809b128ad7': '2580646035'}}\n",
      "Task Felicitar Asier Euipo updated correctly to Felicitar Asier Euipo\n",
      "{'full_sync': True, 'sync_status': {'d01e5ef2-aac4-42eb-809a-caa3e6627ee1': 'ok'}, 'sync_token': 'X_lKZ13tR7LuEO9TqZMjYaLZ2PvOPqCutLJAlGXiA_Z38iP69UtQGr-RcYSGw78PkTLL5vyHRavnhaRQP9oEreB4lcyb_ynTdjEkS-OEcS2t314k', 'temp_id_mapping': {'0197df3b-f05c-47f1-abe1-1930d56750e7': '2580646044'}}\n",
      "Task Felicitar Alberto updated correctly to Felicitar Alberto\n",
      "{'full_sync': True, 'sync_status': {'e7c2c03a-91c5-49c3-8c70-3814b123af5c': 'ok'}, 'sync_token': '2qXnJUb2F6CUy45CjAl-q_lU5d8dxAcsG-9snctTb_wrtKTmEVORMlgNFCkJqlecP43PnRPTfzb9CyEQriMdRXj_2mgLIunSiXxFCYXBN8Bta3sn', 'temp_id_mapping': {'ea2fe1c5-26ab-472f-b4c0-bf8e1880e1f9': '2580646054'}}\n",
      "Task Felicitar Isa Llamas updated correctly to Felicitar Isa Llamas\n",
      "{'full_sync': True, 'sync_status': {'009159a3-6bbb-4120-9f40-5288ab05a9b5': 'ok'}, 'sync_token': 'OSdh3PnIvfH6txchHe_6Q3MhWDtWCcA4oQNMSMNXodKroRXwsyO-EgQrtLLDLNSdZ5whZrbadeRJvZFqZsUDC_0NDC2ZEqcTTMBnpDYprtfiAbX8', 'temp_id_mapping': {'7b34dd9b-8437-4ad6-b49a-c412d9e92518': '2580646057'}}\n",
      "Task Felicitar Alessandra updated correctly to Felicitar Alessandra\n",
      "{'full_sync': True, 'sync_status': {'7018b6ae-1e1e-4a9f-9338-7459e2df2e61': 'ok'}, 'sync_token': 'Qknf9TzOS3D_9mKNVtjRvb4qjp5LrmzaceiskDLtmI5ICA-lF5gLhhyjr7-tnZK0xjnNibbaVq6OQ8-tYOmYdmZBm1bfYQd5ugGoFBylf4H3Uv3U', 'temp_id_mapping': {'41b019c9-6233-47aa-87bd-c72ca3b16cf7': '2580646059'}}\n",
      "Task Felicitar Celia updated correctly to Felicitar Celia\n",
      "{'full_sync': True, 'sync_status': {'f174801b-f778-44c0-b3da-f24273879b46': 'ok'}, 'sync_token': 'KLcZbLZt_JPyUAfgI6acWab0PlIiHqN1vFZknSkrzrIKxrGAhQTkgp1mB0u9mpq2Owidqw1V97eCZ2yIVpau9swEXNuM7yR4e9aEglaYQqdZ6w15', 'temp_id_mapping': {'7ff75698-69b9-4565-97d4-12887e63e771': '2580646063'}}\n",
      "Task Felicitar Maria Madeira updated correctly to Felicitar Maria Madeira\n",
      "{'full_sync': True, 'sync_status': {'a79530e5-8aba-419e-bfcb-ce96fb03289a': 'ok'}, 'sync_token': 'feZwaedk-vHlG7s0fEXy3ooxEgRMfEsgpoiZObfAPA3pBc4DY9WQTE0duy8KxhZqg4NwqSiKaPYq0bvB242FmS0-6q69IQKlS56x7XWEhe0hfYc1', 'temp_id_mapping': {'6769b44a-a7a2-48ef-b5a0-526f4464148a': '2580646064'}}\n",
      "Task Felicitar Tío Javier updated correctly to Felicitar Tío Javier\n",
      "{'full_sync': True, 'sync_status': {'7f2ace33-7447-45f8-9845-9452c07b9a89': 'ok'}, 'sync_token': 'DJ-HLcyESFtlHEIkgQC223Vl4ARy_cqWiHX_DZOZPIPZg-IOiLdWUASlu-Ev8CQu7_tzs23rISHsaaIrvKCHoEbRJ6aSDPppbbejIYXIxhB4Zj2d', 'temp_id_mapping': {'22047d98-8d17-4a4f-af2a-2898a05b4be0': '2580646066'}}\n",
      "Task Felicitar Lorena updated correctly to Felicitar Lorena\n",
      "{'full_sync': True, 'sync_status': {'1fc286b9-1f87-42c5-ae01-dfe318bbcc4c': 'ok'}, 'sync_token': 'v4kHRmZCEWPPdzNS6BneSuedkBS1Cmc-vnsXt60XXnlRNwe1-uYYazQ5gH8ni5NsGfDZQSLpaEG0ss5Qt75MzHUqEdFF5fXEG12qy0rjjxf_Ttx0', 'temp_id_mapping': {'43440413-d05e-4144-9efd-f74ba0d2ef14': '2580646067'}}\n",
      "Task Felicitar Delia updated correctly to Felicitar Delia\n",
      "{'full_sync': True, 'sync_status': {'834c9a99-2a29-4fcb-bb8e-025904085405': 'ok'}, 'sync_token': '5usZv81jzS-ZjaLjdiR-mRRoOU3TXhGjZSsJHlZ2WsyElUCK6WdrSIu_WWxjYq-YWsRFuY44vppbxRQOZ544LC12-BVQGYRpwFKR28kUwops48JF', 'temp_id_mapping': {'8f3437fa-635d-41cc-b8f7-4599b84b4f76': '2580646069'}}\n",
      "Task Felicitar Marina updated correctly to Felicitar Marina\n",
      "{'full_sync': True, 'sync_status': {'417d0082-d164-478c-82f2-77103fd43a5a': 'ok'}, 'sync_token': 'yOpp6RFwD6YS8Rf7U1Rst3DRdTzbgh10bQnc2Io5S1eu1sx4LAjvSYzc5yUrACIShWPHqOR2RDJdoajuUoSkfzuxeMjTvtogp6ilJQndBFEhBwn0', 'temp_id_mapping': {'dcddac5f-ee6f-45a4-ac9e-3b4cb06f393e': '2580646073'}}\n",
      "Task Felicitar Javi Pedrazuela updated correctly to Felicitar Javi Pedrazuela\n",
      "{'full_sync': True, 'sync_status': {'41f77a8a-f870-4db5-b89a-074dfe903d9d': 'ok'}, 'sync_token': '-sQ8R6vuJFWtNAY3zvz6LlCK3TAmfD6pO9PyMNWTnmZg4E1HJHTb43NrNk9eWFXiWg35xeO0QGyRyHhPdHYFh1AtIl1ebSvDWQL8dQSO7eSTejAx', 'temp_id_mapping': {'df305f11-027b-43d3-b2dc-ea16e942a9da': '2580646077'}}\n",
      "Task Felicitar Mohedas updated correctly to Felicitar Mohedas\n",
      "{'full_sync': True, 'sync_status': {'b730553f-1b0a-4727-9262-fb5339d3546b': 'ok'}, 'sync_token': 'YG3l1vHNGn8tXbfS2JboIPULmyDLumfGy9WL73K8ePVvDwLe3HOeQhsl1ixzMsmuXdoMxh8q-zpNmv5jpFY_vFZa906sYRzz0gIBLmlDCQ5D9xFO', 'temp_id_mapping': {'3b967f0e-5ae1-43c3-acf7-689d314769ce': '2580646081'}}\n",
      "Task Felicitar Diego Negro updated correctly to Felicitar Diego Negro\n",
      "{'full_sync': True, 'sync_status': {'72261d4f-1c37-482b-889a-9be23fecdb21': 'ok'}, 'sync_token': 'j80EKh5YMsU5xF28kZL28es6LxR0VhCuxHmYYa9KBUUG9kJDklF52TVmIOhUWE8jkS5re0cos76BI0A2wdcFMxpJXPGAYKH909Z0XMPsWGUa4wfJ', 'temp_id_mapping': {'629cdb6b-354e-4357-9ed9-01d77a852b22': '2580646086'}}\n",
      "Task Felicitar Jorge Rosario updated correctly to Felicitar Jorge Rosario\n",
      "{'full_sync': True, 'sync_status': {'a5f7011e-6895-4884-934a-89a955109bf1': 'ok'}, 'sync_token': '0AhOpClzdx_4ySrr421Ujz9umufPYaobIAhzSfg9bZZacLqn0pOHq3pKGZI3jJ-yBYYHWniysDjnHpFlV8lNS4tYOo8BJGMdlzqjB3LyAvdeNwle', 'temp_id_mapping': {'e0900549-4c27-4f0f-8d5e-907f68a81393': '2580646091'}}\n",
      "Task Felicitar Samu updated correctly to Felicitar Samu\n",
      "{'full_sync': True, 'sync_status': {'27a5999b-84b7-4827-8c03-f90f319eadd5': 'ok'}, 'sync_token': 'ibFM-E5679Hviusqn9cs6_JZqBosOP_xVU1DZemqjys9WZV_umthjeSeobsofNPt146kGikt6PMf3SBoV56BQ8Bc4i_XlCIeLW0qrOKQuskbYQzW', 'temp_id_mapping': {'336c41d6-b9f7-45f7-bf7e-13438723b80c': '2580646097'}}\n",
      "Task Felicitar _ _ _ _ _ updated correctly to Felicitar _ _ _ _ _\n",
      "{'full_sync': True, 'sync_status': {'bbcc2cfe-9dd4-45e7-87ee-ad35213b775c': 'ok'}, 'sync_token': 've5DqqBiDnhe6Xl4XOJoHrHvatS_hCCMgL5X7ndPMabjOfTEy0B9F3OJ8eJGH0u3UPLlYPp11zw_CQcTypYUGy4mn3Hys0UuTNI93ine4zmq2vHT', 'temp_id_mapping': {'15e21c8c-3530-4fda-905f-fee41a8923b4': '2580646100'}}\n",
      "Task Felicitar Iñigo updated correctly to Felicitar Iñigo\n",
      "{'full_sync': True, 'sync_status': {'ad791727-50ab-456d-b1d9-e4a8a0749633': 'ok'}, 'sync_token': '8zZIqp2zJhYlta82TdIqG6JFa5tBBQsO4-AuXHSTeRsrpqYyCQ3USUWDTexR6576jFRauN3UfL3hA25ElkH97dv_wSBNZcgUk201QHIITmcAj3T5', 'temp_id_mapping': {'242f3840-274d-48ce-b236-d6013febe123': '2580646103'}}\n",
      "Task Felicitar Albapa updated correctly to Felicitar Albapa\n",
      "{'full_sync': True, 'sync_status': {'61268e45-c6e1-4854-a863-eec44c0d51a7': 'ok'}, 'sync_token': 'cQ5T122RAItJ11tEF07ZGXo9zfCZVj5djJA6N2NKoGyEWMUbGj-6bOR6fG0_IHXJZG3jjBe1KQ5WnSZqIYLuUEY_jyBPjxk-AVVZeuprAGQuE9vm', 'temp_id_mapping': {'75543d65-c38d-43de-9af6-50d3695fb4d8': '2580646108'}}\n",
      "Task Felicitar Alex Cruz updated correctly to Felicitar Alex Cruz\n",
      "{'full_sync': True, 'sync_status': {'a3b2aa6c-3364-4a21-88a7-079c8a936ebd': 'ok'}, 'sync_token': 'GGiJSgNIDmiVnxCvaJr6giKe_VNvAyd8fX6EBefb6_e0c-ZTCCxT0lC6b_z_xrl-umtHJbM4NyHNqzdztpbgJdrl5MXlZ5cfiNaFz69dEgxZAo6X', 'temp_id_mapping': {'3f19ed9e-0552-4d09-9276-5b21c12994f7': '2580646109'}}\n",
      "Task Felicitar Emma updated correctly to Felicitar Emma\n",
      "{'full_sync': True, 'sync_status': {'1f82ad3f-5f66-4e2e-8010-65a18dde9970': 'ok'}, 'sync_token': 'ehdOcf4SOY0vGxheUCA0MVHdECF-c1fW5NaKJoo0Be-QkNl2PpGA3QElYVVuKvUbzW3X-Ti9PwSTpLy_2mBG9mvaFeue0LjFrsILcGmLlWNKVZtn', 'temp_id_mapping': {'8d162abe-89af-42b0-a59c-9be8314e6302': '2580646110'}}\n",
      "Task Felicitar Miguel Lepe updated correctly to Felicitar Miguel Lepe\n",
      "{'full_sync': True, 'sync_status': {'f14e0574-0923-45bd-aad5-b7507a7260d9': 'ok'}, 'sync_token': 'xldNYC7euGoJdabi0yE8ONtAhQa4gyNHq9wQFrIvFHi9JV9-AW9-YrVQzco_QzXltBb4ZWr1eq9TkV1x5YjEpQozyrvDqDxHu5WJO1iEoZ1H_lix', 'temp_id_mapping': {'dbadd9e7-7bef-4595-a132-2bdc4ecb1caa': '2580646113'}}\n",
      "Task Cumple Abuelo updated correctly to Cumple Abuelo\n",
      "{'error': 'Too many requests. Limits reached. Try again later', 'error_code': 35, 'error_extra': {'event_id': 'e0355aa50fd14f9ba26626f49b741372', 'retry_after': 4}, 'error_tag': 'LIMITS_REACHED', 'http_code': 429}\n",
      "Task Felicitar Pinho updated correctly to Felicitar Pinho\n",
      "{'error': 'Too many requests. Limits reached. Try again later', 'error_code': 35, 'error_extra': {'event_id': 'd5109836947d4d3da70a27057a1872dd', 'retry_after': 3}, 'error_tag': 'LIMITS_REACHED', 'http_code': 429}\n",
      "Task Felicitar Antoine updated correctly to Felicitar Antoine\n",
      "{'error': 'Too many requests. Limits reached. Try again later', 'error_code': 35, 'error_extra': {'event_id': 'c451aefd49e441daa1c0bacfaa10126e', 'retry_after': 4}, 'error_tag': 'LIMITS_REACHED', 'http_code': 429}\n",
      "Task Felicitar Papá updated correctly to Felicitar Papá\n",
      "{'error': 'Too many requests. Limits reached. Try again later', 'error_code': 35, 'error_extra': {'event_id': '02841a5d134e408883a2a96b8f33600e', 'retry_after': 8}, 'error_tag': 'LIMITS_REACHED', 'http_code': 429}\n",
      "Task Felicitar Asi updated correctly to Felicitar Asi\n",
      "{'error': 'Too many requests. Limits reached. Try again later', 'error_code': 35, 'error_extra': {'event_id': 'e75e67d38fbc45039b37a11ee0288d92', 'retry_after': 18}, 'error_tag': 'LIMITS_REACHED', 'http_code': 429}\n",
      "Task Felicitar David updated correctly to Felicitar David\n",
      "{'error': 'Too many requests. Limits reached. Try again later', 'error_code': 35, 'error_extra': {'event_id': '5eb15fc824db4035b910c84440e5b25c', 'retry_after': 35}, 'error_tag': 'LIMITS_REACHED', 'http_code': 429}\n",
      "Task Felicitar Carlos Gg updated correctly to Felicitar Carlos Gg\n",
      "{'error': 'Too many requests. Limits reached. Try again later', 'error_code': 35, 'error_extra': {'event_id': '970aca167d2f496ba5dd7128e27363eb', 'retry_after': 67}, 'error_tag': 'LIMITS_REACHED', 'http_code': 429}\n",
      "Task Felicitar Irenesa updated correctly to Felicitar Irenesa\n",
      "{'error': 'Too many requests. Limits reached. Try again later', 'error_code': 35, 'error_extra': {'event_id': '29246e7c94814a48b8d9d1501747adfb', 'retry_after': 129}, 'error_tag': 'LIMITS_REACHED', 'http_code': 429}\n",
      "Task Felicitar Luisin updated correctly to Felicitar Luisin\n",
      "{'error': 'Too many requests. Limits reached. Try again later', 'error_code': 35, 'error_extra': {'event_id': '90a920158c464699a415d216fab31923', 'retry_after': 258}, 'error_tag': 'LIMITS_REACHED', 'http_code': 429}\n",
      "Task Felicitar Vegazo updated correctly to Felicitar Vegazo\n",
      "{'error': 'Too many requests. Limits reached. Try again later', 'error_code': 35, 'error_extra': {'event_id': '3ed7d537e3f446e4904640f350116600', 'retry_after': 514}, 'error_tag': 'LIMITS_REACHED', 'http_code': 429}\n",
      "Task Felicitar Mendi updated correctly to Felicitar Mendi\n",
      "{'error': 'Too many requests. Limits reached. Try again later', 'error_code': 35, 'error_extra': {'event_id': '771291ecd58d4223b81094d621d23d96', 'retry_after': 1026}, 'error_tag': 'LIMITS_REACHED', 'http_code': 429}\n",
      "Task Felicitar Navarro updated correctly to Felicitar Navarro\n",
      "{'error': 'Too many requests. Limits reached. Try again later', 'error_code': 35, 'error_extra': {'event_id': '4fb9aee9048c46d6b57a292e3f4ee4f3', 'retry_after': 1280}, 'error_tag': 'LIMITS_REACHED', 'http_code': 429}\n",
      "Task Felicitar Charli updated correctly to Felicitar Charli\n",
      "{'error': 'Too many requests. Limits reached. Try again later', 'error_code': 35, 'error_extra': {'event_id': '9d81945cc1bb4dacab86230230962677', 'retry_after': 1280}, 'error_tag': 'LIMITS_REACHED', 'http_code': 429}\n",
      "Task Felicitar Abuela updated correctly to Felicitar Abuela\n",
      "{'error': 'Too many requests. Limits reached. Try again later', 'error_code': 35, 'error_extra': {'event_id': 'b1fe1b52c7c24a3fa332dbbbad045874', 'retry_after': 1280}, 'error_tag': 'LIMITS_REACHED', 'http_code': 429}\n",
      "Task Felicitar Pablope updated correctly to Felicitar Pablope\n",
      "{'error': 'Too many requests. Limits reached. Try again later', 'error_code': 35, 'error_extra': {'event_id': '86712a0d8a414b7eb75701a886c9b390', 'retry_after': 1280}, 'error_tag': 'LIMITS_REACHED', 'http_code': 429}\n",
      "Task Felicitar Moyito updated correctly to Felicitar Moyito\n",
      "{'error': 'Too many requests. Limits reached. Try again later', 'error_code': 35, 'error_extra': {'event_id': 'd72dd4128cec46e298f73cd8e01db541', 'retry_after': 1280}, 'error_tag': 'LIMITS_REACHED', 'http_code': 429}\n",
      "Task Felicitar Purulo updated correctly to Felicitar Purulo\n",
      "{'error': 'Too many requests. Limits reached. Try again later', 'error_code': 35, 'error_extra': {'event_id': '0c66cfb082524a1ab34d6b375a5a32c1', 'retry_after': 1280}, 'error_tag': 'LIMITS_REACHED', 'http_code': 429}\n",
      "Task Felicitar Retu updated correctly to Felicitar Retu\n",
      "{'error': 'Too many requests. Limits reached. Try again later', 'error_code': 35, 'error_extra': {'event_id': '9870fd124d1b4389a862126ba0dc7ac0', 'retry_after': 1280}, 'error_tag': 'LIMITS_REACHED', 'http_code': 429}\n",
      "Task Felicitar Martín updated correctly to Felicitar Martín\n",
      "{'error': 'Too many requests. Limits reached. Try again later', 'error_code': 35, 'error_extra': {'event_id': '55582edf83e6449db11dff1799f2a11d', 'retry_after': 1280}, 'error_tag': 'LIMITS_REACHED', 'http_code': 429}\n",
      "Task Felicitar Puru updated correctly to Felicitar Puru\n",
      "{'error': 'Too many requests. Limits reached. Try again later', 'error_code': 35, 'error_extra': {'event_id': '055f3e430bd342039083db75b46c4c80', 'retry_after': 1280}, 'error_tag': 'LIMITS_REACHED', 'http_code': 429}\n",
      "Task Felicitar Papá updated correctly to Felicitar Papá\n",
      "{'error': 'Too many requests. Limits reached. Try again later', 'error_code': 35, 'error_extra': {'event_id': '5a24fc20d2044fce81d197f644f893fb', 'retry_after': 1280}, 'error_tag': 'LIMITS_REACHED', 'http_code': 429}\n",
      "Task Felicitar Mamá updated correctly to Felicitar Mamá\n",
      "{'error': 'Too many requests. Limits reached. Try again later', 'error_code': 35, 'error_extra': {'event_id': '07adca21ed1c42d0a304b6b75ecf32cd', 'retry_after': 1280}, 'error_tag': 'LIMITS_REACHED', 'http_code': 429}\n",
      "Task Felicitar Paulah updated correctly to Felicitar Paulah\n",
      "{'error': 'Too many requests. Limits reached. Try again later', 'error_code': 35, 'error_extra': {'event_id': '92d80884fb57450b90508b7ca36551e9', 'retry_after': 1280}, 'error_tag': 'LIMITS_REACHED', 'http_code': 429}\n",
      "Task Felicitar Martasa updated correctly to Felicitar Martasa\n",
      "{'error': 'Too many requests. Limits reached. Try again later', 'error_code': 35, 'error_extra': {'event_id': '670c7dbf79a34096a083cecf6bb8ba0d', 'retry_after': 1280}, 'error_tag': 'LIMITS_REACHED', 'http_code': 429}\n",
      "Task Felicitar Martu updated correctly to Felicitar Martu\n",
      "{'error': 'Too many requests. Limits reached. Try again later', 'error_code': 35, 'error_extra': {'event_id': '5c5d8b4f2f4f4bf386a6c9630c812b43', 'retry_after': 1280}, 'error_tag': 'LIMITS_REACHED', 'http_code': 429}\n",
      "Task Felicitar Bego updated correctly to Felicitar Bego\n",
      "{'error': 'Too many requests. Limits reached. Try again later', 'error_code': 35, 'error_extra': {'event_id': 'd42a6581c89745619793046575224d9b', 'retry_after': 1280}, 'error_tag': 'LIMITS_REACHED', 'http_code': 429}\n",
      "Task Felicitar Mollita updated correctly to Felicitar Mollita\n",
      "{'error': 'Too many requests. Limits reached. Try again later', 'error_code': 35, 'error_extra': {'event_id': 'b287a037302f43229ce507aaea380b44', 'retry_after': 1280}, 'error_tag': 'LIMITS_REACHED', 'http_code': 429}\n",
      "Task Felicitar Jimmy updated correctly to Felicitar Jimmy\n",
      "{'error': 'Too many requests. Limits reached. Try again later', 'error_code': 35, 'error_extra': {'event_id': '02bee14f0f94477a908797d83ae91fa0', 'retry_after': 1280}, 'error_tag': 'LIMITS_REACHED', 'http_code': 429}\n",
      "Task Felicitar Quique updated correctly to Felicitar Quique\n",
      "{'error': 'Too many requests. Limits reached. Try again later', 'error_code': 35, 'error_extra': {'event_id': '31f3ef4630c4479e81eb5617ff397b65', 'retry_after': 1280}, 'error_tag': 'LIMITS_REACHED', 'http_code': 429}\n",
      "Task Felicitar Loren updated correctly to Felicitar Loren\n",
      "{'error': 'Too many requests. Limits reached. Try again later', 'error_code': 35, 'error_extra': {'event_id': '1cd3348e675547cdbe2078bfcbbcf23f', 'retry_after': 1280}, 'error_tag': 'LIMITS_REACHED', 'http_code': 429}\n"
     ]
    },
    {
     "ename": "KeyError",
     "evalue": "'items'",
     "output_type": "error",
     "traceback": [
      "\u001b[1;31m---------------------------------------------------------------------------\u001b[0m",
      "\u001b[1;31mKeyError\u001b[0m                                  Traceback (most recent call last)",
      "\u001b[1;32mc:\\Users\\DIERODRI8\\Documents\\GitHub\\Todoist\\src\\maindiego.ipynb Cell 43\u001b[0m line \u001b[0;36m2\n\u001b[0;32m     <a href='vscode-notebook-cell:/c%3A/Users/DIERODRI8/Documents/GitHub/Todoist/src/maindiego.ipynb#X61sZmlsZQ%3D%3D?line=19'>20</a>\u001b[0m     messages\u001b[39m.\u001b[39mappend(message)\n\u001b[0;32m     <a href='vscode-notebook-cell:/c%3A/Users/DIERODRI8/Documents/GitHub/Todoist/src/maindiego.ipynb#X61sZmlsZQ%3D%3D?line=20'>21</a>\u001b[0m \u001b[39melse\u001b[39;00m:\n\u001b[1;32m---> <a href='vscode-notebook-cell:/c%3A/Users/DIERODRI8/Documents/GitHub/Todoist/src/maindiego.ipynb#X61sZmlsZQ%3D%3D?line=21'>22</a>\u001b[0m     all_tasks, task_dict_id, task_dict_name \u001b[39m=\u001b[39m refreshTasks()\n",
      "\u001b[1;32mc:\\Users\\DIERODRI8\\Documents\\GitHub\\Todoist\\src\\maindiego.ipynb Cell 43\u001b[0m line \u001b[0;36m2\n\u001b[0;32m      <a href='vscode-notebook-cell:/c%3A/Users/DIERODRI8/Documents/GitHub/Todoist/src/maindiego.ipynb#X61sZmlsZQ%3D%3D?line=0'>1</a>\u001b[0m \u001b[39mdef\u001b[39;00m \u001b[39mrefreshTasks\u001b[39m():\n\u001b[1;32m----> <a href='vscode-notebook-cell:/c%3A/Users/DIERODRI8/Documents/GitHub/Todoist/src/maindiego.ipynb#X61sZmlsZQ%3D%3D?line=1'>2</a>\u001b[0m     all_tasks \u001b[39m=\u001b[39m tf\u001b[39m.\u001b[39;49mgetTasks()\n\u001b[0;32m      <a href='vscode-notebook-cell:/c%3A/Users/DIERODRI8/Documents/GitHub/Todoist/src/maindiego.ipynb#X61sZmlsZQ%3D%3D?line=2'>3</a>\u001b[0m     task_dict_id, task_dict_name \u001b[39m=\u001b[39m tf\u001b[39m.\u001b[39mgetTasksDicts(all_tasks, projects_dict_id, projects_dict_name)\n\u001b[0;32m      <a href='vscode-notebook-cell:/c%3A/Users/DIERODRI8/Documents/GitHub/Todoist/src/maindiego.ipynb#X61sZmlsZQ%3D%3D?line=3'>4</a>\u001b[0m     \u001b[39mreturn\u001b[39;00m all_tasks, task_dict_id, task_dict_name\n",
      "File \u001b[1;32mc:\\Users\\DIERODRI8\\Documents\\GitHub\\Todoist\\src\\..\\functions.py:72\u001b[0m, in \u001b[0;36mTodoistFunctions.getTasks\u001b[1;34m(self)\u001b[0m\n\u001b[0;32m     67\u001b[0m data \u001b[39m=\u001b[39m {\n\u001b[0;32m     68\u001b[0m     \u001b[39m\"\u001b[39m\u001b[39msync_token\u001b[39m\u001b[39m\"\u001b[39m: \u001b[39m\"\u001b[39m\u001b[39m*\u001b[39m\u001b[39m\"\u001b[39m,\n\u001b[0;32m     69\u001b[0m     \u001b[39m\"\u001b[39m\u001b[39mresource_types\u001b[39m\u001b[39m\"\u001b[39m: json\u001b[39m.\u001b[39mdumps([\u001b[39m'\u001b[39m\u001b[39mitems\u001b[39m\u001b[39m'\u001b[39m])\n\u001b[0;32m     70\u001b[0m }\n\u001b[0;32m     71\u001b[0m response \u001b[39m=\u001b[39m requests\u001b[39m.\u001b[39mpost(\u001b[39mself\u001b[39m\u001b[39m.\u001b[39msync_url, headers\u001b[39m=\u001b[39m\u001b[39mself\u001b[39m\u001b[39m.\u001b[39mheaders, data\u001b[39m=\u001b[39mjson\u001b[39m.\u001b[39mdumps(data))\n\u001b[1;32m---> 72\u001b[0m all_tasks \u001b[39m=\u001b[39m response\u001b[39m.\u001b[39;49mjson()[\u001b[39m\"\u001b[39;49m\u001b[39mitems\u001b[39;49m\u001b[39m\"\u001b[39;49m]\n\u001b[0;32m     73\u001b[0m active_tasks \u001b[39m=\u001b[39m [task \u001b[39mfor\u001b[39;00m task \u001b[39min\u001b[39;00m all_tasks \u001b[39mif\u001b[39;00m task[\u001b[39m'\u001b[39m\u001b[39mproject_id\u001b[39m\u001b[39m'\u001b[39m] \u001b[39min\u001b[39;00m active_projects_ids]\n\u001b[0;32m     74\u001b[0m \u001b[39mreturn\u001b[39;00m active_tasks\n",
      "\u001b[1;31mKeyError\u001b[0m: 'items'"
     ]
    }
   ],
   "source": [
    "to_update = False\n",
    "messages.append('Birthday tasks to add labels...')\n",
    "for task in all_tasks:\n",
    "    if task['project_id'] == projects_dict_name['Cumpleaños'] and task['labels'] != ['Phone','Short']:\n",
    "        to_update = True\n",
    "        month = task['due']['date'][5:7]\n",
    "        day = task['due']['date'][8:10]\n",
    "        message = editTask(task_id=task['id'],\n",
    "                           due_string=f'cada {day} {month} 23:00',\n",
    "                           labels=['Phone','Short'])\n",
    "        messages.append(\"- \" + message)\n",
    "        response = tf.setReminder(task_id=task['id'],\n",
    "                                   minute_offset=1380)\n",
    "        print(response)\n",
    "\n",
    "if not to_update:\n",
    "    messages = messages[:-1]\n",
    "    message = \"No birthday tasks to add labels\"\n",
    "    print(message)\n",
    "    messages.append(message)\n",
    "else:\n",
    "    all_tasks, task_dict_id, task_dict_name = refreshTasks()"
   ]
  },
  {
   "cell_type": "markdown",
   "metadata": {},
   "source": [
    "#### <span style=\"font-family:Cascadia mono; color:silver\">Fantasy task due</span>"
   ]
  },
  {
   "cell_type": "code",
   "execution_count": null,
   "metadata": {},
   "outputs": [],
   "source": [
    "evaluate = True\n",
    "if tf.getTask('4632052423').is_completed == True:\n",
    "    tf.uncompleteTask('4632052423')\n",
    "    editTask('4632052423', due_string='every friday 20:00')\n",
    "    message = 'Fantasy task moved back to fridays'\n",
    "    print (message)\n",
    "    messages.append(message)\n",
    "    evaluate = False"
   ]
  },
  {
   "cell_type": "code",
   "execution_count": null,
   "metadata": {},
   "outputs": [],
   "source": [
    "to_update = False\n",
    "if evaluate:\n",
    "    if today.weekday() in [0,5,6] and tf.getTask('4632052423').due.date != today.strftime('%Y-%m-%d'):\n",
    "        for task in all_tasks:\n",
    "            if task['section_id'] == '51988025' and task['parent_id'] == '8023322112':\n",
    "                try:\n",
    "                    fantasydate = datetime.strptime(tf.getTask('4632052423').due.date, '%Y-%m-%d')\n",
    "                    matchday = datetime.strptime(task['due']['date'][:10], '%Y-%m-%d')\n",
    "                    if fantasydate > matchday > tf.getNextMonday():\n",
    "                        message = 'Fantasy task moved to Tuesday'\n",
    "                        messages.append(message)\n",
    "                        editTask('4632052423', due_string=\"Tuesday\")\n",
    "                        to_update = True\n",
    "                        all_tasks, task_dict_id, task_dict_name = refreshTasks()\n",
    "                        break\n",
    "                except TypeError:\n",
    "                    pass\n",
    "    if not to_update:\n",
    "        message = 'Fantasy not moved'\n",
    "        print(message)\n",
    "        messages.append(message)"
   ]
  },
  {
   "cell_type": "markdown",
   "metadata": {},
   "source": [
    "#### <span style=\"font-family:Cascadia mono; color:silver\">Tasks with similar names</span>"
   ]
  },
  {
   "cell_type": "code",
   "execution_count": null,
   "metadata": {},
   "outputs": [],
   "source": [
    "def similarTasks(project_ids, umbral=0.5):\n",
    "    project_tasks = []\n",
    "    similars = []\n",
    "    for task in all_tasks:\n",
    "        if task['project_id'] in project_ids:\n",
    "            project_tasks.append(task['id'])\n",
    "    for i in range(len(project_tasks)-1):\n",
    "        for j in range(i+1,len(project_tasks)):\n",
    "            message = fun.areSimilar(task_dict_id[project_tasks[i]][0],\n",
    "                                        task_dict_id[project_tasks[j]][0],\n",
    "                                        umbral=umbral) \n",
    "            if message != None and message != 'Agua & Agua' and message != 'Tweet & Tweet' and message != 'README & README':\n",
    "                similars.append(message)\n",
    "    return similars\n",
    "            "
   ]
  },
  {
   "cell_type": "code",
   "execution_count": null,
   "metadata": {},
   "outputs": [
    {
     "ename": "NameError",
     "evalue": "name 'projects_dict_name' is not defined",
     "output_type": "error",
     "traceback": [
      "\u001b[1;31m---------------------------------------------------------------------------\u001b[0m",
      "\u001b[1;31mNameError\u001b[0m                                 Traceback (most recent call last)",
      "\u001b[1;32mc:\\Users\\DIERODRI8\\Documents\\GitHub\\Todoist\\src\\maindiego.ipynb Cell 50\u001b[0m line \u001b[0;36m1\n\u001b[1;32m----> <a href='vscode-notebook-cell:/c%3A/Users/DIERODRI8/Documents/GitHub/Todoist/src/maindiego.ipynb#Y100sZmlsZQ%3D%3D?line=0'>1</a>\u001b[0m similars \u001b[39m=\u001b[39m similarTasks(project_ids\u001b[39m=\u001b[39m[projects_dict_name[\u001b[39m'\u001b[39m\u001b[39mArchivados\u001b[39m\u001b[39m'\u001b[39m],\n\u001b[0;32m      <a href='vscode-notebook-cell:/c%3A/Users/DIERODRI8/Documents/GitHub/Todoist/src/maindiego.ipynb#Y100sZmlsZQ%3D%3D?line=1'>2</a>\u001b[0m                                     projects_dict_name[\u001b[39m'\u001b[39m\u001b[39mRecordatorios\u001b[39m\u001b[39m'\u001b[39m],\n\u001b[0;32m      <a href='vscode-notebook-cell:/c%3A/Users/DIERODRI8/Documents/GitHub/Todoist/src/maindiego.ipynb#Y100sZmlsZQ%3D%3D?line=2'>3</a>\u001b[0m                                     projects_dict_name[\u001b[39m'\u001b[39m\u001b[39mTareas\u001b[39m\u001b[39m'\u001b[39m],\n\u001b[0;32m      <a href='vscode-notebook-cell:/c%3A/Users/DIERODRI8/Documents/GitHub/Todoist/src/maindiego.ipynb#Y100sZmlsZQ%3D%3D?line=3'>4</a>\u001b[0m                                     projects_dict_name[\u001b[39m'\u001b[39m\u001b[39mCalendario\u001b[39m\u001b[39m'\u001b[39m],\n\u001b[0;32m      <a href='vscode-notebook-cell:/c%3A/Users/DIERODRI8/Documents/GitHub/Todoist/src/maindiego.ipynb#Y100sZmlsZQ%3D%3D?line=4'>5</a>\u001b[0m                                     projects_dict_name[\u001b[39m'\u001b[39m\u001b[39mCursos\u001b[39m\u001b[39m'\u001b[39m],\n\u001b[0;32m      <a href='vscode-notebook-cell:/c%3A/Users/DIERODRI8/Documents/GitHub/Todoist/src/maindiego.ipynb#Y100sZmlsZQ%3D%3D?line=5'>6</a>\u001b[0m                                     projects_dict_name[\u001b[39m'\u001b[39m\u001b[39mGitHub\u001b[39m\u001b[39m'\u001b[39m],\n\u001b[0;32m      <a href='vscode-notebook-cell:/c%3A/Users/DIERODRI8/Documents/GitHub/Todoist/src/maindiego.ipynb#Y100sZmlsZQ%3D%3D?line=6'>7</a>\u001b[0m                                     projects_dict_name[\u001b[39m'\u001b[39m\u001b[39mDiarias\u001b[39m\u001b[39m'\u001b[39m],\n\u001b[0;32m      <a href='vscode-notebook-cell:/c%3A/Users/DIERODRI8/Documents/GitHub/Todoist/src/maindiego.ipynb#Y100sZmlsZQ%3D%3D?line=7'>8</a>\u001b[0m                                     projects_dict_name[\u001b[39m'\u001b[39m\u001b[39mSemanales\u001b[39m\u001b[39m'\u001b[39m],\n\u001b[0;32m      <a href='vscode-notebook-cell:/c%3A/Users/DIERODRI8/Documents/GitHub/Todoist/src/maindiego.ipynb#Y100sZmlsZQ%3D%3D?line=8'>9</a>\u001b[0m                                     projects_dict_name[\u001b[39m'\u001b[39m\u001b[39mMensuales\u001b[39m\u001b[39m'\u001b[39m]],\n\u001b[0;32m     <a href='vscode-notebook-cell:/c%3A/Users/DIERODRI8/Documents/GitHub/Todoist/src/maindiego.ipynb#Y100sZmlsZQ%3D%3D?line=9'>10</a>\u001b[0m                        umbral\u001b[39m=\u001b[39m\u001b[39m0.7\u001b[39m)\n\u001b[0;32m     <a href='vscode-notebook-cell:/c%3A/Users/DIERODRI8/Documents/GitHub/Todoist/src/maindiego.ipynb#Y100sZmlsZQ%3D%3D?line=10'>11</a>\u001b[0m \u001b[39mif\u001b[39;00m similars \u001b[39m!=\u001b[39m []:\n\u001b[0;32m     <a href='vscode-notebook-cell:/c%3A/Users/DIERODRI8/Documents/GitHub/Todoist/src/maindiego.ipynb#Y100sZmlsZQ%3D%3D?line=11'>12</a>\u001b[0m     messages\u001b[39m.\u001b[39mappend(\u001b[39m'\u001b[39m\u001b[39mNext tasks are similar:\u001b[39m\u001b[39m'\u001b[39m)\n",
      "\u001b[1;31mNameError\u001b[0m: name 'projects_dict_name' is not defined"
     ]
    }
   ],
   "source": [
    "similars = similarTasks(project_ids=[projects_dict_name['Archivados'],\n",
    "                                    projects_dict_name['Recordatorios'],\n",
    "                                    projects_dict_name['Tareas'],\n",
    "                                    projects_dict_name['Calendario'],\n",
    "                                    projects_dict_name['Cursos'],\n",
    "                                    projects_dict_name['GitHub'],\n",
    "                                    projects_dict_name['Diarias'],\n",
    "                                    projects_dict_name['Semanales'],\n",
    "                                    projects_dict_name['Mensuales']],\n",
    "                       umbral=0.7)\n",
    "if similars != []:\n",
    "    messages.append('Next tasks are similar:')\n",
    "    for similar in similars:\n",
    "        print(similar)\n",
    "        messages.append(f'- {similar}')\n",
    "else:\n",
    "    messages.append('No similar tasks')\n",
    "    "
   ]
  },
  {
   "cell_type": "markdown",
   "metadata": {},
   "source": [
    "#### <span style=\"font-family:Cascadia mono; color:silver\">Reminder to prepare your suitcase</span>"
   ]
  },
  {
   "cell_type": "code",
   "execution_count": null,
   "metadata": {},
   "outputs": [],
   "source": [
    "task_id = task_dict_name['Apuntar gastos de Vacaciones Liga Pistacho']\n",
    "task = all_tasks[10]\n",
    "task_due_time = datetime.strptime(task['due']['date'][:10], '%Y-%m-%d')\n",
    "print(task_due_time < today + timedelta(days=100))"
   ]
  },
  {
   "cell_type": "code",
   "execution_count": null,
   "metadata": {},
   "outputs": [],
   "source": [
    "to_update = False\n",
    "for task in all_tasks:\n",
    "    if 'Vacations' in task['labels'] and task['project_id']==projects_dict_name['Calendario']:\n",
    "        title = task[\"content\"]\n",
    "        try:\n",
    "            task_dict_name[f'Preparar maleta {title}']\n",
    "        except:\n",
    "            vacation_day = datetime.strptime(task['due']['date'][:10], '%Y-%m-%d')\n",
    "            if vacation_day > today + timedelta(days=2):\n",
    "                to_update = True\n",
    "                message = createTask(content=f'Preparar maleta {title}',\n",
    "                                    due_string=f\"3 dias antes de {task['due']['date']}\",\n",
    "                                    priority=2,\n",
    "                                    project_id=projects_dict_name['Recordatorios'])\n",
    "                messages.append(message)\n",
    "if to_update:\n",
    "    all_tasks, task_dict_id, task_dict_name = refreshTasks()"
   ]
  },
  {
   "cell_type": "code",
   "execution_count": null,
   "metadata": {},
   "outputs": [],
   "source": [
    "for task in all_tasks:\n",
    "    if 'Vacations' in task['labels'] and task['project_id'] == projects_dict_name['Calendario']:\n",
    "        title = task[\"content\"]\n",
    "        try:\n",
    "            task_dict_name[f'Apuntar gastos de {title}']\n",
    "        except:\n",
    "            if task['due']['string'][-14:-8] == \"fin 20\":        \n",
    "                message = createTask(content=f'Apuntar gastos de {title}',\n",
    "                                        due_string=f\"1 dia despues de {task['due']['string'][-10:]}\",\n",
    "                                        priority=3,\n",
    "                                        project_id=projects_dict_name['Recordatorios'])\n"
   ]
  },
  {
   "cell_type": "markdown",
   "metadata": {},
   "source": [
    "#### <span style=\"font-family:Cascadia mono; color:green\">Adding F1 calendar for next season</span>"
   ]
  },
  {
   "cell_type": "code",
   "execution_count": null,
   "metadata": {},
   "outputs": [],
   "source": [
    "# def newF1Season(year, grand_prix_dict):\n",
    "#     f1_project_id = projects_dict_name['Fórmula 1']\n",
    "#     section_id = createSection(year, f1_project_id).id\n",
    "#     for gp in grand_prix_dict.keys():\n",
    "#         task_id = createTask(content=f'* {gp.upper()}', project_id=f1_project_id, section_id=section_id)[-33:-23]\n",
    "#         day = grand_prix_dict[gp]\n",
    "#         createTask(content=f\"Apuntar hora {gp.capitalize()}\", priority = 3, due_string=f'4 weeks before {day}', project_id=projects_dict_name['Recordatorios'], labels=['PC','Short'])\n",
    "#         createTask(content='Practice 1', priority=3, due_string=f'2 days before {day}', parent_id=task_id)\n",
    "#         createTask(content='Practice 2', priority=3, due_string=f'2 days before {day}', parent_id=task_id)\n",
    "#         createTask(content='Practice 3', priority=3, due_string=f'1 day before {day}', parent_id=task_id)\n",
    "#         createTask(content='Qualifying', priority=1, due_string=f'1 day before {day}', parent_id=task_id)\n",
    "#         createTask(content='Race', priority=1, due_string=day, parent_id=task_id)"
   ]
  },
  {
   "cell_type": "code",
   "execution_count": null,
   "metadata": {},
   "outputs": [],
   "source": [
    "# grand_prix_dict = {'AUSTRALIAN GRAND PRIX':'16-03-2025',\n",
    "#                    'CHINESE GRAND PRIX':'23-03-2025',\n",
    "#                    'JAPANESE GRAND PRIX':'06-04-2025',\n",
    "#                    'BAHRAIN GRAND PRIX':'13-04-2025',\n",
    "#                    'SAUDI ARABIA GRAND PRIX':'20-04-2025',\n",
    "#                    'MIAMI GRAND PRIX':'04-05-2025',\n",
    "#                    \"GRAN PREMIO DEL MADE IN ITALY DELL'EMILIA-ROMAGNA\":'18-05-2025',\n",
    "#                    'GRAND PRIX DE MONACO':'25-05-2025',\n",
    "#                    'GRAN PREMIO DE ESPAÑA':'01-06-2025',\n",
    "#                    'GRAND PRIX DU CANADA':'15-06-2025',\n",
    "#                    'GROSSER PREIS VON ÖSTERREICH':'29-06-2025',\n",
    "#                    'BRITISH GRAND PRIX':'06-07-2025',\n",
    "#                    'BELGIAN GRAND PRIX':'27-07-2025',\n",
    "#                    'HUNGARIAN GRAND PRIX':'03-08-2025',\n",
    "#                    'DUTCH GRAND PRIX':'31-08-2025',f\n",
    "#                    \"GRAN PREMIO D'ITALIA\":'07-09-2025',\n",
    "#                    'AZERBAIJAN GRAND PRIX':'21-09-2025',\n",
    "#                    'SINGAPORE GRAND PRIX':'05-10-2025',\n",
    "#                    'UNITED STATES GRAND PRIX':'19-10-2025',\n",
    "#                    'GRAN PREMIO DE LA CIUDAD DE MEXICO':'26-10-2025',\n",
    "#                    'GRANDE PRÊMIO DE SÃO PAULO':'09-11-2025',\n",
    "#                    'LAS VEGAS GRAND PRIX':'22-11-2025',\n",
    "#                    'QATAR GRAND PRIX':'30-11-2025',\n",
    "#                    'ABU DHABI GRAND PRIX':'7-12-2025'\n",
    "#                    }"
   ]
  },
  {
   "cell_type": "code",
   "execution_count": null,
   "metadata": {},
   "outputs": [],
   "source": [
    "# newF1Season('2025',grand_prix_dict=grand_prix_dict)"
   ]
  },
  {
   "cell_type": "markdown",
   "metadata": {},
   "source": [
    "#### <span style=\"font-family:Cascadia mono; color:green\">Adding Manchester United Premier League Calendar</span>"
   ]
  },
  {
   "cell_type": "code",
   "execution_count": null,
   "metadata": {},
   "outputs": [],
   "source": [
    "# football_id = '2259150181'\n",
    "# united_id = '51988025'\n",
    "# season = '2024/2025'\n",
    "\n",
    "# createTask(content=f'* Premier League {season}',\n",
    "#            section_id=united_id)    "
   ]
  },
  {
   "cell_type": "code",
   "execution_count": null,
   "metadata": {},
   "outputs": [],
   "source": [
    "# pl_id = '8023322112'\n",
    "# for gw in range(1,39):\n",
    "#     createTask(content=f'GW{gw}',\n",
    "#                priority=1,\n",
    "#                project_id=football_id,\n",
    "#                section_id=united_id,\n",
    "#                parent_id=pl_id)"
   ]
  },
  {
   "cell_type": "markdown",
   "metadata": {},
   "source": [
    "## <span style=\"font-family:Cascadia mono; color:#db6a6a\">Results</span>"
   ]
  },
  {
   "cell_type": "markdown",
   "metadata": {},
   "source": [
    "### Export all tasks and it's status"
   ]
  },
  {
   "cell_type": "code",
   "execution_count": null,
   "metadata": {},
   "outputs": [],
   "source": [
    "tasks = api.get_tasks()\n",
    "recurringtasks={}\n",
    "for task in tasks:\n",
    "    if 'Recurring' in task.labels:\n",
    "        recurringtasks[task.id]=task.project_id\n",
    "with open('../data/recurringtasksdiego', 'w') as file:\n",
    "    json.dump(recurringtasks, file)"
   ]
  },
  {
   "cell_type": "markdown",
   "metadata": {},
   "source": [
    "### Runtime"
   ]
  },
  {
   "cell_type": "code",
   "execution_count": null,
   "metadata": {},
   "outputs": [],
   "source": [
    "end_time = time.time()"
   ]
  },
  {
   "cell_type": "code",
   "execution_count": null,
   "metadata": {},
   "outputs": [
    {
     "name": "stdout",
     "output_type": "stream",
     "text": [
      "Runtime: 176.898 seconds\n"
     ]
    }
   ],
   "source": [
    "runtime = f'Runtime: {round(end_time-start_time,3)} seconds'\n",
    "messages.append(runtime)\n",
    "print(runtime)"
   ]
  },
  {
   "cell_type": "markdown",
   "metadata": {},
   "source": [
    "### <span style=\"font-family:Cascadia code; color:#7a3aca\">Message</span>"
   ]
  },
  {
   "cell_type": "code",
   "execution_count": null,
   "metadata": {},
   "outputs": [
    {
     "name": "stdout",
     "output_type": "stream",
     "text": [
      "No tasks to add duration label \n",
      "\n",
      "Tasks to capitalize it's title... \n",
      "\n",
      "- Task poner function es formato clase donde inicialices con tu api token updated correctly to Poner function es formato clase donde inicialices con tu api token \n",
      "\n",
      "No recurring tasks to uncomplete \n",
      "\n",
      "Birthday tasks to add labels... \n",
      "\n",
      "- Task Felicitar Loren updated correctly to Felicitar Loren \n",
      "\n",
      "- Task Felicitar Quique updated correctly to Felicitar Quique \n",
      "\n",
      "- Task Felicitar Jimmy updated correctly to Felicitar Jimmy \n",
      "\n",
      "- Task Felicitar Mollita updated correctly to Felicitar Mollita \n",
      "\n",
      "- Task Felicitar Bego updated correctly to Felicitar Bego \n",
      "\n",
      "- Task Felicitar Martu updated correctly to Felicitar Martu \n",
      "\n",
      "- Task Felicitar Martasa updated correctly to Felicitar Martasa \n",
      "\n",
      "- Task Felicitar Paulah updated correctly to Felicitar Paulah \n",
      "\n",
      "- Task Felicitar Mamá updated correctly to Felicitar Mamá \n",
      "\n",
      "- Task Felicitar Papá updated correctly to Felicitar Papá \n",
      "\n",
      "- Task Felicitar Puru updated correctly to Felicitar Puru \n",
      "\n",
      "- Task Felicitar Martín updated correctly to Felicitar Martín \n",
      "\n",
      "- Task Felicitar Retu updated correctly to Felicitar Retu \n",
      "\n",
      "- Task Felicitar Purulo updated correctly to Felicitar Purulo \n",
      "\n",
      "- Task Felicitar Moyito updated correctly to Felicitar Moyito \n",
      "\n",
      "- Task Felicitar Pablope updated correctly to Felicitar Pablope \n",
      "\n",
      "- Task Felicitar Abuela updated correctly to Felicitar Abuela \n",
      "\n",
      "- Task Felicitar Charli updated correctly to Felicitar Charli \n",
      "\n",
      "- Task Felicitar Navarro updated correctly to Felicitar Navarro \n",
      "\n",
      "- Task Felicitar Mendi updated correctly to Felicitar Mendi \n",
      "\n",
      "- Task Felicitar Vegazo updated correctly to Felicitar Vegazo \n",
      "\n",
      "- Task Felicitar Luisin updated correctly to Felicitar Luisin \n",
      "\n",
      "- Task Felicitar Irenesa updated correctly to Felicitar Irenesa \n",
      "\n",
      "- Task Felicitar Carlos Gg updated correctly to Felicitar Carlos Gg \n",
      "\n",
      "- Task Felicitar David updated correctly to Felicitar David \n",
      "\n",
      "- Task Felicitar Asi updated correctly to Felicitar Asi \n",
      "\n",
      "- Task Felicitar Papá updated correctly to Felicitar Papá \n",
      "\n",
      "- Task Felicitar Antoine updated correctly to Felicitar Antoine \n",
      "\n",
      "- Task Felicitar Pinho updated correctly to Felicitar Pinho \n",
      "\n",
      "- Task Cumple Abuelo updated correctly to Cumple Abuelo \n",
      "\n",
      "- Task Felicitar Miguel Lepe updated correctly to Felicitar Miguel Lepe \n",
      "\n",
      "- Task Felicitar Emma updated correctly to Felicitar Emma \n",
      "\n",
      "- Task Felicitar Alex Cruz updated correctly to Felicitar Alex Cruz \n",
      "\n",
      "- Task Felicitar Albapa updated correctly to Felicitar Albapa \n",
      "\n",
      "- Task Felicitar Iñigo updated correctly to Felicitar Iñigo \n",
      "\n",
      "- Task Felicitar _ _ _ _ _ updated correctly to Felicitar _ _ _ _ _ \n",
      "\n",
      "- Task Felicitar Samu updated correctly to Felicitar Samu \n",
      "\n",
      "- Task Felicitar Jorge Rosario updated correctly to Felicitar Jorge Rosario \n",
      "\n",
      "- Task Felicitar Diego Negro updated correctly to Felicitar Diego Negro \n",
      "\n",
      "- Task Felicitar Mohedas updated correctly to Felicitar Mohedas \n",
      "\n",
      "- Task Felicitar Javi Pedrazuela updated correctly to Felicitar Javi Pedrazuela \n",
      "\n",
      "- Task Felicitar Marina updated correctly to Felicitar Marina \n",
      "\n",
      "- Task Felicitar Delia updated correctly to Felicitar Delia \n",
      "\n",
      "- Task Felicitar Lorena updated correctly to Felicitar Lorena \n",
      "\n",
      "- Task Felicitar Tío Javier updated correctly to Felicitar Tío Javier \n",
      "\n",
      "- Task Felicitar Maria Madeira updated correctly to Felicitar Maria Madeira \n",
      "\n",
      "- Task Felicitar Celia updated correctly to Felicitar Celia \n",
      "\n",
      "- Task Felicitar Alessandra updated correctly to Felicitar Alessandra \n",
      "\n",
      "- Task Felicitar Isa Llamas updated correctly to Felicitar Isa Llamas \n",
      "\n",
      "- Task Felicitar Alberto updated correctly to Felicitar Alberto \n",
      "\n",
      "- Task Felicitar Asier Euipo updated correctly to Felicitar Asier Euipo \n",
      "\n",
      "- Task Felicitar Jay Samuel updated correctly to Felicitar Jay Samuel \n",
      "\n",
      "- Task Felicitar Diego Primo updated correctly to Felicitar Diego Primo \n",
      "\n",
      "- Task Felicitar Tia Bea updated correctly to Felicitar Tia Bea \n",
      "\n",
      "- Task Felicitar Pablo Sánchez updated correctly to Felicitar Pablo Sánchez \n",
      "\n",
      "- Task Felicitar Papá y Mamá updated correctly to Felicitar Papá y Mamá \n",
      "\n",
      "- Task Felicitar Pelarda updated correctly to Felicitar Pelarda \n",
      "\n",
      "- Task Felicitar Andrés updated correctly to Felicitar Andrés \n",
      "\n",
      "- Task Felicitar None updated correctly to Felicitar None \n",
      "\n",
      "- Task Felicitar Tere Agudo updated correctly to Felicitar Tere Agudo \n",
      "\n",
      "- Task Felicitar Sandruqui updated correctly to Felicitar Sandruqui \n",
      "\n",
      "- Task Felicitar Chenko updated correctly to Felicitar Chenko \n",
      "\n",
      "- Task Felicitar Ángela updated correctly to Felicitar Ángela \n",
      "\n",
      "- Task Felicitar Glori updated correctly to Felicitar Glori \n",
      "\n",
      "- Task Felicitar Tia Sole updated correctly to Felicitar Tia Sole \n",
      "\n",
      "- Task Felicitar Salva updated correctly to Felicitar Salva \n",
      "\n",
      "- Task Felicitar Marcos Melli updated correctly to Felicitar Marcos Melli \n",
      "\n",
      "- Task Felicitar Darío Melli updated correctly to Felicitar Darío Melli \n",
      "\n",
      "- Task Felicitar Sara Pasc updated correctly to Felicitar Sara Pasc \n",
      "\n",
      "- Task Felicitar Esther Marina updated correctly to Felicitar Esther Marina \n",
      "\n",
      "- Task Felicitar Aure updated correctly to Felicitar Aure \n",
      "\n",
      "- Task Felicitar Karla updated correctly to Felicitar Karla \n",
      "\n",
      "- Task Felicitar Jesús Tío updated correctly to Felicitar Jesús Tío \n",
      "\n",
      "Birthday tasks to add labels... \n",
      "\n",
      "- Task Felicitar Loren updated correctly to Felicitar Loren \n",
      "\n",
      "- Task Felicitar Quique updated correctly to Felicitar Quique \n",
      "\n",
      "- Task Felicitar Jimmy updated correctly to Felicitar Jimmy \n",
      "\n",
      "Runtime: 176.898 seconds \n",
      "\n"
     ]
    }
   ],
   "source": [
    "body = messages[0] + \"\\n\"\n",
    "count = 0\n",
    "for i in range(1, len(messages)):\n",
    "    if messages[i][0] != \"-\":\n",
    "        body = body + \"\\n\" + f\"{i - count}. \" + messages[i] +\"\\n\"\n",
    "    else:\n",
    "        body = body + \"  \" + messages[i] +\"\\n\"\n",
    "        count += 1\n",
    "    print(messages[i],\"\\n\")"
   ]
  },
  {
   "cell_type": "markdown",
   "metadata": {},
   "source": [
    "### <span style=\"font-family:Cascadia code; color:#caba3a\">Email</span>"
   ]
  },
  {
   "cell_type": "code",
   "execution_count": null,
   "metadata": {},
   "outputs": [],
   "source": [
    "fun.sendEmail(\"Daily Todoist\", body, \"diegorodgar17@gmail.com\")"
   ]
  },
  {
   "cell_type": "code",
   "execution_count": null,
   "metadata": {},
   "outputs": [],
   "source": [
    "# def sendEmail(subject, body, to):\n",
    "#     msg = EmailMessage()\n",
    "#     msg.set_content(body)\n",
    "#     msg['Subject'] = subject\n",
    "#     msg['From'] = os.getenv('MAIL')\n",
    "#     msg['To'] = to\n",
    "\n",
    "#     server = 'smtp-mail.outlook.com'\n",
    "#     port = 587\n",
    "\n",
    "#     username = os.getenv('MAIL')\n",
    "#     password = os.getenv('PASSWORD')\n",
    "#     password = \"suqkyrflefqygvwv\"\n",
    "\n",
    "#     with smtplib.SMTP(server, port) as smtp:\n",
    "#         smtp.starttls()\n",
    "#         smtp.login(username, password)\n",
    "#         smtp.send_message(msg)\n",
    "\n",
    "# sendEmail(\"Daily Todoist\", body, \"diegorodgar17@gmail.com\")"
   ]
  },
  {
   "cell_type": "code",
   "execution_count": null,
   "metadata": {},
   "outputs": [],
   "source": [
    "from email.message import EmailMessage\n",
    "import smtplib\n",
    "import msal\n",
    "import requests"
   ]
  },
  {
   "cell_type": "code",
   "execution_count": null,
   "metadata": {},
   "outputs": [
    {
     "name": "stdout",
     "output_type": "stream",
     "text": [
      "667b0418-121a-4abc-8767-e60cd0760d67\n",
      "Error al enviar el correo: 401, {\"error\":{\"code\":\"OrganizationFromTenantGuidNotFound\",\"message\":\"The tenant for tenant guid '667b0418-121a-4abc-8767-e60cd0760d67' does not exist.\",\"innerError\":{\"oAuthEventOperationId\":\"974eb292-06db-431d-8cc2-74b29f7cef7e\",\"oAuthEventcV\":\"fWdprdXvw6W4raNRCp/pJw.1.1\",\"errorUrl\":\"https://aka.ms/autherrors#error-InvalidTenant\",\"requestId\":\"68b95b64-2e43-4e51-9d4a-b2d09992edbc\",\"date\":\"2024-10-12T07:44:39\"}}}\n"
     ]
    }
   ],
   "source": [
    "import msal\n",
    "import requests\n",
    "import os\n",
    "\n",
    "# Variables de entorno\n",
    "CLIENT_ID = os.getenv('APP_CLIENT_ID')\n",
    "CLIENT_SECRET = os.getenv('CLIENT_SECRET')\n",
    "TENANT_ID = os.getenv('DIRECTORY_TENANT_ID')\n",
    "\n",
    "print(TENANT_ID)\n",
    "\n",
    "# Autenticación con OAuth2\n",
    "authority = f\"https://login.microsoftonline.com/{TENANT_ID}\"\n",
    "scopes = [\"https://graph.microsoft.com/.default\"]\n",
    "\n",
    "app = msal.ConfidentialClientApplication(\n",
    "    CLIENT_ID, authority=authority,\n",
    "    client_credential=CLIENT_SECRET\n",
    ")\n",
    "\n",
    "result = app.acquire_token_for_client(scopes=scopes)\n",
    "\n",
    "if \"access_token\" in result:\n",
    "    access_token = result['access_token']\n",
    "    headers = {\n",
    "        'Authorization': f'Bearer {access_token}',\n",
    "        'Content-Type': 'application/json'\n",
    "    }\n",
    "    \n",
    "    # Aquí especificamos el usuario desde el cual enviar el correo\n",
    "    user_email = \"diegorodgar17@hotmail.com\"  # El correo desde el cual se envía el correo\n",
    "\n",
    "    body = {\n",
    "        \"message\": {\n",
    "            \"subject\": \"Prueba de OAuth2 con Python\",\n",
    "            \"body\": {\n",
    "                \"contentType\": \"Text\",\n",
    "                \"content\": \"Hola, esto es un correo de prueba enviado con OAuth2.\"\n",
    "            },\n",
    "            \"toRecipients\": [\n",
    "                {\n",
    "                    \"emailAddress\": {\n",
    "                        \"address\": \"diegorodgar17@gmail.com\"\n",
    "                    }\n",
    "                }\n",
    "            ]\n",
    "        }\n",
    "    }\n",
    "    \n",
    "    # Cambia el endpoint a /users/{user_id}/sendMail\n",
    "    send_mail_url = f'https://graph.microsoft.com/v1.0/users/{user_email}/sendMail'\n",
    "    response = requests.post(send_mail_url, headers=headers, json=body)\n",
    "\n",
    "    if response.status_code == 202:\n",
    "        print(\"Correo enviado con éxito!\")\n",
    "    else:\n",
    "        print(f\"Error al enviar el correo: {response.status_code}, {response.text}\")\n",
    "else:\n",
    "    print(\"Error al adquirir el token\")\n"
   ]
  }
 ],
 "metadata": {
  "kernelspec": {
   "display_name": "base",
   "language": "python",
   "name": "python3"
  },
  "language_info": {
   "codemirror_mode": {
    "name": "ipython",
    "version": 3
   },
   "file_extension": ".py",
   "mimetype": "text/x-python",
   "name": "python",
   "nbconvert_exporter": "python",
   "pygments_lexer": "ipython3",
   "version": "3.12.3"
  }
 },
 "nbformat": 4,
 "nbformat_minor": 2
}
