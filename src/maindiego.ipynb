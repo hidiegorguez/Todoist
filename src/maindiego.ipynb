{
 "cells": [
  {
   "cell_type": "markdown",
   "metadata": {},
   "source": [
    "<img src=\"../data/logo.png\" width=\"420px\">\n",
    "\n",
    "# <span style=\"font-family:Cascadia mono; color:#db5a5a\">TODOIST AUTOMATION - DIEGO</span>"
   ]
  },
  {
   "cell_type": "markdown",
   "metadata": {},
   "source": [
    "## <span style=\"font-family:Cascadia mono; color:#db6a6a\">Settings</span>"
   ]
  },
  {
   "cell_type": "markdown",
   "metadata": {},
   "source": [
    "### Libraries"
   ]
  },
  {
   "cell_type": "code",
   "execution_count": 1,
   "metadata": {},
   "outputs": [
    {
     "data": {
      "text/plain": [
       "True"
      ]
     },
     "execution_count": 1,
     "metadata": {},
     "output_type": "execute_result"
    }
   ],
   "source": [
    "from todoist_api_python.api import TodoistAPI\n",
    "from datetime import datetime, timedelta, timezone\n",
    "import random\n",
    "import json\n",
    "import time\n",
    "import os\n",
    "import sys\n",
    "sys.path.append('..')\n",
    "import functions as fun\n",
    "from dotenv import load_dotenv\n",
    "\n",
    "load_dotenv()"
   ]
  },
  {
   "cell_type": "markdown",
   "metadata": {},
   "source": [
    "### Message"
   ]
  },
  {
   "cell_type": "code",
   "execution_count": 2,
   "metadata": {},
   "outputs": [],
   "source": [
    "today = datetime.today()"
   ]
  },
  {
   "cell_type": "code",
   "execution_count": 3,
   "metadata": {},
   "outputs": [],
   "source": [
    "messages = [f'Todoist Automation for {today.strftime(\"%Y-%m-%d\")}']"
   ]
  },
  {
   "cell_type": "markdown",
   "metadata": {},
   "source": [
    "### Runtime"
   ]
  },
  {
   "cell_type": "code",
   "execution_count": 4,
   "metadata": {},
   "outputs": [],
   "source": [
    "start_time = time.time()"
   ]
  },
  {
   "cell_type": "markdown",
   "metadata": {},
   "source": [
    "### API"
   ]
  },
  {
   "cell_type": "code",
   "execution_count": 5,
   "metadata": {},
   "outputs": [],
   "source": [
    "api_token = os.getenv(\"TODOIST_API_TOKEN\")\n",
    "api = TodoistAPI(api_token)"
   ]
  },
  {
   "cell_type": "markdown",
   "metadata": {},
   "source": [
    "## <span style=\"font-family:Cascadia mono; color:#db6a6a\">Data</span>"
   ]
  },
  {
   "cell_type": "markdown",
   "metadata": {},
   "source": [
    "#### Projects"
   ]
  },
  {
   "cell_type": "code",
   "execution_count": 6,
   "metadata": {},
   "outputs": [],
   "source": [
    "all_projects = fun.getProjects()\n",
    "projects_dict_id, projects_dict_name = fun.getProjectsDicts(all_projects)"
   ]
  },
  {
   "cell_type": "markdown",
   "metadata": {},
   "source": [
    "#### Tasks"
   ]
  },
  {
   "cell_type": "code",
   "execution_count": 7,
   "metadata": {},
   "outputs": [],
   "source": [
    "def refreshTasks():\n",
    "    all_tasks = fun.getTasks()\n",
    "    task_dict_id, task_dict_name = fun.getTasksDicts(all_tasks, projects_dict_id, projects_dict_name)\n",
    "    return all_tasks, task_dict_id, task_dict_name"
   ]
  },
  {
   "cell_type": "code",
   "execution_count": 8,
   "metadata": {},
   "outputs": [],
   "source": [
    "all_tasks, task_dict_id, task_dict_name = refreshTasks()"
   ]
  },
  {
   "cell_type": "markdown",
   "metadata": {},
   "source": [
    "#### Completed Tasks"
   ]
  },
  {
   "cell_type": "code",
   "execution_count": 9,
   "metadata": {},
   "outputs": [],
   "source": [
    "completed_tasks = fun.getCompletedTasks(3)"
   ]
  },
  {
   "cell_type": "code",
   "execution_count": 10,
   "metadata": {},
   "outputs": [
    {
     "data": {
      "text/plain": [
       "{'completed_at': '2024-07-27T12:30:11.000000Z',\n",
       " 'content': 'Practice 3 @Med',\n",
       " 'id': '7507155105',\n",
       " 'item_object': None,\n",
       " 'meta_data': None,\n",
       " 'note_count': 0,\n",
       " 'notes': [],\n",
       " 'project_id': '2259111397',\n",
       " 'section_id': '141032258',\n",
       " 'task_id': '7659001860',\n",
       " 'user_id': '32572547',\n",
       " 'v2_project_id': '6Crcvw8HPWrHFWMx',\n",
       " 'v2_section_id': '6C5R88vhh2qvx42Q',\n",
       " 'v2_task_id': '6RWVqxQfqHM6Fghx'}"
      ]
     },
     "execution_count": 10,
     "metadata": {},
     "output_type": "execute_result"
    }
   ],
   "source": [
    "completed_tasks[4]"
   ]
  },
  {
   "cell_type": "code",
   "execution_count": 11,
   "metadata": {},
   "outputs": [
    {
     "name": "stdout",
     "output_type": "stream",
     "text": [
      "Felicitar Mendi @Phone @Short\n",
      "Regar rosales @Home @Med @Recurring\n",
      "Limpiar cepillo @Home @Short\n",
      "Estiramientos @Home @Recurring @Short @❌_streak\n",
      "Regar rosales @Home @Med @Recurring\n",
      "Lavarme el pelo @Home\n",
      "Pesarme @Home @Short\n",
      "Limpieza boca @Home @Med\n",
      "Afeitarme @Home @Med\n",
      "Revisar APX MX y APX BR @Med @PC\n",
      "Trabajo @Long @PC\n"
     ]
    }
   ],
   "source": [
    "for task in completed_tasks:\n",
    "    if str(task['task_id']) in task_dict_id.keys():\n",
    "        print(task['content'])"
   ]
  },
  {
   "cell_type": "markdown",
   "metadata": {},
   "source": [
    "#### Sections"
   ]
  },
  {
   "cell_type": "code",
   "execution_count": 12,
   "metadata": {},
   "outputs": [],
   "source": [
    "all_sections = fun.getSections()\n",
    "sections_dict_id, sections_dict_name = fun.getSectionsDicts(all_sections)"
   ]
  },
  {
   "cell_type": "markdown",
   "metadata": {},
   "source": [
    "#### Test"
   ]
  },
  {
   "cell_type": "code",
   "execution_count": 13,
   "metadata": {},
   "outputs": [
    {
     "name": "stdout",
     "output_type": "stream",
     "text": [
      "657\n",
      "Race - 2025-06-15 - Fórmula 1\n"
     ]
    }
   ],
   "source": [
    "index = random.randint(0,len(all_tasks))\n",
    "print(index)\n",
    "try:\n",
    "    print(all_tasks[index]['content'], \"-\", all_tasks[index]['due']['date'], \"-\", projects_dict_id[all_tasks[index]['project_id']])\n",
    "except TypeError:\n",
    "    print(all_tasks[index]['content'], \"-\", \"No date\" , \"-\",projects_dict_id[all_tasks[index]['project_id']],)"
   ]
  },
  {
   "cell_type": "markdown",
   "metadata": {},
   "source": [
    "#### Labels"
   ]
  },
  {
   "cell_type": "code",
   "execution_count": 14,
   "metadata": {},
   "outputs": [
    {
     "data": {
      "text/plain": [
       "['Med',\n",
       " 'PC',\n",
       " 'Recurring',\n",
       " 'Phone',\n",
       " 'Short',\n",
       " 'Home',\n",
       " 'Long',\n",
       " 'Outside',\n",
       " '❌_streak',\n",
       " '✅_streak',\n",
       " 'Vacations',\n",
       " 'Móvil',\n",
       " 'Casa Rural',\n",
       " 'Quedadas',\n",
       " 'Viajes',\n",
       " 'Tiktoks',\n",
       " 'Juegos Beber',\n",
       " 'Comida',\n",
       " 'Fútbol',\n",
       " 'Juegos',\n",
       " 'Comidas']"
      ]
     },
     "execution_count": 14,
     "metadata": {},
     "output_type": "execute_result"
    }
   ],
   "source": [
    "label_names=[]\n",
    "for task in all_tasks:\n",
    "    gross_labels=task['labels']\n",
    "    for label in gross_labels:\n",
    "        if label not in label_names:\n",
    "            label_names.append(label)\n",
    "label_names"
   ]
  },
  {
   "cell_type": "markdown",
   "metadata": {},
   "source": [
    "\n",
    "## <span style=\"font-family:Cascadia mono; color:#db6a6a\">Testing</span>"
   ]
  },
  {
   "cell_type": "code",
   "execution_count": 17,
   "metadata": {},
   "outputs": [
    {
     "data": {
      "text/plain": [
       "{'51988025': 'MANCHESTER UNITED',\n",
       " '54450645': 'Otros',\n",
       " '161523537': 'UEFA CHAMPIONS LEAGUE 2024/2025',\n",
       " '51987985': 'UEFA EURO 2020',\n",
       " '54450661': 'UEFA CHAMPIONS LEAGUE 2021_2022',\n",
       " '83399834': 'MANCHESTER UNITED',\n",
       " '85265725': 'FIFA WORLD CUP 2022',\n",
       " '99652236': 'UEFA CHAMPIONS LEAGUE 2022_2023',\n",
       " '132796518': 'UEFA CHAMPIONS LEAGUE 2023/2024',\n",
       " '138032252': 'UEFA EURO 2024',\n",
       " '135108411': 'Eventos',\n",
       " '135108636': 'Recordatorios',\n",
       " '137136088': 'SMARTs',\n",
       " '137240160': 'Tareas',\n",
       " '137327232': 'SMARTpro',\n",
       " '137327248': 'SMARTex',\n",
       " '138608878': 'Ad Customizer',\n",
       " '139453198': 'Auction Insights',\n",
       " '140074689': 'Keyword Tracking',\n",
       " '140961721': 'Facturación',\n",
       " '155349484': 'SMARTbook',\n",
       " '159202713': 'SMARTtok',\n",
       " '134816578': 'Times Up',\n",
       " '134816473': 'CIFAR-10',\n",
       " '134816588': 'Microsoft Malware Detection',\n",
       " '134816489': 'Animal Classification App',\n",
       " '134816386': 'JFK Delay Prediction',\n",
       " '136725407': 'Educational Analysis PISA',\n",
       " '138439288': 'Blockchain Creation',\n",
       " '142986758': 'Todolist',\n",
       " '149422833': 'Todoist',\n",
       " '149457958': 'Expenses',\n",
       " '71850337': '2022',\n",
       " '109943237': '2023',\n",
       " '141032258': '2024',\n",
       " '153723514': '2025',\n",
       " '109218855': 'Excel y Power BI: Visualización de datos',\n",
       " '109218944': 'Scrum',\n",
       " '109218918': 'MySQL',\n",
       " '109218939': 'Amazon Web Services',\n",
       " '109218929': 'IA y Deep Learning',\n",
       " '109218925': 'Python Total',\n",
       " '118422431': 'Excel: Fórmulas y funciones avanzadas',\n",
       " '136621187': 'General',\n",
       " '136621513': 'Practical Deep Learning 1',\n",
       " '136621530': 'Practical Deep Learning 2',\n",
       " '150703766': 'Tareas',\n",
       " '113233903': 'Tareas',\n",
       " '113233891': 'Problemas',\n",
       " '120365195': 'Posibilidades',\n",
       " '119879185': 'Series',\n",
       " '119879186': 'Documentales',\n",
       " '119879066': 'Películas',\n",
       " '119879175': 'Compras',\n",
       " '119879188': 'Tweets',\n",
       " '119879031': 'Otros',\n",
       " '130135693': 'Libros',\n",
       " '150697499': 'Recetas',\n",
       " '150931454': 'Recuperaciones meeting',\n",
       " '150931455': 'Sugerencias',\n",
       " '150931456': 'Sugerencias enviadas',\n",
       " '150931453': 'Meeting',\n",
       " '150931452': 'Investigar',\n",
       " '150931584': 'Sugerencias TodoistAPI'}"
      ]
     },
     "execution_count": 17,
     "metadata": {},
     "output_type": "execute_result"
    }
   ],
   "source": [
    "sections_dict_id"
   ]
  },
  {
   "cell_type": "code",
   "execution_count": 15,
   "metadata": {},
   "outputs": [
    {
     "name": "stdout",
     "output_type": "stream",
     "text": [
      "* Premier League 2020/2021 4584499496\n",
      "* Premier League 2021/2022 4918897463\n",
      "* Premier League 2022/2023 5938922525\n",
      "* Premier League 2023/2024 6968182312\n",
      "* Premier League 2024/2025 8023322112\n"
     ]
    }
   ],
   "source": [
    "for task in all_tasks:\n",
    "    if \"Premier League\" in task['content']:\n",
    "        print(task['content'], task['id'])"
   ]
  },
  {
   "cell_type": "markdown",
   "metadata": {},
   "source": [
    "\n",
    "## <span style=\"font-family:Cascadia mono; color:#db6a6a\">Orders</span>"
   ]
  },
  {
   "cell_type": "markdown",
   "metadata": {},
   "source": [
    "#### <span style=\"font-family:Cascadia mono; color:silver\">Create and edit tasks</span>"
   ]
  },
  {
   "cell_type": "code",
   "execution_count": 15,
   "metadata": {},
   "outputs": [],
   "source": [
    "def createTask(\n",
    "    content = \"Tarea creada automáticamente\",\n",
    "    description = None,\n",
    "    project_id = projects_dict_name['Inbox'],\n",
    "    section_id = None,\n",
    "    parent_id = None,\n",
    "    order = 1,\n",
    "    labels = [],\n",
    "    priority = 1,\n",
    "    comment_count = 0,\n",
    "    due_string = None,\n",
    "    due_date = None,\n",
    "    due_datetime = None,\n",
    "    due_lang = None,\n",
    "    assignee_id = None,\n",
    "    duration = None,\n",
    "    duration_unit = None\n",
    "):\n",
    "    for label in labels:\n",
    "        if label not in label_names:\n",
    "            return f'La etiqueta {label} no existe'\n",
    "    try:\n",
    "        task = api.add_task(\n",
    "            assignee_id = assignee_id,\n",
    "            comment_count = comment_count,\n",
    "            content = content,\n",
    "            description = description,\n",
    "            due_string = due_string,\n",
    "            due_date = due_date,\n",
    "            due_datetime = due_datetime,\n",
    "            due_lang = due_lang,\n",
    "            duration = duration,\n",
    "            labels = labels,\n",
    "            order = order,\n",
    "            priority = fun.priorityInversal(priority),\n",
    "            project_id = project_id,\n",
    "            section_id = section_id,\n",
    "            parent_id = parent_id,\n",
    "            duration_unit = duration_unit\n",
    "        )\n",
    "        message = f'Task \"{task.content}\" ({task.id}) was created correctly'\n",
    "        print(message)\n",
    "        return message\n",
    "    except Exception as error:\n",
    "        print (error)\n",
    "        return error\n",
    "        \n",
    "def editTask(\n",
    "    task_id,\n",
    "    content = None,\n",
    "    assignee_id = None,\n",
    "    description = None,\n",
    "    due_date = None,\n",
    "    due_string = None,\n",
    "    due_datetime = None,\n",
    "    labels = None,\n",
    "    priority = None,\n",
    "):\n",
    "    task = api.get_task(task_id)\n",
    "    labels = task.labels if labels == None else labels\n",
    "    content = task.content if content == None else content\n",
    "    for label in labels:\n",
    "        if label not in label_names:\n",
    "            return f'La etiqueta {label} no existe'\n",
    "    try:\n",
    "        api.update_task(\n",
    "            task_id = task_id,\n",
    "            assignee_id = assignee_id,\n",
    "            content = content,\n",
    "            description = description,\n",
    "            labels = labels,\n",
    "            priority = priority,\n",
    "            due_date = due_date,\n",
    "            due_string = due_string,\n",
    "            due_datetime = due_datetime,\n",
    "        )\n",
    "        message = f'Task {task.content} updated correctly to {content}'\n",
    "        print(message)\n",
    "        return message\n",
    "    except Exception as error:\n",
    "        print(error)\n",
    "        return error"
   ]
  },
  {
   "cell_type": "markdown",
   "metadata": {},
   "source": [
    "#### <span style=\"font-family:Cascadia mono; color:silver\">Create section</span>"
   ]
  },
  {
   "cell_type": "code",
   "execution_count": null,
   "metadata": {},
   "outputs": [],
   "source": [
    "def createSection(name, project_id):\n",
    "    try:\n",
    "        section = api.add_section(name=name, project_id=project_id)\n",
    "        return section\n",
    "    except Exception as error:\n",
    "        return error"
   ]
  },
  {
   "cell_type": "markdown",
   "metadata": {},
   "source": [
    "#### <span style=\"font-family:Cascadia mono; color:silver\">Add duration labels</span>"
   ]
  },
  {
   "cell_type": "code",
   "execution_count": null,
   "metadata": {},
   "outputs": [],
   "source": [
    "def updateTaskDurationLabel(task_id, task_duration):\n",
    "    duration_label = fun.getDurationLabel(task_duration)\n",
    "    task_id = task_id[0]\n",
    "    task_labels_without_duration = fun.getLabelsWithoutDuration(task_id)\n",
    "    task_labels_without_duration.append(duration_label)\n",
    "    return editTask(task_id=task_id,\n",
    "             labels=task_labels_without_duration)"
   ]
  },
  {
   "cell_type": "code",
   "execution_count": null,
   "metadata": {},
   "outputs": [],
   "source": [
    "to_update = False\n",
    "messages.append('Tasks to add duration label...')\n",
    "for task in all_tasks:\n",
    "    if task['duration'] != None and task['due'] != None:\n",
    "        if fun.getDurationLabel(task['duration']['amount']) not in task['labels']:\n",
    "            to_update = True\n",
    "            message = updateTaskDurationLabel([task['id']], task['duration']['amount'])\n",
    "            messages.append(\"- \" + message)\n",
    "\n",
    "if not to_update:\n",
    "    messages = messages[:-1]\n",
    "    message = 'No tasks to add duration label'\n",
    "    print(message)\n",
    "    messages.append(message)\n",
    "else:\n",
    "    all_tasks, task_dict_id, task_dict_name = refreshTasks()"
   ]
  },
  {
   "cell_type": "markdown",
   "metadata": {},
   "source": [
    "#### <span style=\"font-family:Cascadia mono; color:silver\">Capitalize titles</span>"
   ]
  },
  {
   "cell_type": "code",
   "execution_count": null,
   "metadata": {},
   "outputs": [],
   "source": [
    "to_update = False\n",
    "messages.append(\"Tasks to capitalize it's title...\")    \n",
    "for task in all_tasks:\n",
    "    if task[\"content\"][0].upper() != task[\"content\"][0]:\n",
    "        to_update = True\n",
    "        task_id = task[\"id\"]\n",
    "        message = editTask(task_id = task_id,\n",
    "                           content = task[\"content\"][0].upper() + task[\"content\"][1:])\n",
    "        messages.append(\"- \" + message)\n",
    "\n",
    "if not to_update:\n",
    "    messages = messages[:-1]\n",
    "    message = \"No tasks to capitalize it's title\"\n",
    "    print(message)\n",
    "    messages.append(message)\n",
    "else:\n",
    "    all_tasks, task_dict_id, task_dict_name = refreshTasks()"
   ]
  },
  {
   "cell_type": "markdown",
   "metadata": {},
   "source": [
    "#### <span style=\"font-family:Cascadia mono; color:silver\">Uncomplete recurring tasks</span>"
   ]
  },
  {
   "cell_type": "code",
   "execution_count": null,
   "metadata": {},
   "outputs": [],
   "source": [
    "with open('../data/recurringtasksdiego', 'r') as archivo_json:\n",
    "    recurringtasks = json.load(archivo_json)"
   ]
  },
  {
   "cell_type": "code",
   "execution_count": null,
   "metadata": {},
   "outputs": [],
   "source": [
    "to_update = False\n",
    "cont = True\n",
    "messages.append('Recurring tasks to uncomplete...')\n",
    "for task_id in recurringtasks.keys():\n",
    "    project_id = recurringtasks[task_id]\n",
    "    try:\n",
    "        project_name = projects_dict_id[project_id]\n",
    "    except KeyError:\n",
    "        message = f'La tarea {task_id} está un proyecto que no existe: {project_id}'\n",
    "        print(message)\n",
    "        cont = False\n",
    "    if cont:\n",
    "        if projects_dict_id[project_id] != \"Archivados\" and projects_dict_id[project_id] != \"Tickler\" :\n",
    "            task = fun.getTask(task_id)\n",
    "            if task.is_completed:\n",
    "                to_update = True\n",
    "                print(task.id)\n",
    "                fun.uncompleteTask(task_id)\n",
    "                message = editTask(task_id=task_id,\n",
    "                                due_string=\"No date\")\n",
    "                print(task.project_id)\n",
    "                if task.project_id == projects_dict_name[\"Calendario\"]:\n",
    "                    fun.moveTask(task_id=task_id,\n",
    "                                project_id='2263729931')\n",
    "                messages.append(\"- \" + message)\n",
    "        \n",
    "if not to_update:\n",
    "    messages = messages[:-1]\n",
    "    message = \"No recurring tasks to uncomplete\"\n",
    "    print(message)\n",
    "    messages.append(message)\n",
    "else:\n",
    "    all_tasks, task_dict_id, task_dict_name = refreshTasks()"
   ]
  },
  {
   "cell_type": "markdown",
   "metadata": {},
   "source": [
    "#### <span style=\"font-family:Cascadia mono; color:silver\">Add labels to birthday tasks</span>"
   ]
  },
  {
   "cell_type": "code",
   "execution_count": null,
   "metadata": {},
   "outputs": [],
   "source": [
    "to_update = False\n",
    "messages.append('Birthday tasks to add labels...')\n",
    "for task in all_tasks:\n",
    "    if task['project_id'] == projects_dict_name['Cumpleaños'] and task['labels'] != ['Phone','Short']:\n",
    "        to_update = True\n",
    "        message = editTask(task_id=task['id'],\n",
    "                 labels=['Phone','Short'])\n",
    "        messages.append(\"- \" + message)\n",
    "        \n",
    "if not to_update:\n",
    "    messages = messages[:-1]\n",
    "    message = \"No birthday tasks to add labels\"\n",
    "    print(message)\n",
    "    messages.append(message)\n",
    "else:\n",
    "    all_tasks, task_dict_id, task_dict_name = refreshTasks()"
   ]
  },
  {
   "cell_type": "markdown",
   "metadata": {},
   "source": [
    "#### <span style=\"font-family:Cascadia mono; color:silver\">Fantasy task due</span>"
   ]
  },
  {
   "cell_type": "code",
   "execution_count": null,
   "metadata": {},
   "outputs": [],
   "source": [
    "evaluate = True\n",
    "if fun.getTask('4632052423').is_completed == True:\n",
    "    fun.uncompleteTask('4632052423')\n",
    "    editTask('4632052423', due_string='every friday 20:00')\n",
    "    message = 'Fantasy task moved back to fridays'\n",
    "    print (message)\n",
    "    messages.append(message)\n",
    "    evaluate = False"
   ]
  },
  {
   "cell_type": "code",
   "execution_count": null,
   "metadata": {},
   "outputs": [],
   "source": [
    "to_update = False\n",
    "if evaluate:\n",
    "    if today.weekday() in [0,5,6] and fun.getTask('4632052423').due.date != today.strftime('%Y-%m-%d'):\n",
    "        for task in all_tasks:\n",
    "            if task['section_id'] == '51988025' and task['parent_id'] == '8023322112':\n",
    "                try:\n",
    "                    fantasydate = datetime.strptime(fun.getTask('4632052423').due.date, '%Y-%m-%d')\n",
    "                    matchday = datetime.strptime(task['due']['date'][:10], '%Y-%m-%d')\n",
    "                    if fantasydate > matchday > fun.getNextMonday():\n",
    "                        message = 'Fantasy task moved to Tuesday'\n",
    "                        messages.append(message)\n",
    "                        editTask('4632052423', due_string=\"Tuesday\")\n",
    "                        to_update = True\n",
    "                        all_tasks, task_dict_id, task_dict_name = refreshTasks()\n",
    "                        break\n",
    "                except TypeError:\n",
    "                    pass\n",
    "    if not to_update:\n",
    "        message = 'Fantasy not moved'\n",
    "        print(message)\n",
    "        messages.append(message)"
   ]
  },
  {
   "cell_type": "markdown",
   "metadata": {},
   "source": [
    "#### <span style=\"font-family:Cascadia mono; color:silver\">Tasks with similar names</span>"
   ]
  },
  {
   "cell_type": "code",
   "execution_count": null,
   "metadata": {},
   "outputs": [],
   "source": [
    "def similarTasks(project_ids, umbral=0.5):\n",
    "    project_tasks = []\n",
    "    similars = []\n",
    "    for task in all_tasks:\n",
    "        if task['project_id'] in project_ids:\n",
    "            project_tasks.append(task['id'])\n",
    "    for i in range(len(project_tasks)-1):\n",
    "        for j in range(i+1,len(project_tasks)):\n",
    "            message = fun.areSimilar(task_dict_id[project_tasks[i]][0],\n",
    "                                        task_dict_id[project_tasks[j]][0],\n",
    "                                        umbral=umbral) \n",
    "            if message != None and message != 'Agua & Agua' and message != 'Tweet & Tweet' and message != 'README & README':\n",
    "                similars.append(message)\n",
    "    return similars\n",
    "            "
   ]
  },
  {
   "cell_type": "code",
   "execution_count": null,
   "metadata": {},
   "outputs": [],
   "source": [
    "similars = similarTasks(project_ids=[projects_dict_name['Archivados'],\n",
    "                                    projects_dict_name['Recordatorios'],\n",
    "                                    projects_dict_name['Tareas'],\n",
    "                                    projects_dict_name['Calendario'],\n",
    "                                    projects_dict_name['Cursos'],\n",
    "                                    projects_dict_name['GitHub'],\n",
    "                                    projects_dict_name['Diarias'],\n",
    "                                    projects_dict_name['Semanales'],\n",
    "                                    projects_dict_name['Mensuales']],\n",
    "                       umbral=0.7)\n",
    "if similars != []:\n",
    "    messages.append('Next tasks are similar:')\n",
    "    for similar in similars:\n",
    "        print(similar)\n",
    "        messages.append(f'- {similar}')\n",
    "else:\n",
    "    messages.append('No similar tasks')\n",
    "    "
   ]
  },
  {
   "cell_type": "markdown",
   "metadata": {},
   "source": [
    "#### <span style=\"font-family:Cascadia mono; color:silver\">Reminder to prepare your suitcase</span>"
   ]
  },
  {
   "cell_type": "code",
   "execution_count": 34,
   "metadata": {},
   "outputs": [
    {
     "name": "stdout",
     "output_type": "stream",
     "text": [
      "True\n"
     ]
    }
   ],
   "source": [
    "task_id = task_dict_name['Apuntar gastos de Vacaciones Liga Pistacho']\n",
    "task = all_tasks[10]\n",
    "task_due_time = datetime.strptime(task['due']['date'][:10], '%Y-%m-%d')\n",
    "print(task_due_time < today + timedelta(days=100))"
   ]
  },
  {
   "cell_type": "code",
   "execution_count": 35,
   "metadata": {},
   "outputs": [],
   "source": [
    "to_update = False\n",
    "for task in all_tasks:\n",
    "    if 'Vacations' in task['labels'] and task['project_id']==projects_dict_name['Calendario']:\n",
    "        title = task[\"content\"]\n",
    "        try:\n",
    "            task_dict_name[f'Preparar maleta {title}']\n",
    "        except:\n",
    "            vacation_day = datetime.strptime(task['due']['date'][:10], '%Y-%m-%d')\n",
    "            if vacation_day < today + timedelta(days=2):\n",
    "                to_update = True\n",
    "                message = createTask(content=f'Preparar maleta {title}',\n",
    "                                    due_string=f\"3 dias antes de {task['due']['date']}\",\n",
    "                                    priority=2,\n",
    "                                    project_id=projects_dict_name['Recordatorios'])\n",
    "                messages.append(message)\n",
    "if to_update:\n",
    "    all_tasks, task_dict_id, task_dict_name = refreshTasks()"
   ]
  },
  {
   "cell_type": "code",
   "execution_count": null,
   "metadata": {},
   "outputs": [],
   "source": [
    "for task in all_tasks:\n",
    "    if 'Vacations' in task['labels'] and task['project_id'] == projects_dict_name['Calendario']:\n",
    "        title = task[\"content\"]\n",
    "        try:\n",
    "            task_dict_name[f'Apuntar gastos de {title}']\n",
    "        except:\n",
    "            if task['due']['string'][-14:-8] == \"fin 20\":        \n",
    "                message = createTask(content=f'Apuntar gastos de {title}',\n",
    "                                        due_string=f\"1 dia despues de {task['due']['string'][-10:]}\",\n",
    "                                        priority=3,\n",
    "                                        project_id=projects_dict_name['Recordatorios'])\n"
   ]
  },
  {
   "cell_type": "markdown",
   "metadata": {},
   "source": [
    "#### <span style=\"font-family:Cascadia mono; color:green\">Adding F1 calendar for next season</span>"
   ]
  },
  {
   "cell_type": "code",
   "execution_count": null,
   "metadata": {},
   "outputs": [],
   "source": [
    "# def newF1Season(year, grand_prix_dict):\n",
    "#     f1_project_id = projects_dict_name['Fórmula 1']\n",
    "#     section_id = createSection(year, f1_project_id).id\n",
    "#     for gp in grand_prix_dict.keys():\n",
    "#         task_id = createTask(content=f'* {gp.upper()}', project_id=f1_project_id, section_id=section_id)[-33:-23]\n",
    "#         day = grand_prix_dict[gp]\n",
    "#         createTask(content=f\"Apuntar hora {gp.capitalize()}\", priority = 3, due_string=f'4 weeks before {day}', project_id=projects_dict_name['Recordatorios'], labels=['PC','Short'])\n",
    "#         createTask(content='Practice 1', priority=3, due_string=f'2 days before {day}', parent_id=task_id)\n",
    "#         createTask(content='Practice 2', priority=3, due_string=f'2 days before {day}', parent_id=task_id)\n",
    "#         createTask(content='Practice 3', priority=3, due_string=f'1 day before {day}', parent_id=task_id)\n",
    "#         createTask(content='Qualifying', priority=1, due_string=f'1 day before {day}', parent_id=task_id)\n",
    "#         createTask(content='Race', priority=1, due_string=day, parent_id=task_id)"
   ]
  },
  {
   "cell_type": "code",
   "execution_count": null,
   "metadata": {},
   "outputs": [],
   "source": [
    "# grand_prix_dict = {'AUSTRALIAN GRAND PRIX':'16-03-2025',\n",
    "#                    'CHINESE GRAND PRIX':'23-03-2025',\n",
    "#                    'JAPANESE GRAND PRIX':'06-04-2025',\n",
    "#                    'BAHRAIN GRAND PRIX':'13-04-2025',\n",
    "#                    'SAUDI ARABIA GRAND PRIX':'20-04-2025',\n",
    "#                    'MIAMI GRAND PRIX':'04-05-2025',\n",
    "#                    \"GRAN PREMIO DEL MADE IN ITALY DELL'EMILIA-ROMAGNA\":'18-05-2025',\n",
    "#                    'GRAND PRIX DE MONACO':'25-05-2025',\n",
    "#                    'GRAN PREMIO DE ESPAÑA':'01-06-2025',\n",
    "#                    'GRAND PRIX DU CANADA':'15-06-2025',\n",
    "#                    'GROSSER PREIS VON ÖSTERREICH':'29-06-2025',\n",
    "#                    'BRITISH GRAND PRIX':'06-07-2025',\n",
    "#                    'BELGIAN GRAND PRIX':'27-07-2025',\n",
    "#                    'HUNGARIAN GRAND PRIX':'03-08-2025',\n",
    "#                    'DUTCH GRAND PRIX':'31-08-2025',f\n",
    "#                    \"GRAN PREMIO D'ITALIA\":'07-09-2025',\n",
    "#                    'AZERBAIJAN GRAND PRIX':'21-09-2025',\n",
    "#                    'SINGAPORE GRAND PRIX':'05-10-2025',\n",
    "#                    'UNITED STATES GRAND PRIX':'19-10-2025',\n",
    "#                    'GRAN PREMIO DE LA CIUDAD DE MEXICO':'26-10-2025',\n",
    "#                    'GRANDE PRÊMIO DE SÃO PAULO':'09-11-2025',\n",
    "#                    'LAS VEGAS GRAND PRIX':'22-11-2025',\n",
    "#                    'QATAR GRAND PRIX':'30-11-2025',\n",
    "#                    'ABU DHABI GRAND PRIX':'7-12-2025'\n",
    "#                    }"
   ]
  },
  {
   "cell_type": "code",
   "execution_count": null,
   "metadata": {},
   "outputs": [],
   "source": [
    "# newF1Season('2025',grand_prix_dict=grand_prix_dict)"
   ]
  },
  {
   "cell_type": "markdown",
   "metadata": {},
   "source": [
    "#### <span style=\"font-family:Cascadia mono; color:green\">Adding Manchester United Premier League Calendar</span>"
   ]
  },
  {
   "cell_type": "code",
   "execution_count": null,
   "metadata": {},
   "outputs": [],
   "source": [
    "# football_id = '2259150181'\n",
    "# united_id = '51988025'\n",
    "# season = '2024/2025'\n",
    "\n",
    "# createTask(content=f'* Premier League {season}',\n",
    "#            section_id=united_id)    "
   ]
  },
  {
   "cell_type": "code",
   "execution_count": null,
   "metadata": {},
   "outputs": [],
   "source": [
    "# pl_id = '8023322112'\n",
    "# for gw in range(1,39):\n",
    "#     createTask(content=f'GW{gw}',\n",
    "#                priority=1,\n",
    "#                project_id=football_id,\n",
    "#                section_id=united_id,\n",
    "#                parent_id=pl_id)"
   ]
  },
  {
   "cell_type": "markdown",
   "metadata": {},
   "source": [
    "## <span style=\"font-family:Cascadia mono; color:#db6a6a\">Results</span>"
   ]
  },
  {
   "cell_type": "markdown",
   "metadata": {},
   "source": [
    "### Export all tasks and it's status"
   ]
  },
  {
   "cell_type": "code",
   "execution_count": null,
   "metadata": {},
   "outputs": [],
   "source": [
    "tasks = api.get_tasks()\n",
    "recurringtasks={}\n",
    "for task in tasks:\n",
    "    if 'Recurring' in task.labels:\n",
    "        recurringtasks[task.id]=task.project_id\n",
    "with open('../data/recurringtasksdiego', 'w') as file:\n",
    "    json.dump(recurringtasks, file)"
   ]
  },
  {
   "cell_type": "markdown",
   "metadata": {},
   "source": [
    "### Runtime"
   ]
  },
  {
   "cell_type": "code",
   "execution_count": null,
   "metadata": {},
   "outputs": [],
   "source": [
    "end_time = time.time()"
   ]
  },
  {
   "cell_type": "code",
   "execution_count": null,
   "metadata": {},
   "outputs": [],
   "source": [
    "runtime = f'Runtime: {round(end_time-start_time,3)} seconds'\n",
    "messages.append(runtime)\n",
    "print(runtime)"
   ]
  },
  {
   "cell_type": "markdown",
   "metadata": {},
   "source": [
    "### <span style=\"font-family:Cascadia code; color:#7a3aca\">Message</span>"
   ]
  },
  {
   "cell_type": "code",
   "execution_count": null,
   "metadata": {},
   "outputs": [],
   "source": [
    "body = messages[0] + \"\\n\"\n",
    "count = 0\n",
    "for i in range(1, len(messages)):\n",
    "    if messages[i][0] != \"-\":\n",
    "        body = body + \"\\n\" + f\"{i - count}. \" + messages[i] +\"\\n\"\n",
    "    else:\n",
    "        body = body + \"  \" + messages[i] +\"\\n\"\n",
    "        count += 1\n",
    "    print(messages[i],\"\\n\")"
   ]
  },
  {
   "cell_type": "markdown",
   "metadata": {},
   "source": [
    "### <span style=\"font-family:Cascadia code; color:#caba3a\">Email</span>"
   ]
  },
  {
   "cell_type": "code",
   "execution_count": null,
   "metadata": {},
   "outputs": [],
   "source": [
    "fun.sendEmail(\"Daily Todoist\", body, \"diegorodgar17@gmail.com\")"
   ]
  }
 ],
 "metadata": {
  "kernelspec": {
   "display_name": "base",
   "language": "python",
   "name": "python3"
  },
  "language_info": {
   "codemirror_mode": {
    "name": "ipython",
    "version": 3
   },
   "file_extension": ".py",
   "mimetype": "text/x-python",
   "name": "python",
   "nbconvert_exporter": "python",
   "pygments_lexer": "ipython3",
   "version": "3.11.9"
  }
 },
 "nbformat": 4,
 "nbformat_minor": 2
}
