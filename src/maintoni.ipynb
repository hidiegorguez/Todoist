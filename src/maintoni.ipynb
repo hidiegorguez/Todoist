{
 "cells": [
  {
   "cell_type": "markdown",
   "metadata": {},
   "source": [
    "<img src=\"../data/logo.png\" width=\"420px\">\n",
    "\n",
    "# `TODOIST AUTOMATION`"
   ]
  },
  {
   "cell_type": "markdown",
   "metadata": {},
   "source": [
    "### Settings"
   ]
  },
  {
   "cell_type": "markdown",
   "metadata": {},
   "source": [
    "#### Libraries"
   ]
  },
  {
   "cell_type": "code",
   "execution_count": 2,
   "metadata": {},
   "outputs": [],
   "source": [
    "from todoist_api_python.api import TodoistAPI\n",
    "from datetime import datetime, timedelta, timezone\n",
    "import functions as fun\n",
    "import random"
   ]
  },
  {
   "cell_type": "markdown",
   "metadata": {},
   "source": [
    "#### Dependences"
   ]
  },
  {
   "cell_type": "code",
   "execution_count": 3,
   "metadata": {},
   "outputs": [],
   "source": [
    "import credentials"
   ]
  },
  {
   "cell_type": "markdown",
   "metadata": {},
   "source": [
    "#### API"
   ]
  },
  {
   "cell_type": "code",
   "execution_count": 4,
   "metadata": {},
   "outputs": [],
   "source": [
    "api_token = credentials.api_token\n",
    "api = TodoistAPI(api_token)\n",
    "headers = {\n",
    "    \"Content-Type\": \"application/json\",\n",
    "    \"X-Request-Id\": \"un_valor_único_por_cada_solicitud\",\n",
    "    \"Authorization\": f\"Bearer {api_token}\"\n",
    "}"
   ]
  },
  {
   "cell_type": "markdown",
   "metadata": {},
   "source": [
    "### `Data`"
   ]
  },
  {
   "cell_type": "markdown",
   "metadata": {},
   "source": [
    "#### Projects"
   ]
  },
  {
   "cell_type": "code",
   "execution_count": 5,
   "metadata": {},
   "outputs": [],
   "source": [
    "all_projects = fun.getProjects()\n",
    "projects_dict_id, projects_dict_name = fun.getProjectsDicts(all_projects)"
   ]
  },
  {
   "cell_type": "markdown",
   "metadata": {},
   "source": [
    "#### Tasks"
   ]
  },
  {
   "cell_type": "code",
   "execution_count": 7,
   "metadata": {},
   "outputs": [],
   "source": [
    "all_tasks = fun.getTasks()\n",
    "task_dict_id, task_dict_name = fun.getTasksDicts(all_tasks, projects_dict_id, projects_dict_name)"
   ]
  },
  {
   "cell_type": "markdown",
   "metadata": {},
   "source": [
    "#### Sections"
   ]
  },
  {
   "cell_type": "code",
   "execution_count": null,
   "metadata": {},
   "outputs": [],
   "source": [
    "all_sections = fun.getSections()\n",
    "sections_dict_id, sections_dict_name = fun.getSectionsDicts(all_sections)"
   ]
  },
  {
   "cell_type": "code",
   "execution_count": null,
   "metadata": {},
   "outputs": [],
   "source": [
    "sections_calen = fun.getSections(project_id = projects_dict_name[\"CALENDAR\"])\n",
    "sections_calen_dict_id, sections_calen_dict_name = fun.getSectionsDicts(sections_calen)"
   ]
  },
  {
   "cell_type": "code",
   "execution_count": null,
   "metadata": {},
   "outputs": [],
   "source": [
    "sections_calen_dict_id"
   ]
  },
  {
   "cell_type": "markdown",
   "metadata": {},
   "source": [
    "#### Test"
   ]
  },
  {
   "cell_type": "code",
   "execution_count": null,
   "metadata": {},
   "outputs": [],
   "source": [
    "index = random.randint(0,len(all_tasks))\n",
    "try:\n",
    "    print(all_tasks[index]['content'], \"-\", all_tasks[index]['due']['date'])\n",
    "except TypeError:\n",
    "    print(all_tasks[index]['content'], \"-\", \"No date\")"
   ]
  },
  {
   "cell_type": "markdown",
   "metadata": {},
   "source": [
    "#### Labels"
   ]
  },
  {
   "cell_type": "code",
   "execution_count": 57,
   "metadata": {},
   "outputs": [
    {
     "data": {
      "text/plain": [
       "['Luna',\n",
       " 'Celia',\n",
       " 'Clásico',\n",
       " 'Abogados',\n",
       " 'ConViole',\n",
       " 'Padres',\n",
       " 'Anime',\n",
       " 'Miguel',\n",
       " 'Comedia',\n",
       " 'Alexa',\n",
       " 'Mamá',\n",
       " 'GCal',\n",
       " 'Long',\n",
       " 'Rol',\n",
       " 'balance',\n",
       " 'ardor',\n",
       " 'tripa',\n",
       " 'picores',\n",
       " 'mareo_tension_tos',\n",
       " 'pulmones',\n",
       " 'espalda',\n",
       " 'grano',\n",
       " 'ASTE',\n",
       " 'Pueblo',\n",
       " 'Med']"
      ]
     },
     "execution_count": 57,
     "metadata": {},
     "output_type": "execute_result"
    }
   ],
   "source": [
    "label_names=[]\n",
    "for task in all_tasks:\n",
    "    gross_labels=task['labels']\n",
    "    for label in gross_labels:\n",
    "        if label not in label_names:\n",
    "            label_names.append(label)\n",
    "label_names"
   ]
  },
  {
   "cell_type": "markdown",
   "metadata": {},
   "source": [
    "#### F1 Calendar"
   ]
  },
  {
   "cell_type": "code",
   "execution_count": null,
   "metadata": {},
   "outputs": [],
   "source": [
    "def getF1Calendar():\n",
    "    return True"
   ]
  },
  {
   "cell_type": "markdown",
   "metadata": {},
   "source": [
    "### `Orders`"
   ]
  },
  {
   "cell_type": "markdown",
   "metadata": {},
   "source": [
    "#### Creating tasks"
   ]
  },
  {
   "cell_type": "code",
   "execution_count": null,
   "metadata": {},
   "outputs": [],
   "source": [
    "def createTask(\n",
    "    assignee_id = None,\n",
    "    comment_count = 0,\n",
    "    is_completed = False,\n",
    "    content = \"No se añadio título\",\n",
    "    description = None,\n",
    "    due = None,\n",
    "    duration = None,\n",
    "    labels = [],\n",
    "    order = 1,\n",
    "    priority = 4,\n",
    "    project_id = projects_dict_name['Inbox'],\n",
    "    section_id = None,\n",
    "    parent_id = None,\n",
    "):\n",
    "    for label in labels:\n",
    "        if label not in label_names:\n",
    "            return f'La etiqueta {label} no existe'\n",
    "    try:\n",
    "        task = api.add_task(\n",
    "            assignee_id = assignee_id,\n",
    "            comment_count = comment_count,\n",
    "            is_completed = is_completed,\n",
    "            content = content,\n",
    "            description = description,\n",
    "            due = due,\n",
    "            duration = duration,\n",
    "            labels = labels,\n",
    "            order = order,\n",
    "            priority = fun.priorityInversal(priority),\n",
    "            project_id = project_id,\n",
    "            section_id = section_id,\n",
    "            parent_id = parent_id,\n",
    "        )\n",
    "        print(f'Task \"{task.content}\" ({task.id}) was created correctly')\n",
    "    except Exception as error:\n",
    "        print(error)"
   ]
  },
  {
   "cell_type": "code",
   "execution_count": null,
   "metadata": {},
   "outputs": [],
   "source": [
    "createTask(content='prueba_buena',\n",
    "            labels=[],\n",
    "            priority=1,\n",
    "            due={\"string\":\"today\"}\n",
    ")\n",
    "all_tasks = fun.getTasks()\n",
    "task_dict_id, task_dict_name = fun.getTasksDicts(all_tasks, projects_dict_id, projects_dict_name)"
   ]
  },
  {
   "cell_type": "markdown",
   "metadata": {},
   "source": [
    "#### Editing tasks"
   ]
  },
  {
   "cell_type": "code",
   "execution_count": 55,
   "metadata": {},
   "outputs": [],
   "source": [
    "def editTask(\n",
    "    task_id,\n",
    "    _content = None,\n",
    "    _assignee_id = None,\n",
    "    _comment_count = None,\n",
    "    _is_completed = None,\n",
    "    _description = None,\n",
    "    _due = {},\n",
    "    _labels = None,\n",
    "    _order = None,\n",
    "    _priority = None,\n",
    "    _project_id = None,\n",
    "    _section_id = None,\n",
    "    _parent_id = None,\n",
    "):\n",
    "    task = fun.getTask(task_id)\n",
    "    content = task.content if _content==None else _content\n",
    "    assignee_id = task.assignee_id if _assignee_id==None else _assignee_id\n",
    "    comment_count = task.comment_count if _comment_count==None else _comment_count\n",
    "    is_completed = task.is_completed if _is_completed==None else _is_completed\n",
    "    description = task.description if _description==None else _description\n",
    "    due = task.due if _due=={None} else _due\n",
    "    labels = _labels if _labels!=None else task.labels\n",
    "    order = task.order if _order==None else None\n",
    "    priority = task.priority if _priority==None else _priority\n",
    "    project_id = task.project_id if _project_id==None else _project_id\n",
    "    section_id = task.section_id if _section_id==None else _section_id\n",
    "    parent_id = task.parent_id if _parent_id==None else _parent_id\n",
    "    \n",
    "    for label in labels:\n",
    "        if label not in label_names:\n",
    "            return f'La etiqueta {label} no existe'\n",
    "    try:\n",
    "        api.update_task(\n",
    "            task_id = task_id,\n",
    "            assignee_id = assignee_id,\n",
    "            comment_count = comment_count,\n",
    "            is_completed = is_completed,\n",
    "            content = content,\n",
    "            description = description,\n",
    "            labels = labels,\n",
    "            order = order,\n",
    "            priority = priority,\n",
    "            project_id = project_id,\n",
    "            section_id = section_id,\n",
    "            parent_id = parent_id,\n",
    "            due = due\n",
    "        )\n",
    "        if _content != None:\n",
    "            print(f'Task \"{task.content}\" updated correctly as \"{_content}\"')\n",
    "        else:\n",
    "            print(f'Task \"{task.content}\" updated correctly as \"{task.content}\"')\n",
    "    except Exception as error:\n",
    "        print(error)"
   ]
  },
  {
   "cell_type": "code",
   "execution_count": null,
   "metadata": {},
   "outputs": [],
   "source": [
    "editTask(task_id = \"7810532791\", _description = \"a ver esa poyita d marikon\")\n",
    "all_tasks = fun.getTasks()\n",
    "task_dict_id, task_dict_name = fun.getTasksDicts(all_tasks, projects_dict_id, projects_dict_name)"
   ]
  },
  {
   "cell_type": "markdown",
   "metadata": {},
   "source": [
    "#### Add duration label"
   ]
  },
  {
   "cell_type": "code",
   "execution_count": 29,
   "metadata": {},
   "outputs": [
    {
     "name": "stdout",
     "output_type": "stream",
     "text": [
      "['7866753880', 'TASKS']\n"
     ]
    }
   ],
   "source": [
    "print(task_dict_name[\"Ducha\"])\n",
    "all_tasks = fun.getTasks()\n",
    "task_dict_id, task_dict_name = fun.getTasksDicts(all_tasks, projects_dict_id, projects_dict_name)"
   ]
  },
  {
   "cell_type": "code",
   "execution_count": null,
   "metadata": {},
   "outputs": [],
   "source": [
    "def updateTaskDurationLabel(task_id, task_duration):\n",
    "    duration_label = fun.getDurationLabel(task_duration)\n",
    "    task_id = task_id[0]\n",
    "    task_labels_without_duration = fun.getLabelsWithoutDuration(task_id)\n",
    "    task_labels_without_duration.append(duration_label)\n",
    "    editTask(task_id=task_id,\n",
    "             _labels=task_labels_without_duration)"
   ]
  },
  {
   "cell_type": "code",
   "execution_count": null,
   "metadata": {},
   "outputs": [],
   "source": [
    "all_tasks = fun.getTasks()\n",
    "task_dict_id, task_dict_name = fun.getTasksDicts(all_tasks, projects_dict_id, projects_dict_name)\n",
    "to_update = False\n",
    "\n",
    "for task in all_tasks:\n",
    "    if task['duration'] != None and task['due'] != None:\n",
    "        if fun.getDurationLabel(task['duration']['amount']) not in task['labels']:\n",
    "            to_update = True\n",
    "            updateTaskDurationLabel([task['id']], task['duration']['amount'])\n",
    "\n",
    "if not to_update:\n",
    "    print('No task to be updated')\n",
    "else:\n",
    "    all_tasks = fun.getTasks()\n",
    "    task_dict_id, task_dict_name = fun.getTasksDicts(all_tasks, projects_dict_id, projects_dict_name)\n"
   ]
  },
  {
   "cell_type": "markdown",
   "metadata": {},
   "source": [
    "#### Capitalize titles"
   ]
  },
  {
   "cell_type": "code",
   "execution_count": null,
   "metadata": {},
   "outputs": [],
   "source": [
    "task_id = '7810704210'\n",
    "task = api.get_task(task_id = task_id)\n",
    "print(task.content)\n",
    "editTask(task_id = task_id,\n",
    "         _content = (task.content)[0].upper() + (task.content)[1:])\n",
    "all_tasks = fun.getTasks()\n",
    "task_dict_id, task_dict_name = fun.getTasksDicts(all_tasks, projects_dict_id, projects_dict_name)"
   ]
  },
  {
   "cell_type": "code",
   "execution_count": 58,
   "metadata": {},
   "outputs": [
    {
     "name": "stdout",
     "output_type": "stream",
     "text": [
      "Task \"padel sarah\" updated correctly as \"Padel sarah\"\n",
      "Task \"leds amazon\" updated correctly as \"Leds amazon\"\n",
      "Task \"hablar clase pickleball del martes\" updated correctly as \"Hablar clase pickleball del martes\"\n"
     ]
    }
   ],
   "source": [
    "alguna_cambiada = False\n",
    "for tareita in all_tasks:\n",
    "    # print(tareita[\"content\"])\n",
    "    if tareita[\"content\"][0].upper() != tareita[\"content\"][0]:\n",
    "        alguna_cambiada = True\n",
    "        task_id = tareita[\"id\"]\n",
    "        editTask(task_id = task_id,\n",
    "            _content = tareita[\"content\"][0].upper() + tareita[\"content\"][1:])\n",
    "\n",
    "if not alguna_cambiada:\n",
    "    print(\"No tasks needed 2 b updated\")\n",
    "\n",
    "all_tasks = fun.getTasks()\n",
    "task_dict_id, task_dict_name = fun.getTasksDicts(all_tasks, projects_dict_id, projects_dict_name)"
   ]
  },
  {
   "cell_type": "code",
   "execution_count": null,
   "metadata": {},
   "outputs": [
    {
     "name": "stdout",
     "output_type": "stream",
     "text": [
      "Las cadenas son similares.\n"
     ]
    }
   ],
   "source": [
    "def coeficiente_jaccard(cadena1, cadena2):\n",
    "    set_cadena1 = set(cadena1.split())\n",
    "    set_cadena2 = set(cadena2.split())\n",
    "\n",
    "    interseccion = len(set_cadena1.intersection(set_cadena2))\n",
    "    union = len(set_cadena1.union(set_cadena2))\n",
    "\n",
    "    coeficiente = interseccion / union\n",
    "    return coeficiente\n",
    "\n",
    "def son_similares(cadena1, cadena2, umbral=0.5):\n",
    "    coeficiente = coeficiente_jaccard(cadena1, cadena2)\n",
    "    return coeficiente >= umbral\n",
    "\n",
    "# Ejemplo de uso:\n",
    "cadena1 = \"hola mundo\"\n",
    "cadena2 = \"mundo hola\"\n",
    "if son_similares(cadena1, cadena2):\n",
    "    print(\"Las cadenas son similares.\")\n",
    "else:\n",
    "    print(\"Las cadenas no son similares.\")"
   ]
  },
  {
   "cell_type": "code",
   "execution_count": 67,
   "metadata": {},
   "outputs": [
    {
     "name": "stdout",
     "output_type": "stream",
     "text": [
      "Similar tasks:\n",
      "\n",
      "('Barrer suelo (TASKS)', 'Fregar suelo (TASKS)')\n",
      "('Uñas manos (TASKS)', 'Uñas pies (TASKS)')\n",
      "('El dilema (Tsundoku)', 'El nombre (Tsundoku)')\n",
      "('El dilema (Tsundoku)', 'El consultor (Tsundoku)')\n",
      "('The americans (Tsundoku)', 'The wire (Tsundoku)')\n",
      "('The americans (Tsundoku)', 'The act (Tsundoku)')\n",
      "('La caza (Tsundoku)', 'La Criada (Tsundoku)')\n",
      "('La caza (Tsundoku)', 'La Haine (Tsundoku)')\n",
      "('La caza (Tsundoku)', 'La comunidad (Tsundoku)')\n",
      "('La caza (Tsundoku)', 'La fortleza (Tsundoku)')\n",
      "('La caza (Tsundoku)', 'La profecía (Tsundoku)')\n",
      "('La caza (Tsundoku)', 'La playa (Tsundoku)')\n",
      "('La Criada (Tsundoku)', 'La Haine (Tsundoku)')\n",
      "('La Criada (Tsundoku)', 'La comunidad (Tsundoku)')\n",
      "('La Criada (Tsundoku)', 'La fortleza (Tsundoku)')\n",
      "('La Criada (Tsundoku)', 'La profecía (Tsundoku)')\n",
      "('La Criada (Tsundoku)', 'La playa (Tsundoku)')\n",
      "('La Haine (Tsundoku)', 'La comunidad (Tsundoku)')\n",
      "('La Haine (Tsundoku)', 'La fortleza (Tsundoku)')\n",
      "('La Haine (Tsundoku)', 'La profecía (Tsundoku)')\n",
      "('La Haine (Tsundoku)', 'La playa (Tsundoku)')\n",
      "('La comunidad (Tsundoku)', 'La fortleza (Tsundoku)')\n",
      "('La comunidad (Tsundoku)', 'La profecía (Tsundoku)')\n",
      "('La comunidad (Tsundoku)', 'La playa (Tsundoku)')\n",
      "('El nombre (Tsundoku)', 'El consultor (Tsundoku)')\n",
      "('La fortleza (Tsundoku)', 'La profecía (Tsundoku)')\n",
      "('La fortleza (Tsundoku)', 'La playa (Tsundoku)')\n",
      "('The wire (Tsundoku)', 'The act (Tsundoku)')\n",
      "('RM apple (Tsundoku)', 'RM Bernabéu (Tsundoku)')\n",
      "('La venganza de Andrómeda (Tsundoku)', 'La de Ari Aster (Tsundoku)')\n",
      "('La venganza de Andrómeda (Tsundoku)', 'La serie de Cimas (Tsundoku)')\n",
      "('Mirar integraciones (Meta)', 'Mirar URJC (CV)')\n",
      "('[Twitch](https://m.twitch.tv/carcassonnespain/home) Carcassonne (Carcassonne)', 'Acabar Carcassonne (Tsundoku)')\n",
      "('Buscar equipo de furbo (PROJECTS)', 'Buscar algo de info (CV)')\n",
      "('Arte con plots (Programming)', 'Arte (PROJECTS)')\n",
      "('Crear juegos de mesa (PROJECTS)', 'Fundas todos juegos mesa (Wishes)')\n",
      "('Bolzano (Jaime, Danis...) (People & plans)', 'Bolzano (Programming)')\n",
      "('Lucía Cocotorium Samu (People & plans)', 'Lucía (People & plans)')\n",
      "('PC personal (TASKS)', 'PC curro (TASKS)')\n",
      "('PC curro (TASKS)', 'Marta curro (Birthdays)')\n",
      "('PC curro (TASKS)', 'Víctor curro (Birthdays)')\n",
      "('Formación informática (CV)', 'Formación minimalismo (PROJECTS)')\n",
      "('Limpiar etiquetas (Meta)', 'Limpiar cristales (TASKS)')\n",
      "('Limpiar etiquetas (Meta)', 'Limpiar teclado (TASKS)')\n",
      "('Limpiar cristales (TASKS)', 'Limpiar teclado (TASKS)')\n",
      "('Software actual (CV)', 'Software Logitech (Burocracia 🤮)')\n",
      "('Ascii desde la página de lego esa (asevillasastre/Carcassonne)', 'En la página de windows (Meta)')\n",
      "('La de Ari Aster (Tsundoku)', 'La serie de Cimas (Tsundoku)')\n",
      "('Miguel (Birthdays)', 'Isabel madre Miguel (Birthdays)')\n",
      "('Laura Viole (Birthdays)', 'Julio Laura (Birthdays)')\n",
      "('Santa Begoña (Birthdays)', 'Santa Violeta (Birthdays)')\n",
      "('Santa Begoña (Birthdays)', 'Santa Ana (Birthdays)')\n",
      "('Santa Violeta (Birthdays)', 'Santa Ana (Birthdays)')\n",
      "('Marta curro (Birthdays)', 'Víctor curro (Birthdays)')\n",
      "('Repos GitHub (CV)', 'Perfil GitHub (PPP)')\n",
      "('Full Monty (Tsundoku)', 'Monty Python (Tsundoku)')\n",
      "('Otros de programación (Tsundoku)', 'Otros (Programming)')\n",
      "('La profecía (Tsundoku)', 'La playa (Tsundoku)')\n",
      "('Leer (Habits)', 'Leer un Trophy (Tsundoku)')\n",
      "('Grasas saludables (Habits)', 'Picoteos saludables (Habits)')\n",
      "('Duchas cortas (Habits)', 'Duchas frecuentes (Habits)')\n",
      "('Perfect days (Tsundoku)', 'Perfect sense (Tsundoku)')\n",
      "('Más fijamientos (ASTE II)', 'Reubicar fijamientos (URToni)')\n",
      "('Altavoces buenos (Music)', 'Cascos buenos (Music)')\n"
     ]
    }
   ],
   "source": [
    "all_tasks = fun.getTasks()\n",
    "task_dict_id, task_dict_name = fun.getTasksDicts(all_tasks, projects_dict_id, projects_dict_name)\n",
    "all_projects = fun.getProjects()\n",
    "projects_dict_id, projects_dict_name = fun.getProjectsDicts(all_projects)\n",
    "\n",
    "UMBRAL_PARECIDO = 0.35\n",
    "\n",
    "lista_aceptadas = [('Mejorar excel gastos (Meta)', 'Cambiar excel gastos (TASKS)'),\n",
    "('Making of de Blasphemous II (Tsundoku)', 'Referencias de Blasphemous II (Tsundoku)'),\n",
    "('Crear juegos de mesa (PROJECTS)', 'Juegos de mesa (PROJECTS)'),\n",
    "('Viole (Birthdays)', 'Laura Viole (Birthdays)'),\n",
    "('Laura (Birthdays)', 'Laura Viole (Birthdays)'),\n",
    "('Laura (Birthdays)', 'Julio Laura (Birthdays)'),\n",
    "('Comprobar coherencia LI y CV (CV)', 'Comprobar coherencia LI y CV (CV)'),\n",
    "('Lucía (People & plans)', 'Lucía Réquiem (People & plans)'),\n",
    "('Lo del cod (People & plans)', 'Lo del main (asevillasastre/Carcassonne)'),\n",
    "('Grasas (Habits)', 'Grasas saludables (Habits)'),\n",
    "('No manipular padrastros (Habits)', 'No manipular grano (Habits)'),\n",
    "('Fijar Y para 0 y 1 (URTE)', 'Fijar Y para 0 únicamente (URTE)')]\n",
    "\n",
    "alguna_similar = False\n",
    "lista_similares = []\n",
    "lista_nombres = []\n",
    "for tareita in all_tasks:\n",
    "    for tareita_2 in all_tasks:\n",
    "        if tareita != tareita_2 and (tareita_2[\"content\"], tareita[\"content\"]) not in lista_nombres \\\n",
    "            and int(tareita[\"project_id\"]) != int(projects_dict_name[\"Ideas\"]) \\\n",
    "            and int(tareita_2[\"project_id\"]) != int(projects_dict_name[\"Ideas\"]) \\\n",
    "            and int(tareita[\"project_id\"]) != int(projects_dict_name[\"CALENDAR\"]) \\\n",
    "            and int(tareita_2[\"project_id\"]) != int(projects_dict_name[\"CALENDAR\"]) \\\n",
    "            and int(tareita[\"project_id\"]) != int(projects_dict_name[\"Journaling Night\"]) \\\n",
    "            and int(tareita_2[\"project_id\"]) != int(projects_dict_name[\"Journaling Night\"]) \\\n",
    "            and int(tareita[\"project_id\"]) != int(projects_dict_name[\"Journaling Morning\"]) \\\n",
    "            and int(tareita_2[\"project_id\"]) != int(projects_dict_name[\"Journaling Morning\"]) \\\n",
    "            and not((int(tareita[\"project_id\"]) == int(projects_dict_name[\"People & plans\"])   and int(tareita_2[\"project_id\"]) == int(projects_dict_name[\"Birthdays\"])) \\\n",
    "                 or (int(tareita_2[\"project_id\"]) == int(projects_dict_name[\"People & plans\"]) and int(tareita[\"project_id\"])   == int(projects_dict_name[\"Birthdays\"]))):\n",
    "            cadena1, cadena2 = tareita[\"content\"], tareita_2[\"content\"]\n",
    "            if son_similares(cadena1, cadena2, umbral=UMBRAL_PARECIDO):\n",
    "                if (tareita[\"content\"] + \" (\" + projects_dict_id[tareita[\"project_id\"]] +\")\" , tareita_2[\"content\"] + \" (\" + projects_dict_id[tareita_2[\"project_id\"]] +\")\" ) not in lista_aceptadas \\\n",
    "                    and (tareita_2[\"content\"] + \" (\" + projects_dict_id[tareita_2[\"project_id\"]] +\")\" , tareita[\"content\"] + \" (\" + projects_dict_id[tareita[\"project_id\"]] +\")\" ) not in lista_aceptadas:\n",
    "                    lista_similares.append((tareita[\"content\"] + \" (\" + projects_dict_id[tareita[\"project_id\"]] +\")\" ,\n",
    "                                            tareita_2[\"content\"] + \" (\" + projects_dict_id[tareita_2[\"project_id\"]] +\")\" ))\n",
    "                    lista_nombres.append((tareita[\"content\"], tareita_2[\"content\"]))\n",
    "print(\"Similar tasks:\\n\")\n",
    "if lista_similares == []:\n",
    "    print(\"No tasks are similar\")\n",
    "for i in lista_similares:\n",
    "    print(i)\n",
    "\n",
    "all_tasks = fun.getTasks()\n",
    "task_dict_id, task_dict_name = fun.getTasksDicts(all_tasks, projects_dict_id, projects_dict_name)"
   ]
  },
  {
   "cell_type": "code",
   "execution_count": 45,
   "metadata": {},
   "outputs": [
    {
     "name": "stdout",
     "output_type": "stream",
     "text": [
      "7411704962 2323621835 2323621835\n",
      "Suscripción anual Todoist\n"
     ]
    }
   ],
   "source": [
    "tareita = all_tasks[0]\n",
    "\n",
    "print(int(task_dict_name[tareita[\"content\"]][0]), tareita[\"project_id\"], int(projects_dict_name[\"TASKS\"]))\n",
    "print(tareita[\"content\"])"
   ]
  }
 ],
 "metadata": {
  "kernelspec": {
   "display_name": "base",
   "language": "python",
   "name": "python3"
  },
  "language_info": {
   "codemirror_mode": {
    "name": "ipython",
    "version": 3
   },
   "file_extension": ".py",
   "mimetype": "text/x-python",
   "name": "python",
   "nbconvert_exporter": "python",
   "pygments_lexer": "ipython3",
   "version": "3.12.0"
  }
 },
 "nbformat": 4,
 "nbformat_minor": 2
}
