{
 "cells": [
  {
   "cell_type": "markdown",
   "metadata": {},
   "source": [
    "<img src=\"logo.png\" width=\"420px\">\n",
    "\n",
    "# `TODOIST AUTOMATION`"
   ]
  },
  {
   "cell_type": "markdown",
   "metadata": {},
   "source": [
    "### Settings"
   ]
  },
  {
   "cell_type": "markdown",
   "metadata": {},
   "source": [
    "#### Libraries"
   ]
  },
  {
   "cell_type": "code",
   "execution_count": 88,
   "metadata": {},
   "outputs": [],
   "source": [
    "from todoist_api_python.api import TodoistAPI\n",
    "from datetime import datetime, timedelta, timezone\n",
    "import functions as fun\n",
    "import random\n",
    "import json"
   ]
  },
  {
   "cell_type": "markdown",
   "metadata": {},
   "source": [
    "#### Dependences"
   ]
  },
  {
   "cell_type": "code",
   "execution_count": 89,
   "metadata": {},
   "outputs": [],
   "source": [
    "import credentials"
   ]
  },
  {
   "cell_type": "markdown",
   "metadata": {},
   "source": [
    "#### API"
   ]
  },
  {
   "cell_type": "code",
   "execution_count": 90,
   "metadata": {},
   "outputs": [],
   "source": [
    "api_token = credentials.api_token\n",
    "api = TodoistAPI(api_token)\n",
    "headers = {\n",
    "    \"Content-Type\": \"application/json\",\n",
    "    \"X-Request-Id\": \"un_valor_único_por_cada_solicitud\",\n",
    "    \"Authorization\": f\"Bearer {api_token}\"\n",
    "}"
   ]
  },
  {
   "cell_type": "markdown",
   "metadata": {},
   "source": [
    "### `Data`"
   ]
  },
  {
   "cell_type": "markdown",
   "metadata": {},
   "source": [
    "#### Projects"
   ]
  },
  {
   "cell_type": "code",
   "execution_count": 91,
   "metadata": {},
   "outputs": [],
   "source": [
    "all_projects = fun.getProjects()\n",
    "projects_dict_id, projects_dict_name = fun.getProjectsDicts(all_projects)"
   ]
  },
  {
   "cell_type": "markdown",
   "metadata": {},
   "source": [
    "#### Tasks"
   ]
  },
  {
   "cell_type": "code",
   "execution_count": 92,
   "metadata": {},
   "outputs": [],
   "source": [
    "def refreshTasks():\n",
    "    all_tasks = fun.getTasks()\n",
    "    task_dict_id, task_dict_name = fun.getTasksDicts(all_tasks, projects_dict_id, projects_dict_name)\n",
    "    return all_tasks, task_dict_id, task_dict_name"
   ]
  },
  {
   "cell_type": "code",
   "execution_count": 93,
   "metadata": {},
   "outputs": [],
   "source": [
    "all_tasks, task_dict_id, task_dict_name = refreshTasks()"
   ]
  },
  {
   "cell_type": "markdown",
   "metadata": {},
   "source": [
    "#### Sections"
   ]
  },
  {
   "cell_type": "code",
   "execution_count": 94,
   "metadata": {},
   "outputs": [],
   "source": [
    "all_sections = fun.getSections()\n",
    "sections_dict_id, sections_dict_name = fun.getSectionsDicts(all_sections)"
   ]
  },
  {
   "cell_type": "markdown",
   "metadata": {},
   "source": [
    "#### Test"
   ]
  },
  {
   "cell_type": "code",
   "execution_count": 95,
   "metadata": {},
   "outputs": [
    {
     "name": "stdout",
     "output_type": "stream",
     "text": [
      "Summaries - No date - Cursos -\n"
     ]
    }
   ],
   "source": [
    "index = random.randint(0,len(all_tasks))\n",
    "try:\n",
    "    print(all_tasks[index]['content'], \"-\", all_tasks[index]['due']['date'], \"-\", projects_dict_id[all_tasks[index]['project_id']], '-')\n",
    "except TypeError:\n",
    "    print(all_tasks[index]['content'], \"-\", \"No date\" , \"-\",projects_dict_id[all_tasks[index]['project_id']], '-')"
   ]
  },
  {
   "cell_type": "markdown",
   "metadata": {},
   "source": [
    "#### Labels"
   ]
  },
  {
   "cell_type": "code",
   "execution_count": 96,
   "metadata": {},
   "outputs": [
    {
     "data": {
      "text/plain": [
       "['Med',\n",
       " 'PC',\n",
       " 'Phone',\n",
       " 'Short',\n",
       " 'Home',\n",
       " 'Long',\n",
       " 'Outside',\n",
       " 'Recurring',\n",
       " '❌_streak',\n",
       " '✅_streak',\n",
       " 'Vacations']"
      ]
     },
     "execution_count": 96,
     "metadata": {},
     "output_type": "execute_result"
    }
   ],
   "source": [
    "label_names=[]\n",
    "for task in all_tasks:\n",
    "    gross_labels=task['labels']\n",
    "    for label in gross_labels:\n",
    "        if label not in label_names:\n",
    "            label_names.append(label)\n",
    "label_names"
   ]
  },
  {
   "cell_type": "markdown",
   "metadata": {},
   "source": [
    "#### F1 Calendar"
   ]
  },
  {
   "cell_type": "code",
   "execution_count": 97,
   "metadata": {},
   "outputs": [],
   "source": [
    "def getF1Calendar():\n",
    "    return True"
   ]
  },
  {
   "cell_type": "markdown",
   "metadata": {},
   "source": [
    "### `Orders`"
   ]
  },
  {
   "cell_type": "markdown",
   "metadata": {},
   "source": [
    "#### Creating tasks"
   ]
  },
  {
   "cell_type": "code",
   "execution_count": 98,
   "metadata": {},
   "outputs": [],
   "source": [
    "def createTask(\n",
    "    assignee_id = None,\n",
    "    comment_count = 0,\n",
    "    is_completed = False,\n",
    "    content = \"No se añadio título\",\n",
    "    description = None,\n",
    "    due = None,\n",
    "    duration = None,\n",
    "    labels = [],\n",
    "    order = 1,\n",
    "    priority = 4,\n",
    "    project_id = projects_dict_name['Inbox'],\n",
    "    section_id = None,\n",
    "    parent_id = None,\n",
    "):\n",
    "    for label in labels:\n",
    "        if label not in label_names:\n",
    "            return f'La etiqueta {label} no existe'\n",
    "    try:\n",
    "        task = api.add_task(\n",
    "            assignee_id = assignee_id,\n",
    "            comment_count = comment_count,\n",
    "            content = content,\n",
    "            description = description,\n",
    "            due = due,\n",
    "            duration = duration,\n",
    "            labels = labels,\n",
    "            order = order,\n",
    "            priority = fun.priorityInversal(priority),\n",
    "            project_id = project_id,\n",
    "            section_id = section_id,\n",
    "            parent_id = parent_id,\n",
    "        )\n",
    "        print(f'Task \"{task.content}\" ({task.id}) was created correctly')\n",
    "    except Exception as error:\n",
    "        print(error)"
   ]
  },
  {
   "cell_type": "code",
   "execution_count": 99,
   "metadata": {},
   "outputs": [],
   "source": [
    "# createTask(content='Prueba',\n",
    "#             labels=['Short'],\n",
    "#             priority=1,\n",
    "#             due={\"string\":\"today\"}\n",
    "# )\n",
    "# all_tasks, task_dict_id, task_dict_name = refreshTasks()"
   ]
  },
  {
   "cell_type": "markdown",
   "metadata": {},
   "source": [
    "#### Editing tasks"
   ]
  },
  {
   "cell_type": "code",
   "execution_count": 100,
   "metadata": {},
   "outputs": [],
   "source": [
    "def editTask(\n",
    "    task_id,\n",
    "    _content = None,\n",
    "    _assignee_id = None,\n",
    "    _description = None,\n",
    "    _due_string = None,\n",
    "    _due_date = None,\n",
    "    _due_datetime = None,\n",
    "    _labels = None,\n",
    "    _priority = None,\n",
    "):\n",
    "    task = fun.getTask(task_id)\n",
    "    content = task.content if _content==None else _content\n",
    "    assignee_id = task.assignee_id if _assignee_id==None else _assignee_id\n",
    "    description = task.description if _description==None else _description\n",
    "    due_string = task.due.string if _due_string==None else _due_string\n",
    "    due_date = task.due.date if _due_date==None else _due_date\n",
    "    due_datetime = task.due.datetime if _due_datetime==None else _due_datetime\n",
    "    labels = _labels if _labels!=None else task.labels\n",
    "    priority = task.priority if _priority==None else _priority\n",
    "    \n",
    "    for label in labels:\n",
    "        if label not in label_names:\n",
    "            return f'La etiqueta {label} no existe'\n",
    "    try:\n",
    "        api.update_task(\n",
    "            task_id = task_id,\n",
    "            assignee_id = assignee_id,\n",
    "            content = content,\n",
    "            description = description,\n",
    "            labels = labels,\n",
    "            priority = priority,\n",
    "            _due_string = due_string,\n",
    "            _due_date = due_date,\n",
    "            _due_datetime = due_datetime\n",
    "        )\n",
    "        print(f'Task {content} updated correctly')\n",
    "    except Exception as error:\n",
    "        print(error)"
   ]
  },
  {
   "cell_type": "markdown",
   "metadata": {},
   "source": [
    "#### Add duration label"
   ]
  },
  {
   "cell_type": "code",
   "execution_count": 101,
   "metadata": {},
   "outputs": [],
   "source": [
    "def updateTaskDurationLabel(task_id, task_duration):\n",
    "    duration_label = fun.getDurationLabel(task_duration)\n",
    "    task_id = task_id[0]\n",
    "    task_labels_without_duration = fun.getLabelsWithoutDuration(task_id)\n",
    "    task_labels_without_duration.append(duration_label)\n",
    "    editTask(task_id=task_id,\n",
    "             _labels=task_labels_without_duration)"
   ]
  },
  {
   "cell_type": "code",
   "execution_count": 102,
   "metadata": {},
   "outputs": [
    {
     "name": "stdout",
     "output_type": "stream",
     "text": [
      "No task to be updated\n"
     ]
    }
   ],
   "source": [
    "all_tasks = fun.getTasks()\n",
    "task_dict_id, task_dict_name = fun.getTasksDicts(all_tasks, projects_dict_id, projects_dict_name)\n",
    "to_update = False\n",
    "\n",
    "for task in all_tasks:\n",
    "    if task['duration'] != None and task['due'] != None:\n",
    "        if fun.getDurationLabel(task['duration']['amount']) not in task['labels']:\n",
    "            to_update = True\n",
    "            updateTaskDurationLabel([task['id']], task['duration']['amount'])\n",
    "\n",
    "if not to_update:\n",
    "    print('No task to be updated')\n",
    "else:\n",
    "    all_tasks, task_dict_id, task_dict_name = refreshTasks()"
   ]
  },
  {
   "cell_type": "markdown",
   "metadata": {},
   "source": [
    "#### Capitalize titles"
   ]
  },
  {
   "cell_type": "code",
   "execution_count": 103,
   "metadata": {},
   "outputs": [
    {
     "name": "stdout",
     "output_type": "stream",
     "text": [
      "No tasks to be updated\n"
     ]
    }
   ],
   "source": [
    "to_update = False\n",
    "for task in all_tasks:\n",
    "    if task[\"content\"][0].upper() != task[\"content\"][0]:\n",
    "        to_update = True\n",
    "        task_id = task[\"id\"]\n",
    "        editTask(task_id = task_id,\n",
    "            _content = task[\"content\"][0].upper() + task[\"content\"][1:])\n",
    "\n",
    "if not to_update:\n",
    "    print(\"No tasks to be updated\")\n",
    "else:\n",
    "    all_tasks, task_dict_id, task_dict_name = refreshTasks()"
   ]
  },
  {
   "cell_type": "markdown",
   "metadata": {},
   "source": [
    "#### Uncomplete recurring tasks"
   ]
  },
  {
   "cell_type": "code",
   "execution_count": 104,
   "metadata": {},
   "outputs": [],
   "source": [
    "with open('recurringtasksdiego', 'r') as archivo_json:\n",
    "    recurringtasks = json.load(archivo_json)"
   ]
  },
  {
   "cell_type": "code",
   "execution_count": 105,
   "metadata": {},
   "outputs": [
    {
     "name": "stdout",
     "output_type": "stream",
     "text": [
      "No tasks to be updated\n"
     ]
    }
   ],
   "source": [
    "to_update = False\n",
    "for task_id in recurringtasks.keys():\n",
    "    task = fun.getTask(task_id)\n",
    "    if task.is_completed == True:\n",
    "        to_update = True\n",
    "        fun.uncompleteTask(task_id)\n",
    "        if 'Vacations' in task.labels:\n",
    "            editTask(task_id=task_id,\n",
    "                     _due_date=\"\", _due_string=\"Today\", _due_datetime=\"\") #no pilla bien las fechas\n",
    "if not to_update:\n",
    "    print(\"No tasks to be updated\")\n",
    "else:\n",
    "    all_tasks, task_dict_id, task_dict_name = refreshTasks()"
   ]
  },
  {
   "cell_type": "markdown",
   "metadata": {},
   "source": [
    "#### Export all tasks and it's status"
   ]
  },
  {
   "cell_type": "code",
   "execution_count": 106,
   "metadata": {},
   "outputs": [],
   "source": [
    "tasks = api.get_tasks()\n",
    "recurringtasks={}\n",
    "for task in tasks:\n",
    "    if 'Recurring' in task.labels:\n",
    "        recurringtasks[task.id]=task.is_completed\n",
    "with open('recurringtasksdiego', 'w') as file:\n",
    "    json.dump(recurringtasks, file)"
   ]
  }
 ],
 "metadata": {
  "kernelspec": {
   "display_name": "base",
   "language": "python",
   "name": "python3"
  },
  "language_info": {
   "codemirror_mode": {
    "name": "ipython",
    "version": 3
   },
   "file_extension": ".py",
   "mimetype": "text/x-python",
   "name": "python",
   "nbconvert_exporter": "python",
   "pygments_lexer": "ipython3",
   "version": "3.12.0"
  }
 },
 "nbformat": 4,
 "nbformat_minor": 2
}
