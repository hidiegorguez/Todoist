{
 "cells": [
  {
   "cell_type": "markdown",
   "metadata": {},
   "source": [
    "<img src=\"logo.png\" width=\"420px\">\n",
    "\n",
    "# `TODOIST AUTOMATION`"
   ]
  },
  {
   "cell_type": "markdown",
   "metadata": {},
   "source": [
    "### Settings"
   ]
  },
  {
   "cell_type": "markdown",
   "metadata": {},
   "source": [
    "#### Libraries"
   ]
  },
  {
   "cell_type": "code",
   "execution_count": 63,
   "metadata": {},
   "outputs": [],
   "source": [
    "from todoist_api_python.api import TodoistAPI\n",
    "from datetime import datetime, timedelta, timezone\n",
    "import functions as fun\n",
    "import random"
   ]
  },
  {
   "cell_type": "markdown",
   "metadata": {},
   "source": [
    "#### Dependences"
   ]
  },
  {
   "cell_type": "code",
   "execution_count": 64,
   "metadata": {},
   "outputs": [],
   "source": [
    "import credentials"
   ]
  },
  {
   "cell_type": "markdown",
   "metadata": {},
   "source": [
    "#### API"
   ]
  },
  {
   "cell_type": "code",
   "execution_count": 65,
   "metadata": {},
   "outputs": [],
   "source": [
    "api_token = credentials.api_token\n",
    "api = TodoistAPI(api_token)\n",
    "headers = {\n",
    "    \"Content-Type\": \"application/json\",\n",
    "    \"X-Request-Id\": \"un_valor_único_por_cada_solicitud\",\n",
    "    \"Authorization\": f\"Bearer {api_token}\"\n",
    "}"
   ]
  },
  {
   "cell_type": "markdown",
   "metadata": {},
   "source": [
    "### `Data`"
   ]
  },
  {
   "cell_type": "markdown",
   "metadata": {},
   "source": [
    "#### Projects"
   ]
  },
  {
   "cell_type": "code",
   "execution_count": 66,
   "metadata": {},
   "outputs": [],
   "source": [
    "all_projects = fun.getProjects()\n",
    "projects_dict_id, projects_dict_name = fun.getProjectsDicts(all_projects)"
   ]
  },
  {
   "cell_type": "markdown",
   "metadata": {},
   "source": [
    "#### Tasks"
   ]
  },
  {
   "cell_type": "code",
   "execution_count": 67,
   "metadata": {},
   "outputs": [],
   "source": [
    "all_tasks = fun.getTasks()\n",
    "task_dict_id, task_dict_name = fun.getTasksDicts(all_tasks, projects_dict_id, projects_dict_name)"
   ]
  },
  {
   "cell_type": "markdown",
   "metadata": {},
   "source": [
    "#### Sections"
   ]
  },
  {
   "cell_type": "code",
   "execution_count": 68,
   "metadata": {},
   "outputs": [],
   "source": [
    "all_sections = fun.getSections()\n",
    "sections_dict_id, sections_dict_name = fun.getSectionsDicts(all_sections)"
   ]
  },
  {
   "cell_type": "markdown",
   "metadata": {},
   "source": [
    "#### Test"
   ]
  },
  {
   "cell_type": "code",
   "execution_count": 69,
   "metadata": {},
   "outputs": [
    {
     "name": "stdout",
     "output_type": "stream",
     "text": [
      "Cubo stickerless - No date - Incubadora\n"
     ]
    }
   ],
   "source": [
    "index = random.randint(0,len(all_tasks))\n",
    "try:\n",
    "    print(all_tasks[index]['content'], \"-\", all_tasks[index]['due']['date'], \"-\", projects_dict_id[all_tasks[index]['project_id']])\n",
    "except TypeError:\n",
    "    print(all_tasks[index]['content'], \"-\", \"No date\" , \"-\",projects_dict_id[all_tasks[index]['project_id']])"
   ]
  },
  {
   "cell_type": "markdown",
   "metadata": {},
   "source": [
    "#### Labels"
   ]
  },
  {
   "cell_type": "code",
   "execution_count": 70,
   "metadata": {},
   "outputs": [
    {
     "data": {
      "text/plain": [
       "['Med',\n",
       " 'PC',\n",
       " 'Phone',\n",
       " 'Short',\n",
       " 'Home',\n",
       " 'Long',\n",
       " 'Outside',\n",
       " '❌_streak',\n",
       " '✅_streak',\n",
       " 'Recurring',\n",
       " 'Vacations']"
      ]
     },
     "execution_count": 70,
     "metadata": {},
     "output_type": "execute_result"
    }
   ],
   "source": [
    "label_names=[]\n",
    "for task in all_tasks:\n",
    "    gross_labels=task['labels']\n",
    "    for label in gross_labels:\n",
    "        if label not in label_names:\n",
    "            label_names.append(label)\n",
    "label_names"
   ]
  },
  {
   "cell_type": "markdown",
   "metadata": {},
   "source": [
    "#### F1 Calendar"
   ]
  },
  {
   "cell_type": "code",
   "execution_count": 71,
   "metadata": {},
   "outputs": [],
   "source": [
    "def getF1Calendar():\n",
    "    return True"
   ]
  },
  {
   "cell_type": "markdown",
   "metadata": {},
   "source": [
    "### `Orders`"
   ]
  },
  {
   "cell_type": "markdown",
   "metadata": {},
   "source": [
    "#### Creating tasks"
   ]
  },
  {
   "cell_type": "code",
   "execution_count": 72,
   "metadata": {},
   "outputs": [],
   "source": [
    "def createTask(\n",
    "    assignee_id = None,\n",
    "    comment_count = 0,\n",
    "    is_completed = False,\n",
    "    content = \"No se añadio título\",\n",
    "    description = None,\n",
    "    due = None,\n",
    "    duration = None,\n",
    "    labels = [],\n",
    "    order = 1,\n",
    "    priority = 4,\n",
    "    project_id = projects_dict_name['Inbox'],\n",
    "    section_id = None,\n",
    "    parent_id = None,\n",
    "):\n",
    "    for label in labels:\n",
    "        if label not in label_names:\n",
    "            return f'La etiqueta {label} no existe'\n",
    "    try:\n",
    "        task = api.add_task(\n",
    "            assignee_id = assignee_id,\n",
    "            comment_count = comment_count,\n",
    "            is_completed = is_completed,\n",
    "            content = content,\n",
    "            description = description,\n",
    "            due = due,\n",
    "            duration = duration,\n",
    "            labels = labels,\n",
    "            order = order,\n",
    "            priority = fun.priorityInversal(priority),\n",
    "            project_id = project_id,\n",
    "            section_id = section_id,\n",
    "            parent_id = parent_id,\n",
    "        )\n",
    "        print(f'Task \"{task.content}\" ({task.id}) was created correctly')\n",
    "    except Exception as error:\n",
    "        print(error)"
   ]
  },
  {
   "cell_type": "code",
   "execution_count": 73,
   "metadata": {},
   "outputs": [
    {
     "name": "stdout",
     "output_type": "stream",
     "text": [
      "Task \"Prueba\" (7809879737) was created correctly\n"
     ]
    }
   ],
   "source": [
    "createTask(content='Prueba',\n",
    "            labels=['Short'],\n",
    "            priority=1,\n",
    "            due={\"string\":\"today\"}\n",
    ")\n",
    "all_tasks = fun.getTasks()\n",
    "task_dict_id, task_dict_name = fun.getTasksDicts(all_tasks, projects_dict_id, projects_dict_name)"
   ]
  },
  {
   "cell_type": "markdown",
   "metadata": {},
   "source": [
    "#### Editing tasks"
   ]
  },
  {
   "cell_type": "code",
   "execution_count": 88,
   "metadata": {},
   "outputs": [],
   "source": [
    "def editTask(\n",
    "    task_id,\n",
    "    _content = None,\n",
    "    _assignee_id = None,\n",
    "    _comment_count = None,\n",
    "    _is_completed = None,\n",
    "    _description = None,\n",
    "    _due = {},\n",
    "    _labels = None,\n",
    "    _order = None,\n",
    "    _priority = None,\n",
    "    _project_id = None,\n",
    "    _section_id = None,\n",
    "    _parent_id = None,\n",
    "):\n",
    "    task = fun.getTask(task_id)\n",
    "    content = task.content if _content==None else _content\n",
    "    assignee_id = task.assignee_id if _assignee_id==None else _assignee_id\n",
    "    comment_count = task.comment_count if _comment_count==None else _comment_count\n",
    "    is_completed = task.is_completed if _is_completed==None else _is_completed\n",
    "    description = task.description if _description==None else _description\n",
    "    due = task.due if _due=={None} else _due\n",
    "    labels = _labels if _labels!=None else task.labels\n",
    "    order = task.order if _order==None else None\n",
    "    priority = task.priority if _priority==None else _priority\n",
    "    project_id = task.project_id if _project_id==None else _project_id\n",
    "    section_id = task.section_id if _section_id==None else _section_id\n",
    "    parent_id = task.parent_id if _parent_id==None else _parent_id\n",
    "    \n",
    "    for label in labels:\n",
    "        if label not in label_names:\n",
    "            return f'La etiqueta {label} no existe'\n",
    "    try:\n",
    "        api.update_task(\n",
    "            task_id = task_id,\n",
    "            assignee_id = assignee_id,\n",
    "            comment_count = comment_count,\n",
    "            is_completed = is_completed,\n",
    "            content = content,\n",
    "            description = description,\n",
    "            labels = labels,\n",
    "            order = order,\n",
    "            priority = priority,\n",
    "            project_id = project_id,\n",
    "            section_id = section_id,\n",
    "            parent_id = parent_id,\n",
    "            due = due\n",
    "        )\n",
    "        print(f'Task {content} updated correctly')\n",
    "    except Exception as error:\n",
    "        print(error)"
   ]
  },
  {
   "cell_type": "code",
   "execution_count": 89,
   "metadata": {},
   "outputs": [
    {
     "data": {
      "text/plain": [
       "['7809818433', 'Main']"
      ]
     },
     "execution_count": 89,
     "metadata": {},
     "output_type": "execute_result"
    }
   ],
   "source": [
    "task_dict_name['Truco Outlook']"
   ]
  },
  {
   "cell_type": "markdown",
   "metadata": {},
   "source": [
    "#### Add duration label"
   ]
  },
  {
   "cell_type": "code",
   "execution_count": 75,
   "metadata": {},
   "outputs": [],
   "source": [
    "def updateTaskDurationLabel(task_id, task_duration):\n",
    "    duration_label = fun.getDurationLabel(task_duration)\n",
    "    task_id = task_id[0]\n",
    "    task_labels_without_duration = fun.getLabelsWithoutDuration(task_id)\n",
    "    task_labels_without_duration.append(duration_label)\n",
    "    editTask(task_id=task_id,\n",
    "             _labels=task_labels_without_duration)"
   ]
  },
  {
   "cell_type": "code",
   "execution_count": 76,
   "metadata": {},
   "outputs": [
    {
     "name": "stdout",
     "output_type": "stream",
     "text": [
      "Task Manchester City vs Arsenal updated correctly\n",
      "Task Real Madrid vs Barcelona updated correctly\n"
     ]
    }
   ],
   "source": [
    "all_tasks = fun.getTasks()\n",
    "task_dict_id, task_dict_name = fun.getTasksDicts(all_tasks, projects_dict_id, projects_dict_name)\n",
    "to_update = False\n",
    "\n",
    "for task in all_tasks:\n",
    "    if task['duration'] != None and task['due'] != None:\n",
    "        if fun.getDurationLabel(task['duration']['amount']) not in task['labels']:\n",
    "            to_update = True\n",
    "            updateTaskDurationLabel([task['id']], task['duration']['amount'])\n",
    "\n",
    "if not to_update:\n",
    "    print('No task to be updated')\n",
    "else:\n",
    "    all_tasks = fun.getTasks()\n",
    "    task_dict_id, task_dict_name = fun.getTasksDicts(all_tasks, projects_dict_id, projects_dict_name)"
   ]
  },
  {
   "cell_type": "markdown",
   "metadata": {},
   "source": [
    "#### Capitalize titles"
   ]
  },
  {
   "cell_type": "code",
   "execution_count": 94,
   "metadata": {},
   "outputs": [
    {
     "name": "stdout",
     "output_type": "stream",
     "text": [
      "TRUCO OUTLOOK\n",
      "Task Truco outlook updated correctly\n"
     ]
    }
   ],
   "source": [
    "task_id = '7809818433'\n",
    "task = api.get_task(task_id = task_id)\n",
    "print(task.content)\n",
    "editTask(task_id = task_id,\n",
    "         _content = (task.content).capitalize())"
   ]
  }
 ],
 "metadata": {
  "kernelspec": {
   "display_name": "base",
   "language": "python",
   "name": "python3"
  },
  "language_info": {
   "codemirror_mode": {
    "name": "ipython",
    "version": 3
   },
   "file_extension": ".py",
   "mimetype": "text/x-python",
   "name": "python",
   "nbconvert_exporter": "python",
   "pygments_lexer": "ipython3",
   "version": "3.12.0"
  }
 },
 "nbformat": 4,
 "nbformat_minor": 2
}
