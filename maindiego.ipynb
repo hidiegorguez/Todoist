{
 "cells": [
  {
   "cell_type": "markdown",
   "metadata": {},
   "source": [
    "<img src=\"logo.png\" width=\"420px\">\n",
    "\n",
    "# <span style=\"font-family:Cascadia mono; color:#db5a5a\">TODOIST AUTOMATION - DIEGO</span>"
   ]
  },
  {
   "cell_type": "markdown",
   "metadata": {},
   "source": [
    "## <span style=\"font-family:Cascadia mono; color:#db6a6a\">Settings</span>"
   ]
  },
  {
   "cell_type": "markdown",
   "metadata": {},
   "source": [
    "### Libraries"
   ]
  },
  {
   "cell_type": "code",
   "execution_count": 1,
   "metadata": {},
   "outputs": [],
   "source": [
    "from todoist_api_python.api import TodoistAPI\n",
    "from datetime import datetime, timedelta, timezone\n",
    "import functions as fun\n",
    "import random\n",
    "import json\n",
    "import time"
   ]
  },
  {
   "cell_type": "markdown",
   "metadata": {},
   "source": [
    "### Runtime"
   ]
  },
  {
   "cell_type": "code",
   "execution_count": 2,
   "metadata": {},
   "outputs": [],
   "source": [
    "start_time = time.time()"
   ]
  },
  {
   "cell_type": "markdown",
   "metadata": {},
   "source": [
    "### Dependences"
   ]
  },
  {
   "cell_type": "code",
   "execution_count": 3,
   "metadata": {},
   "outputs": [],
   "source": [
    "import credentials"
   ]
  },
  {
   "cell_type": "markdown",
   "metadata": {},
   "source": [
    "### API"
   ]
  },
  {
   "cell_type": "code",
   "execution_count": 4,
   "metadata": {},
   "outputs": [],
   "source": [
    "api_token = credentials.api_token\n",
    "api = TodoistAPI(api_token)"
   ]
  },
  {
   "cell_type": "markdown",
   "metadata": {},
   "source": [
    "## <span style=\"font-family:Cascadia mono; color:#db6a6a\">Data</span>"
   ]
  },
  {
   "cell_type": "markdown",
   "metadata": {},
   "source": [
    "#### Projects"
   ]
  },
  {
   "cell_type": "code",
   "execution_count": 5,
   "metadata": {},
   "outputs": [],
   "source": [
    "all_projects = fun.getProjects()\n",
    "projects_dict_id, projects_dict_name = fun.getProjectsDicts(all_projects)"
   ]
  },
  {
   "cell_type": "markdown",
   "metadata": {},
   "source": [
    "#### Tasks"
   ]
  },
  {
   "cell_type": "code",
   "execution_count": 6,
   "metadata": {},
   "outputs": [],
   "source": [
    "def refreshTasks():\n",
    "    all_tasks = fun.getTasks()\n",
    "    task_dict_id, task_dict_name = fun.getTasksDicts(all_tasks, projects_dict_id, projects_dict_name)\n",
    "    return all_tasks, task_dict_id, task_dict_name"
   ]
  },
  {
   "cell_type": "code",
   "execution_count": 7,
   "metadata": {},
   "outputs": [],
   "source": [
    "all_tasks, task_dict_id, task_dict_name = refreshTasks()"
   ]
  },
  {
   "cell_type": "markdown",
   "metadata": {},
   "source": [
    "#### Sections"
   ]
  },
  {
   "cell_type": "code",
   "execution_count": 8,
   "metadata": {},
   "outputs": [],
   "source": [
    "all_sections = fun.getSections()\n",
    "sections_dict_id, sections_dict_name = fun.getSectionsDicts(all_sections)"
   ]
  },
  {
   "cell_type": "markdown",
   "metadata": {},
   "source": [
    "#### Test"
   ]
  },
  {
   "cell_type": "code",
   "execution_count": 9,
   "metadata": {},
   "outputs": [
    {
     "name": "stdout",
     "output_type": "stream",
     "text": [
      "* Practice 1 - No date - Fórmula 1\n"
     ]
    }
   ],
   "source": [
    "index = random.randint(0,len(all_tasks))\n",
    "try:\n",
    "    print(all_tasks[index]['content'], \"-\", all_tasks[index]['due']['date'], \"-\", projects_dict_id[all_tasks[index]['project_id']])\n",
    "except TypeError:\n",
    "    print(all_tasks[index]['content'], \"-\", \"No date\" , \"-\",projects_dict_id[all_tasks[index]['project_id']],)"
   ]
  },
  {
   "cell_type": "markdown",
   "metadata": {},
   "source": [
    "#### Labels"
   ]
  },
  {
   "cell_type": "code",
   "execution_count": 10,
   "metadata": {},
   "outputs": [
    {
     "data": {
      "text/plain": [
       "['Med',\n",
       " 'PC',\n",
       " 'Recurring',\n",
       " 'Phone',\n",
       " 'Short',\n",
       " 'Home',\n",
       " 'Long',\n",
       " 'Outside',\n",
       " '❌_streak',\n",
       " '✅_streak',\n",
       " 'Vacations']"
      ]
     },
     "execution_count": 10,
     "metadata": {},
     "output_type": "execute_result"
    }
   ],
   "source": [
    "label_names=[]\n",
    "for task in all_tasks:\n",
    "    gross_labels=task['labels']\n",
    "    for label in gross_labels:\n",
    "        if label not in label_names:\n",
    "            label_names.append(label)\n",
    "label_names"
   ]
  },
  {
   "cell_type": "markdown",
   "metadata": {},
   "source": [
    "#### F1 Calendar"
   ]
  },
  {
   "cell_type": "code",
   "execution_count": 11,
   "metadata": {},
   "outputs": [],
   "source": [
    "def getF1Calendar():\n",
    "    return True"
   ]
  },
  {
   "cell_type": "markdown",
   "metadata": {},
   "source": [
    "\n",
    "## <span style=\"font-family:Cascadia mono; color:#db6a6a\">Orders</span>"
   ]
  },
  {
   "cell_type": "markdown",
   "metadata": {},
   "source": [
    "#### <span style=\"font-family:Cascadia mono; color:silver\">Create and edit tasks</span>"
   ]
  },
  {
   "cell_type": "code",
   "execution_count": 12,
   "metadata": {},
   "outputs": [],
   "source": [
    "def createTask(\n",
    "    content = \"Tarea creada automáticamente\",\n",
    "    description = None,\n",
    "    project_id = projects_dict_name['Inbox'],\n",
    "    section_id = None,\n",
    "    parent_id = None,\n",
    "    order = 1,\n",
    "    labels = [],\n",
    "    priority = 1,\n",
    "    comment_count = 0,\n",
    "    due_string = None,\n",
    "    due_date = None,\n",
    "    due_datetime = None,\n",
    "    due_lang = None,\n",
    "    assignee_id = None,\n",
    "    duration = None,\n",
    "    duration_unit = None\n",
    "):\n",
    "    for label in labels:\n",
    "        if label not in label_names:\n",
    "            return f'La etiqueta {label} no existe'\n",
    "    try:\n",
    "        task = api.add_task(\n",
    "            assignee_id = assignee_id,\n",
    "            comment_count = comment_count,\n",
    "            content = content,\n",
    "            description = description,\n",
    "            due_string = due_string,\n",
    "            due_date = due_date,\n",
    "            due_datetime = due_datetime,\n",
    "            due_lang = due_lang,\n",
    "            duration = duration,\n",
    "            labels = labels,\n",
    "            order = order,\n",
    "            priority = fun.priorityInversal(priority),\n",
    "            project_id = project_id,\n",
    "            section_id = section_id,\n",
    "            parent_id = parent_id,\n",
    "            duration_unit = duration_unit\n",
    "        )\n",
    "        print(f'Task \"{task.content}\" ({task.id}) was created correctly')\n",
    "    except Exception as error:\n",
    "        print(error)\n",
    "        \n",
    "def editTask(\n",
    "    task_id,\n",
    "    content = None,\n",
    "    assignee_id = None,\n",
    "    description = None,\n",
    "    due_date = None,\n",
    "    due_string = None,\n",
    "    due_datetime = None,\n",
    "    labels = None,\n",
    "    priority = None,\n",
    "):\n",
    "    task = api.get_task(task_id)\n",
    "    labels = task.labels if labels == None else labels\n",
    "    content = task.content if content == None else content\n",
    "    for label in labels:\n",
    "        if label not in label_names:\n",
    "            return f'La etiqueta {label} no existe'\n",
    "    try:\n",
    "        task = api.update_task(\n",
    "            task_id = task_id,\n",
    "            assignee_id = assignee_id,\n",
    "            content = content,\n",
    "            description = description,\n",
    "            labels = labels,\n",
    "            priority = priority,\n",
    "            due_date = due_date,\n",
    "            due_string = due_string,\n",
    "            due_datetime = due_datetime,\n",
    "        )\n",
    "        print(f'Task {content} updated correctly to {task[\"content\"]}')\n",
    "    except Exception as error:\n",
    "        print(error)"
   ]
  },
  {
   "cell_type": "markdown",
   "metadata": {},
   "source": [
    "#### <span style=\"font-family:Cascadia mono; color:silver\">Add duration labels</span>"
   ]
  },
  {
   "cell_type": "code",
   "execution_count": 13,
   "metadata": {},
   "outputs": [],
   "source": [
    "def updateTaskDurationLabel(task_id, task_duration):\n",
    "    duration_label = fun.getDurationLabel(task_duration)\n",
    "    task_id = task_id[0]\n",
    "    task_labels_without_duration = fun.getLabelsWithoutDuration(task_id)\n",
    "    task_labels_without_duration.append(duration_label)\n",
    "    editTask(task_id=task_id,\n",
    "             labels=task_labels_without_duration)"
   ]
  },
  {
   "cell_type": "code",
   "execution_count": 14,
   "metadata": {},
   "outputs": [
    {
     "name": "stdout",
     "output_type": "stream",
     "text": [
      "Task Meeting Goal Spent updated correctly to Meeting Goal Spent\n",
      "Task Reconocimiento médico updated correctly to Reconocimiento médico\n"
     ]
    }
   ],
   "source": [
    "to_update = False\n",
    "for task in all_tasks:\n",
    "    if task['duration'] != None and task['due'] != None:\n",
    "        if fun.getDurationLabel(task['duration']['amount']) not in task['labels']:\n",
    "            to_update = True\n",
    "            updateTaskDurationLabel([task['id']], task['duration']['amount'])\n",
    "\n",
    "if not to_update:\n",
    "    print('No task to be updated')\n",
    "else:\n",
    "    all_tasks, task_dict_id, task_dict_name = refreshTasks()"
   ]
  },
  {
   "cell_type": "markdown",
   "metadata": {},
   "source": [
    "#### <span style=\"font-family:Cascadia mono; color:silver\">Capitalize titles</span>"
   ]
  },
  {
   "cell_type": "code",
   "execution_count": 16,
   "metadata": {},
   "outputs": [
    {
     "name": "stdout",
     "output_type": "stream",
     "text": [
      "Task Montarme yo crm para ver permisos updated correctly to Montarme yo crm para ver permisos\n",
      "Task Hablar con PsicoLink dinámicas de sesiones individuales y remotas updated correctly to Hablar con PsicoLink dinámicas de sesiones individuales y remotas\n",
      "Task Picotazo coche updated correctly to Picotazo coche\n"
     ]
    }
   ],
   "source": [
    "to_update = False\n",
    "for task in all_tasks:\n",
    "    if task[\"content\"][0].upper() != task[\"content\"][0]:\n",
    "        to_update = True\n",
    "        task_id = task[\"id\"]\n",
    "        editTask(task_id = task_id,\n",
    "            content = task[\"content\"][0].upper() + task[\"content\"][1:])\n",
    "\n",
    "if not to_update:\n",
    "    print(\"No tasks to be updated\")\n",
    "else:\n",
    "    all_tasks, task_dict_id, task_dict_name = refreshTasks()"
   ]
  },
  {
   "cell_type": "markdown",
   "metadata": {},
   "source": [
    "#### <span style=\"font-family:Cascadia mono; color:silver\">Uncomplete recurring tasks</span>"
   ]
  },
  {
   "cell_type": "code",
   "execution_count": 17,
   "metadata": {},
   "outputs": [],
   "source": [
    "with open('recurringtasksdiego', 'r') as archivo_json:\n",
    "    recurringtasks = json.load(archivo_json)"
   ]
  },
  {
   "cell_type": "code",
   "execution_count": 18,
   "metadata": {},
   "outputs": [
    {
     "name": "stdout",
     "output_type": "stream",
     "text": [
      "No tasks to be updated\n"
     ]
    }
   ],
   "source": [
    "to_update = False\n",
    "for task_id in recurringtasks.keys():\n",
    "    if fun.getTask(task_id).is_completed:\n",
    "        to_update = True\n",
    "        print(task.id)\n",
    "        fun.uncompleteTask(task_id)\n",
    "        editTask(task_id=task_id,\n",
    "                 due_string=\"No date\")\n",
    "if not to_update:\n",
    "    print(\"No tasks to be updated\")\n",
    "else:\n",
    "    all_tasks, task_dict_id, task_dict_name = refreshTasks()"
   ]
  },
  {
   "cell_type": "markdown",
   "metadata": {},
   "source": [
    "#### <span style=\"font-family:Cascadia mono; color:silver\">Add labels to birthday tasks</span>"
   ]
  },
  {
   "cell_type": "code",
   "execution_count": 19,
   "metadata": {},
   "outputs": [
    {
     "name": "stdout",
     "output_type": "stream",
     "text": [
      "No tasks to be updated\n"
     ]
    }
   ],
   "source": [
    "to_update = False\n",
    "for task in all_tasks:\n",
    "    if task['project_id']==projects_dict_name['Cumpleaños'] and task['labels']!=['Phone','Short']:\n",
    "        to_update = True\n",
    "        editTask(task_id=task['id'],\n",
    "                 labels=['Phone','Short'])\n",
    "        \n",
    "if not to_update:\n",
    "    print(\"No tasks to be updated\")\n",
    "else:\n",
    "    all_tasks, task_dict_id, task_dict_name = refreshTasks()"
   ]
  },
  {
   "cell_type": "markdown",
   "metadata": {},
   "source": [
    "#### <span style=\"font-family:Cascadia mono; color:silver\">Reminder and completion of habit tracking tasks not being completed</span>"
   ]
  },
  {
   "cell_type": "code",
   "execution_count": 20,
   "metadata": {},
   "outputs": [],
   "source": [
    "# fun.completeTask('')"
   ]
  },
  {
   "cell_type": "markdown",
   "metadata": {},
   "source": [
    "#### <span style=\"font-family:Cascadia mono; color:silver\">Fantasy task due</span>"
   ]
  },
  {
   "cell_type": "code",
   "execution_count": 21,
   "metadata": {},
   "outputs": [],
   "source": [
    "# find next man united premier league game\n",
    "# take it's day date\n",
    "# if it's tuesday, wednesday or thursday, move fantasy to tuesday\n",
    "\n",
    "# editTask('4632052423')"
   ]
  },
  {
   "cell_type": "markdown",
   "metadata": {},
   "source": [
    "## <span style=\"font-family:Cascadia mono; color:#db6a6a\">Results</span>"
   ]
  },
  {
   "cell_type": "markdown",
   "metadata": {},
   "source": [
    "### Export all tasks and it's status"
   ]
  },
  {
   "cell_type": "code",
   "execution_count": 22,
   "metadata": {},
   "outputs": [],
   "source": [
    "tasks = api.get_tasks()\n",
    "recurringtasks={}\n",
    "for task in tasks:\n",
    "    if 'Recurring' in task.labels:\n",
    "        recurringtasks[task.id]=task.is_completed\n",
    "with open('recurringtasksdiego', 'w') as file:\n",
    "    json.dump(recurringtasks, file)"
   ]
  },
  {
   "cell_type": "markdown",
   "metadata": {},
   "source": [
    "### Runtime"
   ]
  },
  {
   "cell_type": "code",
   "execution_count": 23,
   "metadata": {},
   "outputs": [],
   "source": [
    "end_time = time.time()"
   ]
  },
  {
   "cell_type": "code",
   "execution_count": 24,
   "metadata": {},
   "outputs": [
    {
     "name": "stdout",
     "output_type": "stream",
     "text": [
      "Runtime: 89.206 seconds\n"
     ]
    }
   ],
   "source": [
    "print(f'Runtime: {round(end_time- start_time,3)} seconds')"
   ]
  }
 ],
 "metadata": {
  "kernelspec": {
   "display_name": "base",
   "language": "python",
   "name": "python3"
  },
  "language_info": {
   "codemirror_mode": {
    "name": "ipython",
    "version": 3
   },
   "file_extension": ".py",
   "mimetype": "text/x-python",
   "name": "python",
   "nbconvert_exporter": "python",
   "pygments_lexer": "ipython3",
   "version": "3.10.11"
  }
 },
 "nbformat": 4,
 "nbformat_minor": 2
}
