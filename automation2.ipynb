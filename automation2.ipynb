{
 "cells": [
  {
   "cell_type": "markdown",
   "metadata": {},
   "source": [
    "<img src=\"logo.png\" width=\"420px\">\n",
    "\n",
    "# `TODOIST AUTOMATION`"
   ]
  },
  {
   "cell_type": "markdown",
   "metadata": {},
   "source": [
    "### Settings"
   ]
  },
  {
   "cell_type": "markdown",
   "metadata": {},
   "source": [
    "#### Libraries"
   ]
  },
  {
   "cell_type": "code",
   "execution_count": 1,
   "metadata": {},
   "outputs": [],
   "source": [
    "from todoist_api_python.api import TodoistAPI\n",
    "import requests\n",
    "import json\n",
    "import uuid\n",
    "from datetime import datetime, timedelta, timezone\n",
    "import functions as fun"
   ]
  },
  {
   "cell_type": "markdown",
   "metadata": {},
   "source": [
    "#### Dependences"
   ]
  },
  {
   "cell_type": "code",
   "execution_count": 2,
   "metadata": {},
   "outputs": [],
   "source": [
    "import credentials"
   ]
  },
  {
   "cell_type": "markdown",
   "metadata": {},
   "source": [
    "#### API"
   ]
  },
  {
   "cell_type": "code",
   "execution_count": 3,
   "metadata": {},
   "outputs": [],
   "source": [
    "api_token = credentials.api_token\n",
    "api = TodoistAPI(api_token)\n",
    "headers = {\n",
    "    \"Content-Type\": \"application/json\",\n",
    "    \"X-Request-Id\": \"un_valor_único_por_cada_solicitud\",\n",
    "    \"Authorization\": f\"Bearer {api_token}\"\n",
    "}"
   ]
  },
  {
   "cell_type": "markdown",
   "metadata": {},
   "source": [
    "### `Data`"
   ]
  },
  {
   "cell_type": "markdown",
   "metadata": {},
   "source": [
    "#### Projects"
   ]
  },
  {
   "cell_type": "code",
   "execution_count": 4,
   "metadata": {},
   "outputs": [],
   "source": [
    "all_projects = fun.getProjects()\n",
    "projects_dict_id, projects_dict_name = fun.getProjectsDicts(all_projects)"
   ]
  },
  {
   "cell_type": "markdown",
   "metadata": {},
   "source": [
    "#### Tasks"
   ]
  },
  {
   "cell_type": "code",
   "execution_count": 5,
   "metadata": {},
   "outputs": [],
   "source": [
    "all_tasks = fun.getTasks()\n",
    "task_dict_id, task_dict_name = fun.getTasksDicts(all_tasks, projects_dict_id, projects_dict_name)"
   ]
  },
  {
   "cell_type": "markdown",
   "metadata": {},
   "source": [
    "#### Sections"
   ]
  },
  {
   "cell_type": "code",
   "execution_count": 6,
   "metadata": {},
   "outputs": [],
   "source": [
    "all_sections = fun.getSections()\n",
    "sections_dict_id, sections_dict_name = fun.getSectionsDicts(all_sections)"
   ]
  },
  {
   "cell_type": "markdown",
   "metadata": {},
   "source": [
    "#### Test"
   ]
  },
  {
   "cell_type": "code",
   "execution_count": 7,
   "metadata": {},
   "outputs": [
    {
     "name": "stdout",
     "output_type": "stream",
     "text": [
      "Plantilla Top Eleven - No date - Enterrados\n"
     ]
    }
   ],
   "source": [
    "index=150\n",
    "try:\n",
    "    print(all_tasks[index]['content'], \"-\", all_tasks[index]['due']['date'], \"-\", projects_dict_id[all_tasks[index]['project_id']])\n",
    "except TypeError:\n",
    "    print(all_tasks[index]['content'], \"-\", \"No date\" , \"-\",projects_dict_id[all_tasks[index]['project_id']])"
   ]
  },
  {
   "cell_type": "markdown",
   "metadata": {},
   "source": [
    "#### Labels"
   ]
  },
  {
   "cell_type": "code",
   "execution_count": 8,
   "metadata": {},
   "outputs": [
    {
     "data": {
      "text/plain": [
       "['Med',\n",
       " 'PC',\n",
       " 'Móvil',\n",
       " 'Short',\n",
       " 'Casa',\n",
       " 'Long',\n",
       " 'Fuera',\n",
       " '❌_streak',\n",
       " '✅_streak',\n",
       " 'Recurrente',\n",
       " 'Vacaciones']"
      ]
     },
     "execution_count": 8,
     "metadata": {},
     "output_type": "execute_result"
    }
   ],
   "source": [
    "label_names=[]\n",
    "for task in all_tasks:\n",
    "    gross_labels=task['labels']\n",
    "    for label in gross_labels:\n",
    "        if label not in label_names:\n",
    "            label_names.append(label)\n",
    "label_names"
   ]
  },
  {
   "cell_type": "markdown",
   "metadata": {},
   "source": [
    "#### F1 Calendar"
   ]
  },
  {
   "cell_type": "code",
   "execution_count": 9,
   "metadata": {},
   "outputs": [],
   "source": [
    "def getF1Calendar():\n",
    "    return True"
   ]
  },
  {
   "cell_type": "markdown",
   "metadata": {},
   "source": [
    "### `Orders`"
   ]
  },
  {
   "cell_type": "markdown",
   "metadata": {},
   "source": [
    "#### Creating tasks"
   ]
  },
  {
   "cell_type": "code",
   "execution_count": 10,
   "metadata": {},
   "outputs": [],
   "source": [
    "def createTask(\n",
    "    assignee_id = None,\n",
    "    comment_count = 0,\n",
    "    is_completed = False,\n",
    "    content = \"No se añadio título\",\n",
    "    description = \"\",\n",
    "    due = None,\n",
    "    duration = None,\n",
    "    labels = [],\n",
    "    order = 1,\n",
    "    priority = 4,\n",
    "    project_id = projects_dict_name['Inbox'],\n",
    "    section_id = None,\n",
    "    parent_id = None,\n",
    "):\n",
    "    for label in labels:\n",
    "        if label not in label_names:\n",
    "            return f'La etiqueta {label} no existe'\n",
    "    try:\n",
    "        task = api.add_task(\n",
    "            assignee_id = assignee_id,\n",
    "            comment_count = comment_count,\n",
    "            is_completed = is_completed,\n",
    "            content = content,\n",
    "            description = description,\n",
    "            due = due,\n",
    "            duration = duration,\n",
    "            labels = labels,\n",
    "            order = order,\n",
    "            priority = fun.priorityInversal(priority),\n",
    "            project_id = project_id,\n",
    "            section_id = section_id,\n",
    "            parent_id = parent_id,\n",
    "        )\n",
    "        print(f'La tarea {task.content} se creó correctamente. Id = {task.id}')\n",
    "    except Exception as error:\n",
    "        print(error)"
   ]
  },
  {
   "cell_type": "code",
   "execution_count": 11,
   "metadata": {},
   "outputs": [],
   "source": [
    "# create_task(content='Prueba',\n",
    "#             labels=['Short'],\n",
    "#             priority=1,\n",
    "#             description=\"Descripción de prueba\",\n",
    "#             due={\"string\":\"today\"}\n",
    "# )\n",
    "# all_tasks = fun.get_tasks()\n",
    "# task_dict_id, task_dict_name = fun.get_tasks_dicts(all_tasks, projects_dict_id, projects_dict_name)"
   ]
  },
  {
   "cell_type": "markdown",
   "metadata": {},
   "source": [
    "#### Editing tasks"
   ]
  },
  {
   "cell_type": "code",
   "execution_count": 12,
   "metadata": {},
   "outputs": [],
   "source": [
    "def editTask(\n",
    "    task_id,\n",
    "    _content = None,\n",
    "    _assignee_id = None,\n",
    "    _comment_count = None,\n",
    "    _is_completed = None,\n",
    "    _description = None,\n",
    "    _date = None,\n",
    "    _is_recurring = None,\n",
    "    _datetime = None,\n",
    "    _datestring = None,\n",
    "    _labels = None,\n",
    "    _order = None,\n",
    "    _priority = None,\n",
    "    _project_id = None,\n",
    "    _section_id = None,\n",
    "    _parent_id = None,\n",
    "):\n",
    "    task = fun.getTask(task_id)\n",
    "    content = task.content if _content==None else _content\n",
    "    assignee_id = task.assignee_id if _assignee_id==None else _assignee_id\n",
    "    comment_count = task.comment_count if _comment_count==None else _comment_count\n",
    "    is_completed = task.is_completed if _is_completed==None else _is_completed\n",
    "    description = task.description if _description==None else _description\n",
    "    date = task.due.date if _date==None else _date\n",
    "    is_recurring = task.due.is_recurring if _is_recurring==None else _is_recurring\n",
    "    datetime =task.due.datetime if _datetime==None else _datetime\n",
    "    datestring = task.due.string if _datestring==None else _datestring\n",
    "    labels = _labels if _labels!=None else task.labels\n",
    "    order = task.order if _order==None else None\n",
    "    priority = task.priority if _priority==None else _priority\n",
    "    project_id = task.project_id if _project_id==None else _project_id\n",
    "    section_id = task.section_id if _section_id==None else _section_id\n",
    "    parent_id = task.parent_id if _parent_id==None else _parent_id\n",
    "    \n",
    "    for label in labels:\n",
    "        if label not in label_names:\n",
    "            return f'La etiqueta {label} no existe'\n",
    "    try:\n",
    "        api.update_task(\n",
    "            task_id = task_id,\n",
    "            assignee_id = assignee_id,\n",
    "            comment_count = comment_count,\n",
    "            is_completed = is_completed,\n",
    "            content = content,\n",
    "            description = description,\n",
    "            labels = labels,\n",
    "            order = order,\n",
    "            priority = priority,\n",
    "            project_id = project_id,\n",
    "            section_id = section_id,\n",
    "            parent_id = parent_id,\n",
    "            due = {'date':date,\n",
    "                   'is_recurring':is_recurring,\n",
    "                   'datetime':datetime,\n",
    "                   'datestring':datestring},\n",
    "        )\n",
    "        print(f'La tarea se editó correctamente')\n",
    "    except Exception as error:\n",
    "        print(error)"
   ]
  },
  {
   "cell_type": "markdown",
   "metadata": {},
   "source": [
    "#### Add duration label"
   ]
  },
  {
   "cell_type": "code",
   "execution_count": 13,
   "metadata": {},
   "outputs": [],
   "source": [
    "def updateTaskDurationLabel(task_id, task_duration):\n",
    "    duration_label = fun.getDurationLabel(task_duration)\n",
    "    task_labels_without_duration = fun.getLabelsWithoutDuration(task_id)\n",
    "    task_labels_without_duration.append(duration_label)\n",
    "    editTask(task_id=task_id,_labels=task_labels_without_duration)"
   ]
  },
  {
   "cell_type": "code",
   "execution_count": 14,
   "metadata": {},
   "outputs": [
    {
     "name": "stdout",
     "output_type": "stream",
     "text": [
      "No task to be updatet\n"
     ]
    }
   ],
   "source": [
    "all_tasks = fun.getTasks()\n",
    "task_dict_id, task_dict_name = fun.getTasksDicts(all_tasks, projects_dict_id, projects_dict_name)\n",
    "to_update = False\n",
    "\n",
    "for task in all_tasks:\n",
    "    if task['duration'] != None and task['due'] != None:\n",
    "        if fun.getDurationLabel(task['duration']['amount']) not in task['labels']:\n",
    "            to_update = True\n",
    "            updateTaskDurationLabel([task['id']], task['duration']['amount'])\n",
    "\n",
    "if not to_update:\n",
    "    print('No task to be updatet')\n",
    "else:\n",
    "    all_tasks = fun.getTasks()\n",
    "    task_dict_id, task_dict_name = fun.getTasksDicts(all_tasks, projects_dict_id, projects_dict_name)"
   ]
  }
 ],
 "metadata": {
  "kernelspec": {
   "display_name": "base",
   "language": "python",
   "name": "python3"
  },
  "language_info": {
   "codemirror_mode": {
    "name": "ipython",
    "version": 3
   },
   "file_extension": ".py",
   "mimetype": "text/x-python",
   "name": "python",
   "nbconvert_exporter": "python",
   "pygments_lexer": "ipython3",
   "version": "3.10.11"
  }
 },
 "nbformat": 4,
 "nbformat_minor": 2
}
