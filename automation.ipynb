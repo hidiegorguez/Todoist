{
 "cells": [
  {
   "cell_type": "markdown",
   "metadata": {},
   "source": [
    "<img src=\"logo.png\" width=\"420px\">\n",
    "\n",
    "# `TODOIST AUTOMATION`"
   ]
  },
  {
   "cell_type": "markdown",
   "metadata": {},
   "source": [
    "### `Settings`"
   ]
  },
  {
   "cell_type": "markdown",
   "metadata": {},
   "source": [
    "#### Libraries"
   ]
  },
  {
   "cell_type": "code",
   "execution_count": null,
   "metadata": {},
   "outputs": [],
   "source": [
    "import requests\n",
    "import json\n",
    "import uuid\n",
    "from datetime import datetime, timedelta, timezone"
   ]
  },
  {
   "cell_type": "markdown",
   "metadata": {},
   "source": [
    "#### Dependences"
   ]
  },
  {
   "cell_type": "code",
   "execution_count": null,
   "metadata": {},
   "outputs": [],
   "source": [
    "import credentials as cr"
   ]
  },
  {
   "cell_type": "markdown",
   "metadata": {},
   "source": [
    "###  `Data` "
   ]
  },
  {
   "cell_type": "markdown",
   "metadata": {},
   "source": [
    "#### Estraction"
   ]
  },
  {
   "cell_type": "code",
   "execution_count": null,
   "metadata": {},
   "outputs": [],
   "source": [
    "api_token = cr.api_token #SELECT YOUR TODOIST API TOKEN HERE\n",
    "headers = {\n",
    "    \"Content-Type\": \"application/json\",\n",
    "    \"X-Request-Id\": \"un_valor_único_por_cada_solicitud\",\n",
    "    \"Authorization\": f\"Bearer {api_token}\"\n",
    "}"
   ]
  },
  {
   "cell_type": "code",
   "execution_count": null,
   "metadata": {},
   "outputs": [],
   "source": [
    "def get_projects():\n",
    "    data = {\n",
    "        \"sync_token\": \"*\",\n",
    "        \"resource_types\": json.dumps(['projects'])\n",
    "    }\n",
    "    response = requests.post(\"https://api.todoist.com/sync/v9/sync\", headers=headers, data=json.dumps(data))\n",
    "    all_projects = response.json().get('projects', [])\n",
    "    return all_projects"
   ]
  },
  {
   "cell_type": "code",
   "execution_count": null,
   "metadata": {},
   "outputs": [],
   "source": [
    "def get_tasks():\n",
    "    data = {\n",
    "        \"sync_token\": \"*\",\n",
    "        \"resource_types\": json.dumps(['items'])\n",
    "    }\n",
    "    response = requests.post(\"https://api.todoist.com/sync/v9/sync\", headers=headers, data=json.dumps(data))\n",
    "    all_tasks = response.json()[\"items\"]\n",
    "    task_dict_id={}\n",
    "    task_dict_name={}\n",
    "    for task in all_tasks:\n",
    "        task_dict_name[task['content']]=[task['id'],projects_dict_id[task['project_id']]]\n",
    "        task_dict_id[task['id']]=[task['content'],projects_dict_id[task['project_id']]]\n",
    "    return all_tasks, task_dict_id, task_dict_name"
   ]
  },
  {
   "cell_type": "code",
   "execution_count": null,
   "metadata": {},
   "outputs": [],
   "source": [
    "def get_sections():\n",
    "    data = {\n",
    "        \"sync_token\": \"*\",\n",
    "        \"resource_types\": json.dumps(['sections'])\n",
    "    }\n",
    "    response = requests.post(\"https://api.todoist.com/sync/v9/sync\", headers=headers, data=json.dumps(data))\n",
    "    all_sections = response.json()[\"sections\"]\n",
    "    return all_sections"
   ]
  },
  {
   "cell_type": "markdown",
   "metadata": {},
   "source": [
    "#### Projects"
   ]
  },
  {
   "cell_type": "code",
   "execution_count": null,
   "metadata": {},
   "outputs": [],
   "source": [
    "all_projects = get_projects()\n",
    "projects_dict_id={}\n",
    "projects_dict_name={}\n",
    "for project in all_projects:\n",
    "    projects_dict_id[project['id']]=project['name']\n",
    "    projects_dict_name[project['name']]=project['id']\n",
    "projects_dict_id"
   ]
  },
  {
   "cell_type": "markdown",
   "metadata": {},
   "source": [
    "#### Tasks"
   ]
  },
  {
   "cell_type": "code",
   "execution_count": null,
   "metadata": {},
   "outputs": [],
   "source": [
    "all_tasks,task_dict_id,task_dict_name=get_tasks()"
   ]
  },
  {
   "cell_type": "code",
   "execution_count": null,
   "metadata": {},
   "outputs": [],
   "source": [
    "all_tasks[200]"
   ]
  },
  {
   "cell_type": "markdown",
   "metadata": {},
   "source": [
    "#### Sections"
   ]
  },
  {
   "cell_type": "code",
   "execution_count": null,
   "metadata": {},
   "outputs": [],
   "source": [
    "all_sections=get_sections()"
   ]
  },
  {
   "cell_type": "code",
   "execution_count": null,
   "metadata": {},
   "outputs": [],
   "source": [
    "sections_dict_id={}\n",
    "sections_dict_name={}\n",
    "for section in all_sections:\n",
    "    sections_dict_id[section['id']]=section['name']\n",
    "    sections_dict_name[section['name']]=section['id']\n",
    "sections_dict_id"
   ]
  },
  {
   "cell_type": "markdown",
   "metadata": {},
   "source": [
    "#### Test"
   ]
  },
  {
   "cell_type": "code",
   "execution_count": null,
   "metadata": {},
   "outputs": [],
   "source": [
    "index=150\n",
    "print(all_tasks[index]['content'], \"-\", all_tasks[index]['due']['date'], \"-\", projects_dict_id[all_tasks[index]['project_id']])"
   ]
  },
  {
   "cell_type": "markdown",
   "metadata": {},
   "source": [
    "#### Labels"
   ]
  },
  {
   "cell_type": "code",
   "execution_count": null,
   "metadata": {},
   "outputs": [],
   "source": [
    "label_names=[]\n",
    "for task in all_tasks:\n",
    "    gross_labels=task['labels']\n",
    "    for label in gross_labels:\n",
    "        if label not in label_names:\n",
    "            label_names.append(label)\n",
    "label_names"
   ]
  },
  {
   "cell_type": "markdown",
   "metadata": {},
   "source": [
    "### `Orders`"
   ]
  },
  {
   "cell_type": "markdown",
   "metadata": {},
   "source": [
    "#### Creating tasks"
   ]
  },
  {
   "cell_type": "code",
   "execution_count": null,
   "metadata": {},
   "outputs": [],
   "source": [
    "def priority_inversal(n):\n",
    "    if n==1:\n",
    "        return 4\n",
    "    if n==3:\n",
    "        return 2\n",
    "    if n==2:\n",
    "        return 3\n",
    "    if n==4:\n",
    "        return 1"
   ]
  },
  {
   "cell_type": "code",
   "execution_count": null,
   "metadata": {},
   "outputs": [],
   "source": [
    "def create_task(name,project_id,date=\"\",priority=4,labels=[],section=None,parent=None):\n",
    "    \n",
    "    priority=priority_inversal(priority)\n",
    "    \n",
    "    for label in labels:\n",
    "        if label not in label_names:\n",
    "            print(\"La etiqueta no existe\")\n",
    "            labels=[]\n",
    "\n",
    "    headers = {\n",
    "        'Content-Type': 'application/json',\n",
    "        'Authorization': f'Bearer {api_token}',\n",
    "        'X-Request-Id': str(uuid.uuid4()),\n",
    "    }\n",
    "\n",
    "    data = {\n",
    "        'commands': json.dumps([{\n",
    "            'type': 'item_add',\n",
    "            'temp_id': str(uuid.uuid4()),\n",
    "            'uuid': str(uuid.uuid4()),\n",
    "            'args': {\n",
    "                'content': name,\n",
    "                'project_id': project_id,\n",
    "                'due': {\n",
    "                    'date': date\n",
    "                    },\n",
    "                'priority': priority,\n",
    "                'labels': labels,\n",
    "                'section_id': section,\n",
    "                'parent_id': parent\n",
    "            }\n",
    "        }])\n",
    "    }\n",
    "\n",
    "    response = requests.post('https://api.todoist.com/sync/v9/sync', headers=headers, data=json.dumps(data))\n",
    "\n",
    "    if response.status_code == 200:\n",
    "        print(f\"La tarea {name} fue creada exitosamente.\")\n",
    "    else:\n",
    "        print(f\"Error al crear la tarea: {response.status_code}\")"
   ]
  },
  {
   "cell_type": "markdown",
   "metadata": {},
   "source": [
    "#### F1 Calendar"
   ]
  },
  {
   "cell_type": "code",
   "execution_count": null,
   "metadata": {},
   "outputs": [],
   "source": [
    "for i in range(3):    \n",
    "    create_task(name = f\"* GRAN PREMIO {i}\",\n",
    "                project_id = projects_dict_name['Fórmula 1'],\n",
    "                priority = 4,\n",
    "                labels = ['Short'],\n",
    "                section = sections_dict_name['2025'])\n",
    "    \n",
    "all_tasks,task_dict_id,task_dict_name=get_tasks()\n",
    "for i in range(3):\n",
    "    for j in range(3):\n",
    "        create_task(name=f'Practice {j+1}',\n",
    "                    project_id=projects_dict_name['Fórmula 1'],\n",
    "                    priority=3,\n",
    "                    labels=['Med'],\n",
    "                    section=sections_dict_name['2025'],\n",
    "                    parent=task_dict_name[f'* GRAN PREMIO {i}'][0])\n",
    "    create_task(name=f'Qualifying',\n",
    "            project_id=projects_dict_name['Fórmula 1'],\n",
    "            priority=1,\n",
    "            labels=['Med'],\n",
    "            section=sections_dict_name['2025'],\n",
    "            parent=task_dict_name[f'* GRAN PREMIO {i}'][0])\n",
    "    create_task(name=f'Race',\n",
    "            project_id=projects_dict_name['Fórmula 1'],\n",
    "            priority=1,\n",
    "            labels=['Long'],\n",
    "            section=sections_dict_name['2025'],\n",
    "            parent=task_dict_name[f'* GRAN PREMIO {i}'][0])\n"
   ]
  },
  {
   "cell_type": "markdown",
   "metadata": {},
   "source": [
    "#### Task tracking (it desn't work for completed tasks)"
   ]
  },
  {
   "cell_type": "code",
   "execution_count": null,
   "metadata": {},
   "outputs": [],
   "source": [
    "MINUTES=500\n",
    "time_delta = datetime.now(timezone.utc) - timedelta(MINUTES)\n",
    "timestamp = time_delta.timestamp()\n",
    "\n",
    "recently_completed_tasks = [\n",
    "    item for item in all_tasks if item.get('checked') == True and\n",
    "    datetime.strptime(item['date_completed'], \"%Y-%m-%dT%H:%M:%SZ\").replace(tzinfo=timezone.utc).timestamp() > timestamp\n",
    "]\n",
    "\n",
    "# Imprime las tareas completadas recientemente\n",
    "for task in recently_completed_tasks:\n",
    "    print(task['content'], task['date_completed'])"
   ]
  }
 ],
 "metadata": {
  "kernelspec": {
   "display_name": "Python 3",
   "language": "python",
   "name": "python3"
  },
  "language_info": {
   "codemirror_mode": {
    "name": "ipython",
    "version": 3
   },
   "file_extension": ".py",
   "mimetype": "text/x-python",
   "name": "python",
   "nbconvert_exporter": "python",
   "pygments_lexer": "ipython3",
   "version": "3.10.11"
  }
 },
 "nbformat": 4,
 "nbformat_minor": 2
}
