{
 "cells": [
  {
   "cell_type": "markdown",
   "metadata": {},
   "source": [
    "<img src=\"logo.png\" width=\"420px\">\n",
    "\n",
    "# `TODOIST AUTOMATION`"
   ]
  },
  {
   "cell_type": "markdown",
   "metadata": {},
   "source": [
    "### `Settings`"
   ]
  },
  {
   "cell_type": "markdown",
   "metadata": {},
   "source": [
    "#### Libraries"
   ]
  },
  {
   "cell_type": "code",
   "execution_count": 1,
   "metadata": {},
   "outputs": [],
   "source": [
    "import requests\n",
    "import json\n",
    "import uuid\n",
    "from datetime import datetime, timedelta, timezone"
   ]
  },
  {
   "cell_type": "markdown",
   "metadata": {},
   "source": [
    "#### Dependences"
   ]
  },
  {
   "cell_type": "code",
   "execution_count": 2,
   "metadata": {},
   "outputs": [],
   "source": [
    "import credentials as cr"
   ]
  },
  {
   "cell_type": "markdown",
   "metadata": {},
   "source": [
    "###  `Data` "
   ]
  },
  {
   "cell_type": "markdown",
   "metadata": {},
   "source": [
    "#### Estraction"
   ]
  },
  {
   "cell_type": "code",
   "execution_count": 3,
   "metadata": {},
   "outputs": [],
   "source": [
    "api_token = cr.api_token #SELECT YOUR TODOIST API TOKEN HERE\n",
    "headers = {\n",
    "    \"Content-Type\": \"application/json\",\n",
    "    \"X-Request-Id\": \"un_valor_único_por_cada_solicitud\",\n",
    "    \"Authorization\": f\"Bearer {api_token}\"\n",
    "}"
   ]
  },
  {
   "cell_type": "code",
   "execution_count": 4,
   "metadata": {},
   "outputs": [],
   "source": [
    "def get_projects():\n",
    "    data = {\n",
    "        \"sync_token\": \"*\",\n",
    "        \"resource_types\": json.dumps(['projects'])\n",
    "    }\n",
    "    response = requests.post(\"https://api.todoist.com/sync/v9/sync\", headers=headers, data=json.dumps(data))\n",
    "    all_projects = response.json().get('projects', [])\n",
    "    return all_projects"
   ]
  },
  {
   "cell_type": "code",
   "execution_count": 5,
   "metadata": {},
   "outputs": [],
   "source": [
    "def get_tasks():\n",
    "    data = {\n",
    "        \"sync_token\": \"*\",\n",
    "        \"resource_types\": json.dumps(['items'])\n",
    "    }\n",
    "    response = requests.post(\"https://api.todoist.com/sync/v9/sync\", headers=headers, data=json.dumps(data))\n",
    "    all_tasks = response.json()[\"items\"]\n",
    "    task_dict_id={}\n",
    "    task_dict_name={}\n",
    "    for task in all_tasks:\n",
    "        task_dict_name[task['content']]=[task['id'],projects_dict_id[task['project_id']]]\n",
    "        task_dict_id[task['id']]=[task['content'],projects_dict_id[task['project_id']]]\n",
    "    return all_tasks, task_dict_id, task_dict_name"
   ]
  },
  {
   "cell_type": "code",
   "execution_count": 6,
   "metadata": {},
   "outputs": [],
   "source": [
    "def get_sections():\n",
    "    data = {\n",
    "        \"sync_token\": \"*\",\n",
    "        \"resource_types\": json.dumps(['sections'])\n",
    "    }\n",
    "    response = requests.post(\"https://api.todoist.com/sync/v9/sync\", headers=headers, data=json.dumps(data))\n",
    "    all_sections = response.json()[\"sections\"]\n",
    "    return all_sections"
   ]
  },
  {
   "cell_type": "markdown",
   "metadata": {},
   "source": [
    "#### Projects"
   ]
  },
  {
   "cell_type": "code",
   "execution_count": 7,
   "metadata": {},
   "outputs": [
    {
     "data": {
      "text/plain": [
       "{'2258455386': 'Inbox',\n",
       " '2259406345': 'Calendario',\n",
       " '2259150181': 'Fútbol',\n",
       " '2269361803': 'Fútbol archivados',\n",
       " '2259111397': 'Fórmula 1',\n",
       " '2298494169': 'Tareas',\n",
       " '2259719762': 'Diarias',\n",
       " '2259719779': 'Semanales',\n",
       " '2259719838': 'Mensuales',\n",
       " '2307572337': 'Anuales',\n",
       " '2258518194': 'Recordatorios',\n",
       " '2259726698': 'Cumpleaños',\n",
       " '2323776352': 'PPP',\n",
       " '2316607649': 'Publicis',\n",
       " '2328028918': 'Sales Hacking',\n",
       " '2303925714': 'Cursos',\n",
       " '2305010575': 'Allianz',\n",
       " '2320233020': 'GitHub',\n",
       " '2263759336': 'Incubadora',\n",
       " '2258473389': 'Tickler',\n",
       " '2263729931': 'Archivados',\n",
       " '2323984038': 'b',\n",
       " '2273727343': 'Enterrados'}"
      ]
     },
     "execution_count": 7,
     "metadata": {},
     "output_type": "execute_result"
    }
   ],
   "source": [
    "all_projects = get_projects()\n",
    "projects_dict_id={}\n",
    "projects_dict_name={}\n",
    "for project in all_projects:\n",
    "    projects_dict_id[project['id']]=project['name']\n",
    "    projects_dict_name[project['name']]=project['id']\n",
    "projects_dict_id"
   ]
  },
  {
   "cell_type": "markdown",
   "metadata": {},
   "source": [
    "#### Tasks"
   ]
  },
  {
   "cell_type": "code",
   "execution_count": 8,
   "metadata": {},
   "outputs": [],
   "source": [
    "all_tasks,task_dict_id,task_dict_name=get_tasks()"
   ]
  },
  {
   "cell_type": "code",
   "execution_count": 9,
   "metadata": {},
   "outputs": [
    {
     "data": {
      "text/plain": [
       "{'added_at': '2022-09-21T21:20:27.933893Z',\n",
       " 'added_by_uid': '32572547',\n",
       " 'assigned_by_uid': None,\n",
       " 'checked': False,\n",
       " 'child_order': 29,\n",
       " 'collapsed': False,\n",
       " 'completed_at': None,\n",
       " 'content': 'Verdura congelada',\n",
       " 'day_order': -1,\n",
       " 'description': '',\n",
       " 'due': None,\n",
       " 'duration': None,\n",
       " 'id': '6195976964',\n",
       " 'is_deleted': False,\n",
       " 'labels': [],\n",
       " 'parent_id': '6188091556',\n",
       " 'priority': 4,\n",
       " 'project_id': '2263729931',\n",
       " 'responsible_uid': None,\n",
       " 'section_id': None,\n",
       " 'sync_id': None,\n",
       " 'updated_at': '1970-01-01T00:00:00Z',\n",
       " 'user_id': '32572547',\n",
       " 'v2_id': '6Jvh9Mg5vMGH7hj7',\n",
       " 'v2_parent_id': '6Jv8P6H7jh35FqmQ',\n",
       " 'v2_project_id': '6F63g3w6f352G8P4',\n",
       " 'v2_section_id': None}"
      ]
     },
     "execution_count": 9,
     "metadata": {},
     "output_type": "execute_result"
    }
   ],
   "source": [
    "all_tasks[200]"
   ]
  },
  {
   "cell_type": "markdown",
   "metadata": {},
   "source": [
    "#### Sections"
   ]
  },
  {
   "cell_type": "code",
   "execution_count": 10,
   "metadata": {},
   "outputs": [],
   "source": [
    "all_sections=get_sections()"
   ]
  },
  {
   "cell_type": "code",
   "execution_count": 11,
   "metadata": {},
   "outputs": [
    {
     "data": {
      "text/plain": [
       "{'51988025': 'MANCHESTER UNITED',\n",
       " '54450645': 'Otros',\n",
       " '132796518': 'UEFA CHAMPIONS LEAGUE 2023/2024',\n",
       " '138032252': 'UEFA EURO 2024',\n",
       " '54450661': 'UEFA CHAMPIONS LEAGUE 2021_2022',\n",
       " '51987985': 'UEFA EURO 2020',\n",
       " '83399834': 'MANCHESTER UNITED',\n",
       " '85265725': 'FIFA WORLD CUP 2022',\n",
       " '99652236': 'UEFA CHAMPIONS LEAGUE 2022_2023',\n",
       " '135108411': 'Eventos',\n",
       " '135108636': 'Recordatorios',\n",
       " '137136088': 'SMARTs',\n",
       " '137240160': 'Tareas',\n",
       " '137327232': 'SMARTpro',\n",
       " '137327248': 'SMARTex',\n",
       " '138608878': 'Keyword Generator',\n",
       " '139453198': 'Auction Insights',\n",
       " '140074689': 'Keyword Tracking',\n",
       " '140961721': 'Facturación',\n",
       " '134816386': 'JFK Delay Prediction',\n",
       " '134816473': 'CIFAR-10',\n",
       " '134816489': 'Animal Classification App',\n",
       " '134816578': 'Times Up',\n",
       " '134816588': 'Microsoft Malware Detection',\n",
       " '136725407': 'Educational Analysis PISA',\n",
       " '138439288': 'Blockchain Creation',\n",
       " '142986758': 'Todolist',\n",
       " '149422833': 'Todoist',\n",
       " '149457958': 'Expenses',\n",
       " '140324507': 'Investigar',\n",
       " '140324373': 'Sugerencias',\n",
       " '140324378': 'Meeting',\n",
       " '146381401': 'Recuperaciones meeting',\n",
       " '146818295': 'Sugerencias enviadas',\n",
       " '149550150': 'Sugerencias Todoist API',\n",
       " '71850337': '2022',\n",
       " '109943237': '2023',\n",
       " '141032258': '2024',\n",
       " '149984879': '2025',\n",
       " '109218855': 'Excel y Power BI: Visualización de datos',\n",
       " '109218918': 'MySQL',\n",
       " '109218925': 'Python Total',\n",
       " '109218929': 'IA y Deep Learning',\n",
       " '109218939': 'Amazon Web Services',\n",
       " '109218944': 'Scrum',\n",
       " '118422431': 'Excel: Fórmulas y funciones avanzadas',\n",
       " '136621187': 'General',\n",
       " '136621513': 'Practical Deep Learning 1',\n",
       " '136621530': 'Practical Deep Learning 2',\n",
       " '113233891': 'Problemas',\n",
       " '113233903': 'Tareas',\n",
       " '120365195': 'Posibilidades',\n",
       " '146744443': 'Eventos',\n",
       " '146744451': 'Recordatorios',\n",
       " '146744459': 'Tareas',\n",
       " '146744469': 'Para Luis',\n",
       " '149385622': 'Fixcal',\n",
       " '149385971': 'Autotube',\n",
       " '149386003': 'OnlyFans',\n",
       " '149906560': 'ABNB',\n",
       " '149906572': 'Sales K',\n",
       " '119879031': 'Otros',\n",
       " '119879066': 'Películas',\n",
       " '119879175': 'Compras',\n",
       " '119879185': 'Series',\n",
       " '119879186': 'Documentales',\n",
       " '119879188': 'Tweets',\n",
       " '130135693': 'Libros'}"
      ]
     },
     "execution_count": 11,
     "metadata": {},
     "output_type": "execute_result"
    }
   ],
   "source": [
    "sections_dict_id={}\n",
    "sections_dict_name={}\n",
    "for section in all_sections:\n",
    "    sections_dict_id[section['id']]=section['name']\n",
    "    sections_dict_name[section['name']]=section['id']\n",
    "sections_dict_id"
   ]
  },
  {
   "cell_type": "markdown",
   "metadata": {},
   "source": [
    "#### Test"
   ]
  },
  {
   "cell_type": "code",
   "execution_count": 12,
   "metadata": {},
   "outputs": [
    {
     "name": "stdout",
     "output_type": "stream",
     "text": [
      "Lotería Navidad - 2024-12-22T09:00:00 - Recordatorios\n"
     ]
    }
   ],
   "source": [
    "index=150\n",
    "print(all_tasks[index]['content'], \"-\", all_tasks[index]['due']['date'], \"-\", projects_dict_id[all_tasks[index]['project_id']])"
   ]
  },
  {
   "cell_type": "markdown",
   "metadata": {},
   "source": [
    "#### Labels"
   ]
  },
  {
   "cell_type": "code",
   "execution_count": 13,
   "metadata": {},
   "outputs": [
    {
     "data": {
      "text/plain": [
       "['Med',\n",
       " 'PC',\n",
       " 'Móvil',\n",
       " 'Short',\n",
       " 'Casa',\n",
       " 'Long',\n",
       " 'Fuera',\n",
       " '❌_streak',\n",
       " '✅_streak',\n",
       " 'Vacaciones']"
      ]
     },
     "execution_count": 13,
     "metadata": {},
     "output_type": "execute_result"
    }
   ],
   "source": [
    "label_names=[]\n",
    "for task in all_tasks:\n",
    "    gross_labels=task['labels']\n",
    "    for label in gross_labels:\n",
    "        if label not in label_names:\n",
    "            label_names.append(label)\n",
    "label_names"
   ]
  },
  {
   "cell_type": "markdown",
   "metadata": {},
   "source": [
    "### `Orders`"
   ]
  },
  {
   "cell_type": "markdown",
   "metadata": {},
   "source": [
    "#### Creating tasks"
   ]
  },
  {
   "cell_type": "code",
   "execution_count": 14,
   "metadata": {},
   "outputs": [],
   "source": [
    "def priority_inversal(n):\n",
    "    if n==1:\n",
    "        return 4\n",
    "    if n==3:\n",
    "        return 2\n",
    "    if n==2:\n",
    "        return 3\n",
    "    if n==4:\n",
    "        return 1"
   ]
  },
  {
   "cell_type": "code",
   "execution_count": 15,
   "metadata": {},
   "outputs": [],
   "source": [
    "def create_task(name,project_id,date=\"\",priority=4,labels=[],section=None,parent=None):\n",
    "    \n",
    "    priority=priority_inversal(priority)\n",
    "    \n",
    "    for label in labels:\n",
    "        if label not in label_names:\n",
    "            print(\"La etiqueta no existe\")\n",
    "            labels=[]\n",
    "\n",
    "    headers = {\n",
    "        'Content-Type': 'application/json',\n",
    "        'Authorization': f'Bearer {api_token}',\n",
    "        'X-Request-Id': str(uuid.uuid4()),\n",
    "    }\n",
    "\n",
    "    data = {\n",
    "        'commands': json.dumps([{\n",
    "            'type': 'item_add',\n",
    "            'temp_id': str(uuid.uuid4()),\n",
    "            'uuid': str(uuid.uuid4()),\n",
    "            'args': {\n",
    "                'content': name,\n",
    "                'project_id': project_id,\n",
    "                'due': {\n",
    "                    'date': date\n",
    "                    },\n",
    "                'priority': priority,\n",
    "                'labels': labels,\n",
    "                'section_id': section,\n",
    "                'parent_id': parent\n",
    "            }\n",
    "        }])\n",
    "    }\n",
    "\n",
    "    response = requests.post('https://api.todoist.com/sync/v9/sync', headers=headers, data=json.dumps(data))\n",
    "\n",
    "    if response.status_code == 200:\n",
    "        print(f\"La tarea {name} fue creada exitosamente.\")\n",
    "    else:\n",
    "        print(f\"Error al crear la tarea: {response.status_code}\")"
   ]
  },
  {
   "cell_type": "code",
   "execution_count": 16,
   "metadata": {},
   "outputs": [
    {
     "name": "stdout",
     "output_type": "stream",
     "text": [
      "La tarea Prueba Azure fue creada exitosamente.\n"
     ]
    }
   ],
   "source": [
    "create_task(name='Prueba Azure',\n",
    "            priority=1,\n",
    "            project_id=projects_dict_name['Inbox'])"
   ]
  },
  {
   "cell_type": "code",
   "execution_count": null,
   "metadata": {},
   "outputs": [],
   "source": []
  },
  {
   "cell_type": "markdown",
   "metadata": {},
   "source": [
    "#### F1 Calendar"
   ]
  },
  {
   "cell_type": "code",
   "execution_count": null,
   "metadata": {},
   "outputs": [],
   "source": [
    "# for i in range(3):    \n",
    "#     create_task(name = f\"* GRAN PREMIO {i}\",\n",
    "#                 project_id = projects_dict_name['Fórmula 1'],\n",
    "#                 priority = 4,\n",
    "#                 labels = ['Short'],\n",
    "#                 section = sections_dict_name['2025'])\n",
    "    \n",
    "# all_tasks,task_dict_id,task_dict_name=get_tasks()\n",
    "# for i in range(3):\n",
    "#     for j in range(3):\n",
    "#         create_task(name=f'Practice {j+1}',\n",
    "#                     project_id=projects_dict_name['Fórmula 1'],\n",
    "#                     priority=3,\n",
    "#                     labels=['Med'],\n",
    "#                     section=sections_dict_name['2025'],\n",
    "#                     parent=task_dict_name[f'* GRAN PREMIO {i}'][0])\n",
    "#     create_task(name=f'Qualifying',\n",
    "#             project_id=projects_dict_name['Fórmula 1'],\n",
    "#             priority=1,\n",
    "#             labels=['Med'],\n",
    "#             section=sections_dict_name['2025'],\n",
    "#             parent=task_dict_name[f'* GRAN PREMIO {i}'][0])\n",
    "#     create_task(name=f'Race',\n",
    "#             project_id=projects_dict_name['Fórmula 1'],\n",
    "#             priority=1,\n",
    "#             labels=['Long'],\n",
    "#             section=sections_dict_name['2025'],\n",
    "#             parent=task_dict_name[f'* GRAN PREMIO {i}'][0])\n"
   ]
  },
  {
   "cell_type": "markdown",
   "metadata": {},
   "source": [
    "#### Task tracking (it desn't work for completed tasks)"
   ]
  },
  {
   "cell_type": "code",
   "execution_count": null,
   "metadata": {},
   "outputs": [],
   "source": [
    "MINUTES=500\n",
    "time_delta = datetime.now(timezone.utc) - timedelta(MINUTES)\n",
    "timestamp = time_delta.timestamp()\n",
    "\n",
    "recently_completed_tasks = [\n",
    "    item for item in all_tasks if item.get('checked') == True and\n",
    "    datetime.strptime(item['date_completed'], \"%Y-%m-%dT%H:%M:%SZ\").replace(tzinfo=timezone.utc).timestamp() > timestamp\n",
    "]\n",
    "\n",
    "# Imprime las tareas completadas recientemente\n",
    "for task in recently_completed_tasks:\n",
    "    print(task['content'], task['date_completed'])"
   ]
  }
 ],
 "metadata": {
  "kernelspec": {
   "display_name": "Python 3",
   "language": "python",
   "name": "python3"
  },
  "language_info": {
   "codemirror_mode": {
    "name": "ipython",
    "version": 3
   },
   "file_extension": ".py",
   "mimetype": "text/x-python",
   "name": "python",
   "nbconvert_exporter": "python",
   "pygments_lexer": "ipython3",
   "version": "3.10.11"
  }
 },
 "nbformat": 4,
 "nbformat_minor": 2
}
