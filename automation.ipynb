{
 "cells": [
  {
   "cell_type": "markdown",
   "metadata": {},
   "source": [
    "# `TODOIST AUTOMATION`"
   ]
  },
  {
   "cell_type": "markdown",
   "metadata": {},
   "source": [
    "### `Settings`"
   ]
  },
  {
   "cell_type": "markdown",
   "metadata": {},
   "source": [
    "#### Libraries"
   ]
  },
  {
   "cell_type": "code",
   "execution_count": null,
   "metadata": {},
   "outputs": [],
   "source": [
    "import requests\n",
    "import json\n",
    "import time\n",
    "import uuid\n",
    "from datetime import datetime, timedelta, timezone"
   ]
  },
  {
   "cell_type": "markdown",
   "metadata": {},
   "source": [
    "#### Dependences"
   ]
  },
  {
   "cell_type": "code",
   "execution_count": null,
   "metadata": {},
   "outputs": [],
   "source": [
    "import credentials as cr"
   ]
  },
  {
   "cell_type": "markdown",
   "metadata": {},
   "source": [
    "###  `Data` "
   ]
  },
  {
   "cell_type": "markdown",
   "metadata": {},
   "source": [
    "#### Estraction"
   ]
  },
  {
   "cell_type": "code",
   "execution_count": null,
   "metadata": {},
   "outputs": [],
   "source": [
    "api_token = cr.api_token #SELECT YOUR TODOIST API TOKEN HERE\n",
    "headers = {\"Authorization\": f\"Bearer {api_token}\"}"
   ]
  },
  {
   "cell_type": "code",
   "execution_count": null,
   "metadata": {},
   "outputs": [],
   "source": [
    "headers = {\n",
    "    \"Content-Type\": \"application/json\",\n",
    "    \"X-Request-Id\": \"un_valor_único_por_cada_solicitud\",\n",
    "    \"Authorization\": f\"Bearer {api_token}\"\n",
    "}\n",
    "\n",
    "data = {\n",
    "    \"sync_token\": \"*\",\n",
    "    \"resource_types\": json.dumps(['items', 'projects'])\n",
    "}"
   ]
  },
  {
   "cell_type": "code",
   "execution_count": null,
   "metadata": {},
   "outputs": [],
   "source": [
    "response = requests.post(\"https://api.todoist.com/sync/v9/sync\", headers=headers, data=json.dumps(data))\n",
    "print(response.status_code)"
   ]
  },
  {
   "cell_type": "markdown",
   "metadata": {},
   "source": [
    "#### Projects"
   ]
  },
  {
   "cell_type": "code",
   "execution_count": null,
   "metadata": {},
   "outputs": [],
   "source": [
    "all_projects = response.json().get('projects', [])\n",
    "projects_dict={}\n",
    "for project in all_projects:\n",
    "    projects_dict[project['id']]=project['name']\n",
    "projects_dict"
   ]
  },
  {
   "cell_type": "markdown",
   "metadata": {},
   "source": [
    "#### Tasks"
   ]
  },
  {
   "cell_type": "code",
   "execution_count": null,
   "metadata": {},
   "outputs": [],
   "source": [
    "response.json().keys()"
   ]
  },
  {
   "cell_type": "code",
   "execution_count": null,
   "metadata": {},
   "outputs": [],
   "source": [
    "all_tasks=response.json()[\"items\"]"
   ]
  },
  {
   "cell_type": "markdown",
   "metadata": {},
   "source": [
    "#### Test"
   ]
  },
  {
   "cell_type": "code",
   "execution_count": null,
   "metadata": {},
   "outputs": [],
   "source": [
    "index=150\n",
    "print(all_tasks[index]['content'], \"-\", all_tasks[index]['due']['date'], \"-\", projects_dict[all_tasks[index]['project_id']])"
   ]
  },
  {
   "cell_type": "markdown",
   "metadata": {},
   "source": [
    "#### Labels"
   ]
  },
  {
   "cell_type": "code",
   "execution_count": null,
   "metadata": {},
   "outputs": [],
   "source": [
    "label_names=[]\n",
    "for task in all_tasks:\n",
    "    gross_labels=task['labels']\n",
    "    for label in gross_labels:\n",
    "        if label not in label_names:\n",
    "            label_names.append(label)\n",
    "label_names"
   ]
  },
  {
   "cell_type": "markdown",
   "metadata": {},
   "source": [
    "### `Orders`"
   ]
  },
  {
   "cell_type": "markdown",
   "metadata": {},
   "source": [
    "#### Creating tasks"
   ]
  },
  {
   "cell_type": "code",
   "execution_count": null,
   "metadata": {},
   "outputs": [],
   "source": [
    "def priority_inversal(n):\n",
    "    if n==1:\n",
    "        return 4\n",
    "    if n==3:\n",
    "        return 2\n",
    "    if n==2:\n",
    "        return 3\n",
    "    if n==4:\n",
    "        return 1"
   ]
  },
  {
   "cell_type": "code",
   "execution_count": null,
   "metadata": {},
   "outputs": [],
   "source": [
    "def create_task(name,project_id,date=\"\",priority=4,labels=[]):\n",
    "    \n",
    "    priority=priority_inversal(priority)\n",
    "    \n",
    "    for label in labels:\n",
    "        if label not in label_names:\n",
    "            print(\"La etiqueta no existe\")\n",
    "            labels=[]\n",
    "\n",
    "    headers = {\n",
    "        'Content-Type': 'application/json',\n",
    "        'Authorization': f'Bearer {api_token}',\n",
    "        'X-Request-Id': str(uuid.uuid4()),\n",
    "    }\n",
    "\n",
    "    data = {\n",
    "        'commands': json.dumps([{\n",
    "            'type': 'item_add',\n",
    "            'temp_id': str(uuid.uuid4()),\n",
    "            'uuid': str(uuid.uuid4()),\n",
    "            'args': {\n",
    "                'content': name,\n",
    "                'project_id': project_id,\n",
    "                'due': {\n",
    "                    'date': date\n",
    "                    },\n",
    "                'priority': priority,\n",
    "                'labels': labels\n",
    "            }\n",
    "        }])\n",
    "    }\n",
    "\n",
    "    response = requests.post('https://api.todoist.com/sync/v9/sync', headers=headers, data=json.dumps(data))\n",
    "\n",
    "    if response.status_code == 200:\n",
    "        print(\"La tarea fue creada exitosamente.\")\n",
    "    else:\n",
    "        print(f\"Error al crear la tarea: {response.status_code}\")"
   ]
  },
  {
   "cell_type": "code",
   "execution_count": null,
   "metadata": {},
   "outputs": [],
   "source": [
    "create_task(name = \"Testing\",\n",
    "            project_id = 2258455386,\n",
    "            date = '2024-12-22T09:00:00',\n",
    "            priority = 4,\n",
    "            labels = ['Short'])"
   ]
  },
  {
   "cell_type": "markdown",
   "metadata": {},
   "source": [
    "#### Task tracking"
   ]
  },
  {
   "cell_type": "code",
   "execution_count": null,
   "metadata": {},
   "outputs": [],
   "source": [
    "MINUTES=500\n",
    "time_delta = datetime.now(timezone.utc) - timedelta(MINUTES)\n",
    "timestamp = time_delta.timestamp()\n",
    "\n",
    "recently_completed_tasks = [\n",
    "    item for item in all_tasks if item.get('checked') == 1 and\n",
    "    datetime.strptime(item['date_completed'], \"%Y-%m-%dT%H:%M:%SZ\").replace(tzinfo=timezone.utc).timestamp() > timestamp\n",
    "]\n",
    "\n",
    "# Imprime las tareas completadas recientemente\n",
    "for task in recently_completed_tasks:\n",
    "    print(task['content'], task['date_completed'])"
   ]
  },
  {
   "cell_type": "code",
   "execution_count": null,
   "metadata": {},
   "outputs": [],
   "source": [
    "recently_completed_tasks"
   ]
  }
 ],
 "metadata": {
  "kernelspec": {
   "display_name": "Python 3",
   "language": "python",
   "name": "python3"
  },
  "language_info": {
   "codemirror_mode": {
    "name": "ipython",
    "version": 3
   },
   "file_extension": ".py",
   "mimetype": "text/x-python",
   "name": "python",
   "nbconvert_exporter": "python",
   "pygments_lexer": "ipython3",
   "version": "3.10.11"
  }
 },
 "nbformat": 4,
 "nbformat_minor": 2
}
